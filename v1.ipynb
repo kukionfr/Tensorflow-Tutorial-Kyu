{
 "cells": [
  {
   "cell_type": "code",
   "execution_count": 1,
   "metadata": {
    "collapsed": false,
    "jupyter": {
     "outputs_hidden": false
    },
    "pycharm": {
     "name": "#%%\n"
    }
   },
   "outputs": [],
   "source": [
    "%reset"
   ]
  },
  {
   "cell_type": "markdown",
   "metadata": {},
   "source": [
    "##### Copyright 2020 Kyu Sang Han"
   ]
  },
  {
   "cell_type": "code",
   "execution_count": 2,
   "metadata": {
    "collapsed": false,
    "jupyter": {
     "outputs_hidden": false
    },
    "pycharm": {
     "name": "#%%\n"
    }
   },
   "outputs": [],
   "source": [
    "import tensorflow as tf\n",
    "from tensorflow.keras.models import Sequential\n",
    "from tensorflow.keras.layers import Dense, Conv2D, Dropout, MaxPool2D, Flatten, GlobalAveragePooling2D, add,average,maximum\n",
    "from tensorflow_docs import modeling\n",
    "import tensorflow_datasets as tfds\n",
    "import tensorflow_hub as hub\n",
    "import pandas as pd\n",
    "import numpy as np\n",
    "import matplotlib.pyplot as plt\n",
    "import os\n",
    "import pathlib\n",
    "import shutil\n",
    "tfds.disable_progress_bar() # disable tqdm progress bar"
   ]
  },
  {
   "cell_type": "code",
   "execution_count": 3,
   "metadata": {
    "pycharm": {
     "name": "#%%\n"
    }
   },
   "outputs": [
    {
     "name": "stdout",
     "output_type": "stream",
     "text": [
      "TensorFlow Version:  2.1.0\n",
      "Number of GPU available:  2\n"
     ]
    }
   ],
   "source": [
    "print(\"TensorFlow Version: \",tf.__version__)\n",
    "print(\"Number of GPU available: \",len(tf.config.experimental.list_physical_devices(\"GPU\")))"
   ]
  },
  {
   "cell_type": "code",
   "execution_count": 4,
   "metadata": {
    "collapsed": false,
    "jupyter": {
     "outputs_hidden": false
    },
    "pycharm": {
     "name": "#%%\n"
    }
   },
   "outputs": [],
   "source": [
    "def read_and_label(file_path):\n",
    "  img = tf.io.read_file(file_path)\n",
    "  img = decode_img(img)\n",
    "  label = get_label(file_path)\n",
    "  return img, label\n",
    "\n",
    "def decode_img(img):\n",
    "  img = tf.image.decode_jpeg(img, channels=3)\n",
    "  img = tf.image.convert_image_dtype(img, tf.float32)\n",
    "  return tf.image.resize(img, [IMG_WIDTH, IMG_HEIGHT])\n",
    "\n",
    "def get_label(file_path):\n",
    "  parts = tf.strings.split(file_path, os.path.sep)\n",
    "  return tf.reshape(tf.where(parts[-4] == CLASS_NAMES),[])\n",
    "\n",
    "def augment(image,label):\n",
    "  image = tf.image.random_hue(image, max_delta=0.05, seed=5)\n",
    "  image = tf.image.random_contrast(image, 0.95, 1.05, seed=5) # tissue quality\n",
    "  image = tf.image.random_saturation(image, 0.95, 1.05, seed=5) # stain quality\n",
    "  image = tf.image.random_brightness(image, max_delta=0.05) # tissue thickness, glass transparency (clean)\n",
    "  image = tf.image.random_flip_left_right(image, seed=5) # cell orientation\n",
    "  image = tf.image.random_flip_up_down(image, seed=5) # cell orientation\n",
    "  image = tf.image.rot90(image, tf.random.uniform(shape=[], minval=0, maxval=4, dtype=tf.int32)) # cell orientation\n",
    "  return image,label"
   ]
  },
  {
   "cell_type": "code",
   "execution_count": 5,
   "metadata": {
    "pycharm": {
     "name": "#%%\n"
    }
   },
   "outputs": [],
   "source": [
    "IMG_HEIGHT = 100\n",
    "IMG_WIDTH = 100\n",
    "BATCH_SIZE = 32\n",
    "val_fraction = 10\n",
    "# list location of all training images\n",
    "data_dir=r'C:\\Users\\kuki\\Desktop\\Research\\Skin\\RCNN data\\train'\n",
    "data_dir = pathlib.Path(data_dir)\n",
    "train_image_count = len(list(data_dir.glob('*\\*\\image\\*.jpg')))\n",
    "CLASS_NAMES = np.array([item.name for item in data_dir.glob('*') if item.name != \"LICENSE.txt\" and item.name != \".DS_store\"])\n",
    "list_ds = tf.data.Dataset.list_files(str(data_dir/'*/*/image/*'))\n",
    "AUTOTUNE = tf.data.experimental.AUTOTUNE\n",
    "labeled_ds = list_ds.map(read_and_label, num_parallel_calls=AUTOTUNE)\n",
    "# plt.figure(figsize=(10,10))\n",
    "# for idx,elem in enumerate(labeled_ds.take(25)):\n",
    "#     img = elem[0]\n",
    "#     label = elem[1]\n",
    "#     ax = plt.subplot(5,5,idx+1)\n",
    "#     plt.imshow(img)\n",
    "#     plt.title(CLASS_NAMES[label].title())\n",
    "#     plt.axis('off')"
   ]
  },
  {
   "cell_type": "code",
   "execution_count": 6,
   "metadata": {
    "collapsed": false,
    "jupyter": {
     "outputs_hidden": false
    },
    "pycharm": {
     "name": "#%%\n"
    }
   },
   "outputs": [],
   "source": [
    "test_data_dir=r'C:\\Users\\kuki\\Desktop\\Research\\Skin\\RCNN data\\test'\n",
    "test_data_dir = pathlib.Path(test_data_dir)\n",
    "test_image_count = len(list(test_data_dir.glob('*\\*\\image\\*.jpg')))\n",
    "test_list_ds = tf.data.Dataset.list_files(str(test_data_dir/'*\\*\\image\\*'))\n",
    "test_labeled_ds = test_list_ds.map(read_and_label, num_parallel_calls=AUTOTUNE)\n",
    "\n",
    "val_image_count = test_image_count//100 * val_fraction # // : floor division ex) 15/2 = 7.5 -> 7\n",
    "test_image_count2 = test_image_count - val_image_count\n",
    "STEPS_PER_EPOCH = train_image_count//BATCH_SIZE\n",
    "TEST_STEPS = test_image_count2 // BATCH_SIZE\n",
    "VALIDATION_STEPS = val_image_count // BATCH_SIZE"
   ]
  },
  {
   "cell_type": "code",
   "execution_count": 7,
   "outputs": [],
   "source": [
    "shuffle_buffer_size = 3000 #take first 100 from dataset and shuffle and pick one.\n",
    "train_ds = (labeled_ds\n",
    "#             .skip(val_image_count)\n",
    "            .cache(\"./cache/fibro_train.tfcache\")\n",
    "            .shuffle(buffer_size=shuffle_buffer_size)\n",
    "            .repeat()\n",
    "            .batch(BATCH_SIZE)\n",
    "            .map(augment, num_parallel_calls=AUTOTUNE) #always batch before mapping\n",
    "            .prefetch(buffer_size=AUTOTUNE) \n",
    "            )\n",
    "\n",
    "# no shuffle, augment for validation and test dataset\n",
    "val_ds= (test_labeled_ds\n",
    "               .shuffle(buffer_size=shuffle_buffer_size)\n",
    "               .take(val_image_count)\n",
    "               .cache(\"./cache/fibro_val.tfcache\")\n",
    "               .repeat()\n",
    "               .batch(BATCH_SIZE)\n",
    "               .prefetch(buffer_size=AUTOTUNE))\n",
    "\n",
    "test_ds = (test_labeled_ds\n",
    "            .cache(\"./cache/fibro_test.tfcache\")\n",
    "            .repeat()\n",
    "            .batch(BATCH_SIZE)\n",
    "            .prefetch(buffer_size=AUTOTUNE) #time it takes to produce next element\n",
    "            )"
   ],
   "metadata": {
    "collapsed": false,
    "pycharm": {
     "name": "#%%\n"
    }
   }
  },
  {
   "cell_type": "code",
   "execution_count": 8,
   "outputs": [
    {
     "name": "stdout",
     "output_type": "stream",
     "text": [
      "INFO:tensorflow:Using MirroredStrategy with devices ('/job:localhost/replica:0/task:0/device:GPU:0', '/job:localhost/replica:0/task:0/device:GPU:1')\n"
     ]
    }
   ],
   "source": [
    "mirrored_strategy = tf.distribute.MirroredStrategy(cross_device_ops=tf.distribute.HierarchicalCopyAllReduce())"
   ],
   "metadata": {
    "collapsed": false,
    "pycharm": {
     "name": "#%%\n"
    }
   }
  },
  {
   "cell_type": "code",
   "execution_count": 9,
   "outputs": [
    {
     "name": "stdout",
     "output_type": "stream",
     "text": [
      "INFO:tensorflow:Reduce to /job:localhost/replica:0/task:0/device:CPU:0 then broadcast to ('/job:localhost/replica:0/task:0/device:CPU:0',).\n",
      "INFO:tensorflow:Reduce to /job:localhost/replica:0/task:0/device:CPU:0 then broadcast to ('/job:localhost/replica:0/task:0/device:CPU:0',).\n"
     ]
    }
   ],
   "source": [
    "with mirrored_strategy.scope():\n",
    "    model_cnnA= Sequential([\n",
    "                    Conv2D(16, (3, 3), activation='relu', input_shape=(IMG_HEIGHT, IMG_WIDTH ,3)\n",
    "                           ,kernel_initializer='he_uniform',kernel_regularizer=tf.keras.regularizers.l2(0.001)),\n",
    "                    MaxPool2D((2, 2)),\n",
    "                    Dropout(0.5),\n",
    "                    Conv2D(32, (3, 3), activation='relu',\n",
    "                           kernel_initializer='he_uniform',kernel_regularizer=tf.keras.regularizers.l2(0.001)),\n",
    "                    MaxPool2D((2, 2)),\n",
    "                    Conv2D(64, (3, 3), activation='relu',\n",
    "                           kernel_initializer='he_uniform',kernel_regularizer=tf.keras.regularizers.l2(0.001)),\n",
    "                    Dropout(0.5),\n",
    "                    Flatten(),\n",
    "                    Dense(512, activation='relu',\n",
    "                           kernel_initializer='he_uniform',kernel_regularizer=tf.keras.regularizers.l2(0.001)),\n",
    "                    Dense(2)\n",
    "                ])\n",
    "    model_cnnA.compile(optimizer=tf.keras.optimizers.Adam(0.0001),\n",
    "          loss=tf.keras.losses.SparseCategoricalCrossentropy(from_logits=True),\n",
    "          metrics=['accuracy'])"
   ],
   "metadata": {
    "collapsed": false,
    "pycharm": {
     "name": "#%%\n"
    }
   }
  },
  {
   "cell_type": "code",
   "execution_count": 10,
   "metadata": {
    "collapsed": false,
    "jupyter": {
     "outputs_hidden": false
    },
    "pycharm": {
     "name": "#%%\n"
    }
   },
   "outputs": [],
   "source": [
    "checkpoint_path = \"training_1/cp.ckpt\"\n",
    "checkpoint_dir = os.path.dirname(checkpoint_path)\n",
    "shutil.rmtree(checkpoint_dir, ignore_errors=True)\n",
    "\n",
    "def get_callbacks(name):\n",
    "  return [\n",
    "    modeling.EpochDots(),\n",
    "    tf.keras.callbacks.EarlyStopping(monitor='val_loss',\n",
    "                                     patience=500,restore_best_weights=True),\n",
    "#     tf.keras.callbacks.TensorBoard(log_dir/name, histogram_freq=1),\n",
    "    tf.keras.callbacks.ModelCheckpoint(filepath=checkpoint_path,\n",
    "                                       verbose=0,\n",
    "                                       monitor='val_loss',\n",
    "                                       save_weights_only=True,\n",
    "                                       save_best_only=True),\n",
    "    tf.keras.callbacks.ReduceLROnPlateau(monitor='val_loss',\n",
    "                                         factor=0.1, patience=10, verbose=0, mode='auto',\n",
    "                                         min_delta=0.0001, cooldown=0, min_lr=0),\n",
    "  ]"
   ]
  },
  {
   "cell_type": "code",
   "execution_count": 11,
   "metadata": {
    "collapsed": false,
    "jupyter": {
     "outputs_hidden": false
    },
    "pycharm": {
     "name": "#%%\n"
    }
   },
   "outputs": [],
   "source": [
    "lr_schedule = tf.keras.optimizers.schedules.InverseTimeDecay(\n",
    "  0.0001,\n",
    "  decay_steps=STEPS_PER_EPOCH*1000,\n",
    "  decay_rate=1,\n",
    "  staircase=False)"
   ]
  },
  {
   "cell_type": "code",
   "execution_count": 23,
   "metadata": {
    "collapsed": false,
    "jupyter": {
     "outputs_hidden": false
    },
    "pycharm": {
     "name": "#%%\n"
    }
   },
   "outputs": [],
   "source": [
    "def compilefit(model, name, optimizer=None, max_epochs=2):\n",
    "#     optimizer = optimizers.Adam(lr_schedule)\n",
    "    model_history = model.fit(train_ds,\n",
    "          steps_per_epoch= STEPS_PER_EPOCH,\n",
    "          epochs=max_epochs,\n",
    "          verbose=2,\n",
    "          validation_data=val_ds,\n",
    "          callbacks=get_callbacks(name),\n",
    "          validation_steps=VALIDATION_STEPS,\n",
    "          use_multiprocessing=True\n",
    "                       )\n",
    "    if not os.path.isdir(os.path.abspath(name)):\n",
    "        os.mkdir(os.path.abspath(name))\n",
    "    model.save(pathlib.Path(name)/'full_model.h5')\n",
    "    return model_history"
   ]
  },
  {
   "cell_type": "code",
   "execution_count": 19,
   "metadata": {
    "collapsed": false,
    "jupyter": {
     "outputs_hidden": false
    },
    "pycharm": {
     "name": "#%%\n"
    }
   },
   "outputs": [],
   "source": [
    "def plotdf(dfobj,condition):\n",
    "    dfobj1=dfobj.copy()\n",
    "    dfobj2=dfobj.copy()\n",
    "    dfobj3=dfobj.copy()\n",
    "    dfobj1.pop('lr')\n",
    "    dfobj1.pop('loss')\n",
    "    dfobj1.pop('val_loss')\n",
    "    pd.DataFrame(dfobj1).plot(title=condition)\n",
    "    dfobj2.pop('lr')\n",
    "    dfobj2.pop('accuracy')\n",
    "    dfobj2.pop('val_accuracy')\n",
    "    pd.DataFrame(dfobj2).plot()\n",
    "    dfobj3.pop('loss')\n",
    "    dfobj3.pop('val_loss')\n",
    "    dfobj3.pop('accuracy')\n",
    "    dfobj3.pop('val_accuracy')\n",
    "    pd.DataFrame(dfobj3).plot()"
   ]
  },
  {
   "cell_type": "code",
   "execution_count": 14,
   "outputs": [],
   "source": [
    "histories={}"
   ],
   "metadata": {
    "collapsed": false,
    "pycharm": {
     "name": "#%%\n"
    }
   }
  },
  {
   "cell_type": "code",
   "execution_count": 15,
   "metadata": {},
   "outputs": [
    {
     "name": "stdout",
     "output_type": "stream",
     "text": [
      "Train for 222 steps, validate for 2 steps\n",
      "Epoch 1/10\n",
      "INFO:tensorflow:batch_all_reduce: 10 all-reduces with algorithm = hierarchical_copy, num_packs = 1, agg_small_grads_max_bytes = 0 and agg_small_grads_max_group = 10\n",
      "INFO:tensorflow:Reduce to /job:localhost/replica:0/task:0/device:CPU:0 then broadcast to ('/job:localhost/replica:0/task:0/device:CPU:0',).\n",
      "INFO:tensorflow:Reduce to /job:localhost/replica:0/task:0/device:CPU:0 then broadcast to ('/job:localhost/replica:0/task:0/device:CPU:0',).\n",
      "INFO:tensorflow:Reduce to /job:localhost/replica:0/task:0/device:CPU:0 then broadcast to ('/job:localhost/replica:0/task:0/device:CPU:0',).\n",
      "INFO:tensorflow:Reduce to /job:localhost/replica:0/task:0/device:CPU:0 then broadcast to ('/job:localhost/replica:0/task:0/device:CPU:0',).\n",
      "INFO:tensorflow:batch_all_reduce: 10 all-reduces with algorithm = hierarchical_copy, num_packs = 1, agg_small_grads_max_bytes = 0 and agg_small_grads_max_group = 10\n",
      "INFO:tensorflow:Reduce to /job:localhost/replica:0/task:0/device:CPU:0 then broadcast to ('/job:localhost/replica:0/task:0/device:CPU:0',).\n",
      "INFO:tensorflow:Reduce to /job:localhost/replica:0/task:0/device:CPU:0 then broadcast to ('/job:localhost/replica:0/task:0/device:CPU:0',).\n",
      "INFO:tensorflow:Reduce to /job:localhost/replica:0/task:0/device:CPU:0 then broadcast to ('/job:localhost/replica:0/task:0/device:CPU:0',).\n",
      "INFO:tensorflow:Reduce to /job:localhost/replica:0/task:0/device:CPU:0 then broadcast to ('/job:localhost/replica:0/task:0/device:CPU:0',).\n",
      "\n",
      "Epoch: 0, accuracy:0.7783,  loss:1.7363,  val_accuracy:0.7656,  val_loss:1.3959,  \n",
      ".222/222 - 20s - loss: 1.7363 - accuracy: 0.7783 - val_loss: 1.3959 - val_accuracy: 0.7656\n",
      "Epoch 2/10\n",
      ".222/222 - 12s - loss: 1.2764 - accuracy: 0.7963 - val_loss: 1.2305 - val_accuracy: 0.7656\n",
      "Epoch 3/10\n",
      ".222/222 - 12s - loss: 1.1715 - accuracy: 0.7953 - val_loss: 1.1368 - val_accuracy: 0.7656\n",
      "Epoch 4/10\n",
      ".222/222 - 12s - loss: 1.0831 - accuracy: 0.8076 - val_loss: 1.0643 - val_accuracy: 0.7656\n",
      "Epoch 5/10\n",
      ".222/222 - 13s - loss: 1.0193 - accuracy: 0.8022 - val_loss: 0.9938 - val_accuracy: 0.7812\n",
      "Epoch 6/10\n",
      ".222/222 - 23s - loss: 0.9636 - accuracy: 0.8091 - val_loss: 0.9478 - val_accuracy: 0.7656\n",
      "Epoch 7/10\n",
      ".222/222 - 22s - loss: 0.9116 - accuracy: 0.8125 - val_loss: 0.9164 - val_accuracy: 0.7656\n",
      "Epoch 8/10\n",
      ".222/222 - 19s - loss: 0.8737 - accuracy: 0.8115 - val_loss: 0.8729 - val_accuracy: 0.7656\n",
      "Epoch 9/10\n",
      ".222/222 - 17s - loss: 0.8388 - accuracy: 0.8143 - val_loss: 0.8634 - val_accuracy: 0.7656\n",
      "Epoch 10/10\n",
      ".222/222 - 17s - loss: 0.8020 - accuracy: 0.8186 - val_loss: 0.8263 - val_accuracy: 0.7656\n"
     ]
    },
    {
     "ename": "KeyError",
     "evalue": "'sparse_categorical_crossentropy'",
     "output_type": "error",
     "traceback": [
      "\u001B[1;31m---------------------------------------------------------------------------\u001B[0m",
      "\u001B[1;31mKeyError\u001B[0m                                  Traceback (most recent call last)",
      "\u001B[1;32m<ipython-input-15-0f7e7712ef22>\u001B[0m in \u001B[0;36m<module>\u001B[1;34m\u001B[0m\n\u001B[0;32m      1\u001B[0m \u001B[0mhistories\u001B[0m\u001B[1;33m[\u001B[0m\u001B[1;34m'cnnA'\u001B[0m\u001B[1;33m]\u001B[0m \u001B[1;33m=\u001B[0m \u001B[0mcompilefit\u001B[0m\u001B[1;33m(\u001B[0m\u001B[0mmodel_cnnA\u001B[0m\u001B[1;33m,\u001B[0m\u001B[1;34m'cnn/A'\u001B[0m\u001B[1;33m)\u001B[0m\u001B[1;33m\u001B[0m\u001B[1;33m\u001B[0m\u001B[0m\n\u001B[1;32m----> 2\u001B[1;33m \u001B[0mplotdf\u001B[0m\u001B[1;33m(\u001B[0m\u001B[0mhistories\u001B[0m\u001B[1;33m[\u001B[0m\u001B[1;34m'cnnA'\u001B[0m\u001B[1;33m]\u001B[0m\u001B[1;33m.\u001B[0m\u001B[0mhistory\u001B[0m\u001B[1;33m,\u001B[0m\u001B[1;34m'7 layer CNN with initializer&normalizer'\u001B[0m\u001B[1;33m)\u001B[0m\u001B[1;33m\u001B[0m\u001B[1;33m\u001B[0m\u001B[0m\n\u001B[0m\u001B[0;32m      3\u001B[0m \u001B[0mresults\u001B[0m \u001B[1;33m=\u001B[0m \u001B[0mmodel_cnnA\u001B[0m\u001B[1;33m.\u001B[0m\u001B[0mevaluate\u001B[0m\u001B[1;33m(\u001B[0m\u001B[0mtest_ds\u001B[0m\u001B[1;33m,\u001B[0m\u001B[0msteps\u001B[0m\u001B[1;33m=\u001B[0m\u001B[0mTEST_STEPS\u001B[0m\u001B[1;33m)\u001B[0m\u001B[1;33m\u001B[0m\u001B[1;33m\u001B[0m\u001B[0m\n\u001B[0;32m      4\u001B[0m \u001B[0mprint\u001B[0m\u001B[1;33m(\u001B[0m\u001B[1;34m'test loss, test acc:'\u001B[0m\u001B[1;33m,\u001B[0m \u001B[0mresults\u001B[0m\u001B[1;33m)\u001B[0m\u001B[1;33m\u001B[0m\u001B[1;33m\u001B[0m\u001B[0m\n\u001B[0;32m      5\u001B[0m \u001B[1;31m#62\u001B[0m\u001B[1;33m\u001B[0m\u001B[1;33m\u001B[0m\u001B[1;33m\u001B[0m\u001B[0m\n",
      "\u001B[1;32m<ipython-input-13-fdfe1237bacd>\u001B[0m in \u001B[0;36mplotdf\u001B[1;34m(dfobj, condition)\u001B[0m\n\u001B[0;32m      3\u001B[0m     \u001B[0mdfobj\u001B[0m\u001B[1;33m.\u001B[0m\u001B[0mpop\u001B[0m\u001B[1;33m(\u001B[0m\u001B[1;34m'val_loss'\u001B[0m\u001B[1;33m)\u001B[0m\u001B[1;33m\u001B[0m\u001B[1;33m\u001B[0m\u001B[0m\n\u001B[0;32m      4\u001B[0m     \u001B[0mdfobj1\u001B[0m\u001B[1;33m=\u001B[0m\u001B[0mdfobj\u001B[0m\u001B[1;33m.\u001B[0m\u001B[0mcopy\u001B[0m\u001B[1;33m(\u001B[0m\u001B[1;33m)\u001B[0m\u001B[1;33m\u001B[0m\u001B[1;33m\u001B[0m\u001B[0m\n\u001B[1;32m----> 5\u001B[1;33m     \u001B[0mdfobj\u001B[0m\u001B[1;33m.\u001B[0m\u001B[0mpop\u001B[0m\u001B[1;33m(\u001B[0m\u001B[1;34m'sparse_categorical_crossentropy'\u001B[0m\u001B[1;33m)\u001B[0m\u001B[1;33m\u001B[0m\u001B[1;33m\u001B[0m\u001B[0m\n\u001B[0m\u001B[0;32m      6\u001B[0m     \u001B[0mdfobj\u001B[0m\u001B[1;33m.\u001B[0m\u001B[0mpop\u001B[0m\u001B[1;33m(\u001B[0m\u001B[1;34m'val_sparse_categorical_crossentropy'\u001B[0m\u001B[1;33m)\u001B[0m\u001B[1;33m\u001B[0m\u001B[1;33m\u001B[0m\u001B[0m\n\u001B[0;32m      7\u001B[0m     \u001B[0mpd\u001B[0m\u001B[1;33m.\u001B[0m\u001B[0mDataFrame\u001B[0m\u001B[1;33m(\u001B[0m\u001B[0mdfobj\u001B[0m\u001B[1;33m)\u001B[0m\u001B[1;33m.\u001B[0m\u001B[0mplot\u001B[0m\u001B[1;33m(\u001B[0m\u001B[0mtitle\u001B[0m\u001B[1;33m=\u001B[0m\u001B[0mcondition\u001B[0m\u001B[1;33m)\u001B[0m\u001B[1;33m\u001B[0m\u001B[1;33m\u001B[0m\u001B[0m\n",
      "\u001B[1;31mKeyError\u001B[0m: 'sparse_categorical_crossentropy'"
     ]
    }
   ],
   "source": [
    "histories['cnnA'] = compilefit(model_cnnA,'cnn/A')\n",
    "plotdf(histories['cnnA'].history,'7 layer CNN with initializer&normalizer')\n",
    "results = model_cnnA.evaluate(test_ds,steps=TEST_STEPS)\n",
    "print('test loss, test acc:', results)\n",
    "#62"
   ]
  },
  {
   "cell_type": "code",
   "execution_count": 21,
   "outputs": [],
   "source": [
    "with mirrored_strategy.scope():\n",
    "    inputs = tf.keras.Input(shape=(100, 100, 3), name='img')\n",
    "    x = Conv2D(32, 3, activation='relu',kernel_initializer='he_uniform')(inputs)\n",
    "    x = Conv2D(64, 3, activation='relu',kernel_initializer='he_uniform')(x)\n",
    "    block_1_output = MaxPool2D(3)(x)\n",
    "\n",
    "    x = Conv2D(64, 3, activation='relu', padding='same',kernel_initializer='he_uniform')(block_1_output)\n",
    "    x = Conv2D(64, 3, activation='relu', padding='same',kernel_initializer='he_uniform')(x)\n",
    "    block_2_output = add([x, block_1_output])\n",
    "\n",
    "    x = Conv2D(64, 3, activation='relu', padding='same',kernel_initializer='he_uniform')(block_2_output)\n",
    "    x = Conv2D(64, 3, activation='relu', padding='same',kernel_initializer='he_uniform')(x)\n",
    "    block_3_output = add([x, block_2_output])\n",
    "\n",
    "    x = Conv2D(64, 3, activation='relu',kernel_initializer='he_uniform')(block_3_output)\n",
    "    x = GlobalAveragePooling2D()(x)\n",
    "    x = Dense(256, activation='relu',kernel_initializer='he_uniform')(x)\n",
    "    x = Dropout(0.5)(x)\n",
    "    outputs = Dense(2)(x)\n",
    "\n",
    "    model_cnnB = tf.keras.Model(inputs, outputs, name='toy_resnet')\n",
    "    model_cnnB.compile(optimizer=tf.keras.optimizers.Adam(0.0001),\n",
    "      loss=tf.keras.losses.SparseCategoricalCrossentropy(from_logits=True),\n",
    "      metrics=['accuracy'])\n"
   ],
   "metadata": {
    "collapsed": false,
    "pycharm": {
     "name": "#%%\n"
    }
   }
  },
  {
   "cell_type": "code",
   "execution_count": 22,
   "metadata": {},
   "outputs": [
    {
     "name": "stdout",
     "output_type": "stream",
     "text": [
      "Train for 222 steps, validate for 2 steps\n",
      "Epoch 1/10\n",
      "INFO:tensorflow:batch_all_reduce: 18 all-reduces with algorithm = hierarchical_copy, num_packs = 1, agg_small_grads_max_bytes = 0 and agg_small_grads_max_group = 10\n",
      "INFO:tensorflow:batch_all_reduce: 18 all-reduces with algorithm = hierarchical_copy, num_packs = 1, agg_small_grads_max_bytes = 0 and agg_small_grads_max_group = 10\n",
      "\n",
      "Epoch: 0, accuracy:0.7931,  loss:0.5061,  val_accuracy:0.7812,  val_loss:0.3784,  \n",
      ".222/222 - 8s - loss: 0.5061 - accuracy: 0.7931 - val_loss: 0.3784 - val_accuracy: 0.7812\n",
      "Epoch 2/10\n",
      ".222/222 - 3s - loss: 0.3946 - accuracy: 0.8366 - val_loss: 0.3958 - val_accuracy: 0.7969\n",
      "Epoch 3/10\n",
      ".222/222 - 4s - loss: 0.3170 - accuracy: 0.8764 - val_loss: 0.2863 - val_accuracy: 0.8906\n",
      "Epoch 4/10\n",
      ".222/222 - 4s - loss: 0.2404 - accuracy: 0.9093 - val_loss: 0.1592 - val_accuracy: 0.9375\n",
      "Epoch 5/10\n",
      ".222/222 - 4s - loss: 0.2233 - accuracy: 0.9169 - val_loss: 0.1267 - val_accuracy: 0.9688\n",
      "Epoch 6/10\n",
      ".222/222 - 4s - loss: 0.1750 - accuracy: 0.9367 - val_loss: 0.0999 - val_accuracy: 0.9844\n",
      "Epoch 7/10\n",
      ".222/222 - 4s - loss: 0.1539 - accuracy: 0.9447 - val_loss: 0.1454 - val_accuracy: 0.9375\n",
      "Epoch 8/10\n",
      ".222/222 - 4s - loss: 0.1407 - accuracy: 0.9497 - val_loss: 0.1171 - val_accuracy: 0.9375\n",
      "Epoch 9/10\n",
      ".222/222 - 4s - loss: 0.1220 - accuracy: 0.9558 - val_loss: 0.1662 - val_accuracy: 0.9062\n",
      "Epoch 10/10\n",
      ".222/222 - 4s - loss: 0.1129 - accuracy: 0.9576 - val_loss: 0.0402 - val_accuracy: 0.9844\n",
      "27/27 [==============================] - 0s 15ms/step - loss: 1.4169 - accuracy: 0.5671\b\b\b\b\b\b\b\b\b\b\b\b\b\b\b\b\b\b\b\b\b\b\b\b\b\b\b\b\b\b\b\b\b\b\b\b\b\b\b\b\b\b\b\b\b\b\b\b\b\b\b\b\b\b\b\b\b\b\b\b\b\b\b\b\b\b\b\b\b\b\b\b\b\b\b\b\b\b\b\b\b\b\b\b\b\b\b\b\b\b\b\b\b\b\b\b\b\b\b\b\b\b\b\b\b\b\b\b\b\b\b\b\b\b\b\b\b\b\b\b\b\b\b\b\b\b\b\b\b\b\b\b\b\b\b\b\b\b\b\b\b\b\b\b\b\b\b\b\b\b\b\b\b\b\b\b\b\b\b\b\b\b\b\b\b\b\b\b\b\b\b\b\b\b\b\b\b\b\b\b\b\b\b\b\b\b\b\b\b\b\b\b\b\b\b\b\b\b\b\b\b\b\b\b\b\b\b\b\b\b\b\b\b\b\b\b\b\b\b\b\b\b\b\b\b\b\b\b\b\b\b\b\b\b\b\b\b\b\b\b\b\b\b\b\b\b\b\b\b\b\b\b\b\b\b\b\b\b\b\b\b\b\b\b\b\b\b\b\b\b\b\b\b\b\b\b\b\b\b\b\b\b\b\b\b\b\b\b\b\b\b\b\b\b\b\b\b\b\b\b\b\b\b\b\b\b\b\b\b\b\b\b\b\b\b\b\b\b\b\b\b\b\b\n",
      "test loss, test acc: [1.4168568430123505, 0.5671296]\n"
     ]
    },
    {
     "data": {
      "text/plain": "<Figure size 432x288 with 1 Axes>",
      "image/png": "[encoded data removed]"
     },
     "metadata": {
      "needs_background": "light"
     },
     "output_type": "display_data"
    },
    {
     "data": {
      "text/plain": "<Figure size 432x288 with 1 Axes>",
      "image/png": "[encoded data removed]"
     },
     "metadata": {
      "needs_background": "light"
     },
     "output_type": "display_data"
    },
    {
     "data": {
      "text/plain": "<Figure size 432x288 with 1 Axes>",
      "image/png": "[encoded data removed]"
     },
     "metadata": {
      "needs_background": "light"
     },
     "output_type": "display_data"
    }
   ],
   "source": [
    "histories['cnnB'] = compilefit(model_cnnB,'cnn/B')\n",
    "plotdf(histories['cnnB'].history,'toy resnet')\n",
    "results = model_cnnB.evaluate(test_ds,steps=TEST_STEPS)\n",
    "print('test loss, test acc:', results)\n",
    "#80"
   ]
  },
  {
   "cell_type": "code",
   "execution_count": 24,
   "outputs": [],
   "source": [
    "with mirrored_strategy.scope():\n",
    "    mobilenetv2 = tf.keras.Sequential([\n",
    "        hub.KerasLayer(\"https://tfhub.dev/google/imagenet/resnet_v2_101/feature_vector/4\",\n",
    "                       trainable=False),  # Can be True, see below.\n",
    "        tf.keras.layers.Dense(2, activation='softmax')\n",
    "    ])\n",
    "    mobilenetv2.build([None, 100, 100, 3])  # Batch input shape.\n",
    "    mobilenetv2.compile(optimizer=tf.keras.optimizers.Adam(0.0001),\n",
    "          loss=tf.keras.losses.SparseCategoricalCrossentropy(from_logits=True),\n",
    "          metrics=['accuracy'])"
   ],
   "metadata": {
    "collapsed": false,
    "pycharm": {
     "name": "#%%\n"
    }
   }
  },
  {
   "cell_type": "code",
   "execution_count": 25,
   "metadata": {},
   "outputs": [
    {
     "name": "stdout",
     "output_type": "stream",
     "text": [
      "Train for 222 steps, validate for 2 steps\n",
      "Epoch 1/2\n",
      "INFO:tensorflow:batch_all_reduce: 2 all-reduces with algorithm = hierarchical_copy, num_packs = 1, agg_small_grads_max_bytes = 0 and agg_small_grads_max_group = 10\n",
      "INFO:tensorflow:batch_all_reduce: 2 all-reduces with algorithm = hierarchical_copy, num_packs = 1, agg_small_grads_max_bytes = 0 and agg_small_grads_max_group = 10\n",
      "\n",
      "Epoch: 0, accuracy:0.7838,  loss:0.5310,  val_accuracy:0.7500,  val_loss:0.5600,  \n",
      ".222/222 - 18s - loss: 0.5310 - accuracy: 0.7838 - val_loss: 0.5600 - val_accuracy: 0.7500\n",
      "Epoch 2/2\n",
      ".222/222 - 7s - loss: 0.4996 - accuracy: 0.8110 - val_loss: 0.4957 - val_accuracy: 0.8281\n",
      "27/27 [==============================] - 4s 133ms/step - loss: 0.8735 - accuracy: 0.3461\b\b\b\b\b\b\b\b\b\b\b\b\b\b\b\b\b\b\b\b\b\b\b\b\b\b\b\b\b\b\b\b\b\b\b\b\b\b\b\b\b\b\b\b\b\b\b\b\b\b\b\b\b\b\b\b\b\b\b\b\b\b\b\b\b\b\b\b\b\b\b\b\b\b\b\b\b\b\b\b\b\b\b\b\b\b\b\b\b\b\b\b\b\b\b\b\b\b\b\b\b\b\b\b\b\b\b\b\b\b\b\b\b\b\b\b\b\b\b\b\b\b\b\b\b\b\b\b\b\b\b\b\b\b\b\b\b\b\b\b\b\b\b\b\b\b\b\b\b\b\b\b\b\b\b\b\b\b\b\b\b\b\b\b\b\b\b\b\b\b\b\b\b\b\b\b\b\b\b\b\b\b\b\b\b\b\b\b\b\b\b\b\b\b\b\b\b\b\b\b\b\b\b\b\b\b\b\b\b\b\b\b\b\b\b\b\b\b\b\b\b\b\b\b\b\b\b\b\b\b\b\b\b\b\b\b\b\b\b\b\b\b\b\b\b\b\b\b\b\b\b\b\b\b\b\b\b\b\b\b\b\b\b\b\b\b\b\b\b\b\b\b\b\b\b\b\b\b\b\b\b\b\b\b\b\b\b\b\b\b\b\b\b\b\b\b\b\b\b\b\b\b\b\b\b\b\b\b\b\b\b\b\b\b\b\b\b\b\b\b\b\b\b\b\b\b\b\b\b\b\b\b\b\b\b\b\b\b\b\b\b\b\b\b\b\b\b\b\b\b\b\b\b\b\b\b\b\b\b\b\b\b\b\b\b\b\b\b\b\b\b\b\b\b\b\b\b\b\b\b\b\b\b\b\b\b\b\b\b\b\b\b\b\b\b\b\b\b\b\b\b\b\b\b\b\b\b\b\b\b\b\b\b\b\b\b\b\b\b\b\b\b\b\b\b\b\b\b\b\b\b\b\b\b\b\b\b\b\b\b\b\b\b\b\b\b\b\b\b\b\b\b\b\b\b\b\b\b\b\b\b\b\b\b\b\b\b\b\b\b\b\b\b\b\b\b\b\b\b\b\b\b\b\b\b\b\b\b\b\b\b\b\b\b\b\b\b\b\b\b\b\b\b\b\b\b\b\b\b\b\b\b\b\b\b\b\b\b\b\b\b\b\b\b\b\b\b\b\b\b\b\b\b\b\b\b\b\b\b\b\b\b\b\b\b\b\b\b\b\b\b\b\b\b\b\b\b\b\b\b\b\b\b\b\b\b\b\b\b\b\b\b\b\b\b\b\b\b\b\b\b\b\b\b\b\b\b\b\b\b\b\b\b\b\b\b\b\b\b\b\b\b\b\b\b\b\b\b\b\b\b\b\b\b\b\b\b\b\b\b\b\b\b\b\b\b\b\b\b\b\b\b\b\b\b\b\b\b\b\b\b\b\b\b\b\b\b\b\b\b\b\b\b\b\b\b\b\b\b\b\b\b\b\b\b\b\b\b\b\b\b\b\b\b\b\b\b\b\b\b\b\b\b\b\b\b\b\b\b\b\b\b\b\b\b\b\b\b\b\b\b\b\b\b\b\b\b\b\b\b\b\b\b\b\b\b\b\b\b\b\b\b\b\b\b\b\b\b\b\b\b\b\b\b\b\b\b\b\b\b\b\b\b\b\b\b\b\b\b\b\b\b\b\b\b\b\b\b\b\b\b\b\b\b\b\b\b\b\b\b\b\b\b\b\b\b\b\b\b\b\b\b\b\b\b\b\b\b\b\b\b\b\b\b\b\b\b\b\b\b\b\b\b\b\b\b\b\b\b\b\b\b\b\b\b\b\b\b\b\b\b\b\b\b\b\b\b\b\b\b\b\b\b\b\b\b\b\b\b\b\b\b\b\b\b\b\b\b\b\b\b\b\b\b\b\b\b\b\b\b\b\b\b\b\b\b\b\b\b\b\b\b\b\b\b\b\b\b\b\b\b\b\b\b\b\b\b\b\b\b\b\b\b\b\b\b\b\b\b\b\b\b\b\b\b\b\b\b\b\b\b\b\b\b\b\b\b\b\b\b\b\b\b\b\b\b\b\b\b\b\b\b\b\b\b\b\b\b\b\b\b\b\b\b\b\b\b\b\b\b\b\b\b\b\b\b\b\b\b\b\b\b\b\b\b\b\b\b\b\b\b\b\b\b\b\b\b\b\b\b\b\b\b\b\b\b\b\b\b\b\b\b\b\b\b\b\b\b\b\b\b\b\b\b\b\b\b\b\b\b\b\b\b\b\b\b\b\b\b\b\b\b\b\b\b\b\b\b\b\b\b\b\b\b\b\b\b\b\b\b\b\b\b\b\b\b\b\b\b\b\b\b\b\b\b\b\b\b\b\b\b\b\b\b\b\b\b\b\b\b\b\b\b\b\b\b\b\b\b\b\b\b\b\b\b\b\b\b\b\b\b\b\b\b\b\b\b\b\b\b\b\b\b\b\b\b\b\b\b\b\b\b\b\b\b\b\b\b\b\b\b\b\b\b\b\b\b\b\b\b\b\b\b\b\b\b\b\b\b\b\b\b\b\b\b\b\b\b\n",
      "test loss, test acc: [0.8734611294887684, 0.3460648]\n"
     ]
    },
    {
     "name": "stderr",
     "output_type": "stream",
     "text": [
      "INFO:tensorflow:batch_all_reduce: 2 all-reduces with algorithm = hierarchical_copy, num_packs = 1, agg_small_grads_max_bytes = 0 and agg_small_grads_max_group = 10\n",
      "INFO:tensorflow:batch_all_reduce: 2 all-reduces with algorithm = hierarchical_copy, num_packs = 1, agg_small_grads_max_bytes = 0 and agg_small_grads_max_group = 10\n"
     ]
    },
    {
     "data": {
      "text/plain": "<Figure size 432x288 with 1 Axes>",
      "image/png": "[encoded data removed]"
     },
     "metadata": {
      "needs_background": "light"
     },
     "output_type": "display_data"
    },
    {
     "data": {
      "text/plain": "<Figure size 432x288 with 1 Axes>",
      "image/png": "[encoded data removed]"
     },
     "metadata": {
      "needs_background": "light"
     },
     "output_type": "display_data"
    },
    {
     "data": {
      "text/plain": "<Figure size 432x288 with 1 Axes>",
      "image/png": "[encoded data removed]"
     },
     "metadata": {
      "needs_background": "light"
     },
     "output_type": "display_data"
    }
   ],
   "source": [
    "histories['mobilenetv2'] = compilefit(mobilenetv2,'cnn/mobilenetv2')\n",
    "plotdf(histories['mobilenetv2'].history,'mobilenetv2')\n",
    "results = mobilenetv2.evaluate(test_ds,steps=TEST_STEPS)\n",
    "print('test loss, test acc:', results)\n",
    "#80"
   ]
  },
  {
   "cell_type": "code",
   "execution_count": 26,
   "outputs": [],
   "source": [
    "with mirrored_strategy.scope():\n",
    "    mobilenetv2_train = tf.keras.Sequential([\n",
    "        hub.KerasLayer(\"https://tfhub.dev/google/imagenet/resnet_v2_101/feature_vector/4\",\n",
    "                       trainable=True),  # Can be True, see below.\n",
    "        tf.keras.layers.Dense(2, activation='softmax')\n",
    "    ])\n",
    "    mobilenetv2_train.build([None, 100, 100, 3])\n",
    "    mobilenetv2_train.compile(optimizer=tf.keras.optimizers.Adam(0.0001),\n",
    "          loss=tf.keras.losses.SparseCategoricalCrossentropy(from_logits=True),\n",
    "          metrics=['accuracy'])"
   ],
   "metadata": {
    "collapsed": false,
    "pycharm": {
     "name": "#%%\n"
    }
   }
  },
  {
   "cell_type": "code",
   "execution_count": 27,
   "metadata": {},
   "outputs": [
    {
     "name": "stdout",
     "output_type": "stream",
     "text": [
      "Train for 222 steps, validate for 2 steps\n",
      "Epoch 1/2\n",
      "INFO:tensorflow:batch_all_reduce: 344 all-reduces with algorithm = hierarchical_copy, num_packs = 1, agg_small_grads_max_bytes = 0 and agg_small_grads_max_group = 10\n",
      "INFO:tensorflow:batch_all_reduce: 344 all-reduces with algorithm = hierarchical_copy, num_packs = 1, agg_small_grads_max_bytes = 0 and agg_small_grads_max_group = 10\n",
      "WARNING:tensorflow:5 out of the last 8 calls to <function recreate_function.<locals>.restored_function_body at 0x000001D402843948> triggered tf.function retracing. Tracing is expensive and the excessive number of tracings is likely due to passing python objects instead of tensors. Also, tf.function has experimental_relax_shapes=True option that relaxes argument shapes that can avoid unnecessary retracing. Please refer to https://www.tensorflow.org/tutorials/customization/performance#python_or_tensor_args and https://www.tensorflow.org/api_docs/python/tf/function for more details.\n",
      "\n",
      "Epoch: 0, accuracy:0.9338,  loss:0.6578,  val_accuracy:0.9531,  val_loss:0.6319,  \n",
      ".222/222 - 183s - loss: 0.6578 - accuracy: 0.9338 - val_loss: 0.6319 - val_accuracy: 0.9531\n",
      "Epoch 2/2\n",
      ".222/222 - 153s - loss: 0.6047 - accuracy: 0.9841 - val_loss: 0.5873 - val_accuracy: 1.0000\n",
      "27/27 [==============================] - 3s 115ms/step - loss: 0.8793 - accuracy: 0.7141\b\b\b\b\b\b\b\b\b\b\b\b\b\b\b\b\b\b\b\b\b\b\b\b\b\b\b\b\b\b\b\b\b\b\b\b\b\b\b\b\b\b\b\b\b\b\b\b\b\b\b\b\b\b\b\b\b\b\b\b\b\b\b\b\b\b\b\b\b\b\b\b\b\b\b\b\b\b\b\b\b\b\b\b\b\b\b\b\b\b\b\b\b\b\b\b\b\b\b\b\b\b\b\b\b\b\b\b\b\b\b\b\b\b\b\b\b\b\b\b\b\b\b\b\b\b\b\b\b\b\b\b\b\b\b\b\b\b\b\b\b\b\b\b\b\b\b\b\b\b\b\b\b\b\b\b\b\b\b\b\b\b\b\b\b\b\b\b\b\b\b\b\b\b\b\b\b\b\b\b\b\b\b\b\b\b\b\b\b\b\b\b\b\b\b\b\b\b\b\b\b\b\b\b\b\b\b\b\b\b\b\b\b\b\b\b\b\b\b\b\b\b\b\b\b\b\b\b\b\b\b\b\b\b\b\b\b\b\b\b\b\b\b\b\b\b\b\b\b\b\b\b\b\b\b\b\b\b\b\b\b\b\b\b\b\b\b\b\b\b\b\b\b\b\b\b\b\b\b\b\b\b\b\b\b\b\b\b\b\b\b\b\b\b\b\b\b\b\b\b\b\b\b\b\b\b\b\b\b\b\b\b\b\b\b\b\b\b\b\b\b\b\b\b\b\b\b\b\b\b\b\b\b\b\b\b\b\b\b\b\b\b\b\b\b\b\b\b\b\b\b\b\b\b\b\b\b\b\b\b\b\b\b\b\b\b\b\b\b\b\b\b\b\b\b\b\b\b\b\b\b\b\b\b\b\b\b\b\b\b\b\b\b\b\b\b\b\b\b\b\b\b\b\b\b\b\b\b\b\b\b\b\b\b\b\b\b\b\b\b\b\b\b\b\b\b\b\b\b\b\b\b\b\b\b\b\b\b\b\b\b\b\b\b\b\b\b\b\b\b\b\b\b\b\b\b\b\b\b\b\b\b\b\b\b\b\b\b\b\b\b\b\b\b\b\b\b\b\b\b\b\b\b\b\b\b\b\b\b\b\b\b\b\b\b\b\b\b\b\b\b\b\b\b\b\b\b\b\b\b\b\b\b\b\b\b\b\b\b\b\b\b\b\b\b\b\b\b\b\b\b\b\b\b\b\b\b\b\b\b\b\b\b\b\b\b\b\b\b\b\b\b\b\b\b\b\b\b\b\b\b\b\b\b\b\b\b\b\b\b\b\b\b\b\b\b\b\b\b\b\b\b\b\b\b\b\b\b\b\b\b\b\b\b\b\b\b\b\b\b\b\b\b\b\b\b\b\b\b\b\b\b\b\b\b\b\b\b\b\b\b\b\b\b\b\b\b\b\b\b\b\b\b\b\b\b\b\b\b\b\b\b\b\b\b\b\b\b\b\b\b\b\b\b\b\b\b\b\b\b\b\b\b\b\b\b\b\b\b\b\b\b\b\b\b\b\b\b\b\b\b\b\b\b\b\b\b\b\b\b\b\b\b\b\b\b\b\b\b\b\b\b\b\b\b\b\b\b\b\b\b\b\b\b\b\b\b\b\b\b\b\b\b\b\b\b\b\b\b\b\b\b\b\b\b\b\b\b\b\b\b\b\b\b\b\b\b\b\b\b\b\b\b\b\b\b\b\b\b\b\b\b\b\b\b\b\b\b\b\b\b\b\b\b\b\b\b\b\b\b\b\b\b\b\b\b\b\b\b\b\b\b\b\b\b\b\b\b\b\b\b\b\b\b\b\b\b\b\b\b\b\b\b\b\b\b\b\b\b\b\b\b\b\b\b\b\b\b\b\b\b\b\b\b\b\b\b\b\b\b\b\b\b\b\b\b\b\b\b\b\b\b\b\b\b\b\b\b\b\b\b\b\b\b\b\b\b\b\b\b\b\b\b\b\b\b\b\b\b\b\b\b\b\b\b\b\b\b\b\b\b\b\b\b\b\b\b\b\b\b\b\b\b\b\b\b\b\b\b\b\b\b\b\b\b\b\b\b\b\b\b\b\b\b\b\b\b\b\b\b\b\b\b\b\b\b\b\b\b\b\b\b\b\b\b\b\b\b\b\b\b\b\b\b\b\b\b\b\b\b\b\b\b\b\b\b\b\b\b\b\b\b\b\b\b\b\b\b\b\b\b\b\b\b\b\b\b\b\b\b\b\b\b\b\b\b\b\b\b\b\b\b\b\b\b\b\b\b\b\b\b\b\b\b\b\b\b\b\b\b\b\b\b\b\b\b\b\b\b\b\b\b\b\b\b\b\b\b\b\b\b\b\b\b\b\b\b\b\b\b\b\b\b\b\b\b\b\b\b\b\b\b\b\b\b\b\n",
      "test loss, test acc: [0.879349774784512, 0.7141204]\n"
     ]
    },
    {
     "name": "stderr",
     "output_type": "stream",
     "text": [
      "INFO:tensorflow:batch_all_reduce: 344 all-reduces with algorithm = hierarchical_copy, num_packs = 1, agg_small_grads_max_bytes = 0 and agg_small_grads_max_group = 10\n",
      "INFO:tensorflow:batch_all_reduce: 344 all-reduces with algorithm = hierarchical_copy, num_packs = 1, agg_small_grads_max_bytes = 0 and agg_small_grads_max_group = 10\n",
      "WARNING:tensorflow:5 out of the last 8 calls to <function recreate_function.<locals>.restored_function_body at 0x000001D402843948> triggered tf.function retracing. Tracing is expensive and the excessive number of tracings is likely due to passing python objects instead of tensors. Also, tf.function has experimental_relax_shapes=True option that relaxes argument shapes that can avoid unnecessary retracing. Please refer to https://www.tensorflow.org/tutorials/customization/performance#python_or_tensor_args and https://www.tensorflow.org/api_docs/python/tf/function for more details.\n"
     ]
    },
    {
     "data": {
      "text/plain": "<Figure size 432x288 with 1 Axes>",
      "image/png": "[encoded data removed]"
     },
     "metadata": {
      "needs_background": "light"
     },
     "output_type": "display_data"
    },
    {
     "data": {
      "text/plain": "<Figure size 432x288 with 1 Axes>",
      "image/png": "[encoded data removed]"
     },
     "metadata": {
      "needs_background": "light"
     },
     "output_type": "display_data"
    },
    {
     "data": {
      "text/plain": "<Figure size 432x288 with 1 Axes>",
      "image/png": "[encoded data removed]"
     },
     "metadata": {
      "needs_background": "light"
     },
     "output_type": "display_data"
    }
   ],
   "source": [
    "histories['mobilenetv2_train'] = compilefit(mobilenetv2_train,'cnn/mobilenetv2_train')\n",
    "plotdf(histories['mobilenetv2_train'].history,'mobilenetv2_train')\n",
    "results = mobilenetv2_train.evaluate(test_ds,steps=TEST_STEPS)\n",
    "print('test loss, test acc:', results)\n",
    "#80"
   ]
  },
  {
   "cell_type": "code",
   "execution_count": 28,
   "metadata": {
    "pycharm": {
     "name": "#%%\n"
    }
   },
   "outputs": [
    {
     "name": "stdout",
     "output_type": "stream",
     "text": [
      "WARNING:tensorflow:6 out of the last 11 calls to <function recreate_function.<locals>.restored_function_body at 0x000001D402843948> triggered tf.function retracing. Tracing is expensive and the excessive number of tracings is likely due to passing python objects instead of tensors. Also, tf.function has experimental_relax_shapes=True option that relaxes argument shapes that can avoid unnecessary retracing. Please refer to https://www.tensorflow.org/tutorials/customization/performance#python_or_tensor_args and https://www.tensorflow.org/api_docs/python/tf/function for more details.\n",
      "WARNING:tensorflow:7 out of the last 12 calls to <function recreate_function.<locals>.restored_function_body at 0x000001D402843948> triggered tf.function retracing. Tracing is expensive and the excessive number of tracings is likely due to passing python objects instead of tensors. Also, tf.function has experimental_relax_shapes=True option that relaxes argument shapes that can avoid unnecessary retracing. Please refer to https://www.tensorflow.org/tutorials/customization/performance#python_or_tensor_args and https://www.tensorflow.org/api_docs/python/tf/function for more details.\n",
      "27/27 [==============================] - 5s 198ms/step - loss: 1.3430 - accuracy: 0.4549\b\b\b\b\b\b\b\b\b\b\b\b\b\b\b\b\b\b\b\b\b\b\b\b\b\b\b\b\b\b\b\b\b\b\b\b\b\b\b\b\b\b\b\b\b\b\b\b\b\b\b\b\b\b\b\b\b\b\b\b\b\b\b\b\b\b\b\b\b\b\b\b\b\b\b\b\b\b\b\b\b\b\b\b\b\b\b\b\b\b\b\b\b\b\b\b\b\b\b\b\b\b\b\b\b\b\b\b\b\b\b\b\b\b\b\b\b\b\b\b\b\b\b\b\b\b\b\b\b\b\b\b\b\b\b\b\b\b\b\b\b\b\b\b\b\b\b\b\b\b\b\b\b\b\b\b\b\b\b\b\b\b\b\b\b\b\b\b\b\b\b\b\b\b\b\b\b\b\b\b\b\b\b\b\b\b\b\b\b\b\b\b\b\b\b\b\b\b\b\b\b\b\b\b\b\b\b\b\b\b\b\b\b\b\b\b\b\b\b\b\b\b\b\b\b\b\b\b\b\b\b\b\b\b\b\b\b\b\b\b\b\b\b\b\b\b\b\b\b\b\b\b\b\b\b\b\b\b\b\b\b\b\b\b\b\b\b\b\b\b\b\b\b\b\b\b\b\b\b\b\b\b\b\b\b\b\b\b\b\b\b\b\b\b\b\b\b\b\b\b\b\b\b\b\b\b\b\b\b\b\b\b\b\b\b\b\b\b\b\b\b\b\b\b\b\b\b\b\b\b\b\b\b\b\b\b\b\b\b\b\b\b\b\b\b\b\b\b\b\b\b\b\b\b\b\b\b\b\b\b\b\b\b\b\b\b\b\b\b\b\b\b\b\b\b\b\b\b\b\b\b\b\b\b\b\b\b\b\b\b\b\b\b\b\b\b\b\b\b\b\b\b\b\b\b\b\b\b\b\b\b\b\b\b\b\b\b\b\b\b\b\b\b\b\b\b\b\b\b\b\b\b\b\b\b\b\b\b\b\b\b\b\b\b\b\b\b\b\b\b\b\b\b\b\b\b\b\b\b\b\b\b\b\b\b\b\b\b\b\b\b\b\b\b\b\b\b\b\b\b\b\b\b\b\b\b\b\b\b\b\b\b\b\b\b\b\b\b\b\b\b\b\b\b\b\b\b\b\b\b\b\b\b\b\b\b\b\b\b\b\b\b\b\b\b\b\b\b\b\b\b\b\b\b\b\b\b\b\b\b\b\b\b\b\b\b\b\b\b\b\b\b\b\b\b\b\b\b\b\b\b\b\b\b\b\b\b\b\b\b\b\b\b\b\b\b\b\b\b\b\b\b\b\b\b\b\b\b\b\b\b\b\b\b\b\b\b\b\b\b\b\b\b\b\b\b\b\b\b\b\b\b\b\b\b\b\b\b\b\b\b\b\b\b\b\b\b\b\b\b\b\b\b\b\b\b\b\b\b\b\b\b\b\b\b\b\b\b\b\b\b\b\b\b\b\b\b\b\b\b\b\b\b\b\b\b\b\b\b\b\b\b\b\b\b\b\b\b\b\b\b\b\b\b\b\b\b\b\b\b\b\b\b\b\b\b\b\b\b\b\b\b\b\b\b\b\b\b\b\b\b\b\b\b\b\b\b\b\b\b\b\b\b\b\b\b\b\b\b\b\b\b\b\b\b\b\b\b\b\b\b\b\b\b\b\b\b\b\b\b\b\b\b\b\b\b\b\b\b\b\b\b\b\b\b\b\b\b\b\b\b\b\b\b\b\b\b\b\b\b\b\b\b\b\b\b\b\b\b\b\b\b\b\b\b\b\b\b\b\b\b\b\b\b\b\b\b\b\b\b\b\b\b\b\b\b\b\b\b\b\b\b\b\b\b\b\b\b\b\b\b\b\b\b\b\b\b\b\b\b\b\b\b\b\b\b\b\b\b\b\b\b\b\b\b\b\b\b\b\b\b\b\b\b\b\b\b\b\b\b\b\b\b\b\b\b\b\b\b\b\b\b\b\b\b\b\b\b\b\b\b\b\b\b\b\b\b\b\b\b\b\b\b\b\b\b\b\b\b\b\b\b\b\b\b\b\b\b\b\b\b\b\b\b\b\b\b\b\b\b\b\b\b\b\b\b\b\b\b\b\b\b\b\b\b\b\b\b\b\b\b\b\b\b\b\b\b\b\b\b\b\b\b\b\b\b\b\b\b\b\b\b\b\b\b\b\b\b\b\b\b\b\b\b\b\b\b\b\b\b\b\b\b\b\b\b\b\b\b\b\b\b\b\b\b\b\b\b\b\b\b\b\b\b\b\b\b\b\b\b\b\b\b\b\b\b\b\b\b\b\b\b\b\b\b\b\b\b\b\b\b\b\b\b\b\b\b\b\b\b\b\b\b\b\b\b\b\b\b\b\b\b\b\b\b\b\b\b\b\b\b\b\b\b\b\b\b\b\b\b\b\b\b\b\b\b\b\b\b\b\b\b\b\b\b\b\b\b\b\b\b\b\b\b\b\b\b\b\b\b\b\b\b\b\b\b\b\b\b\b\b\b\b\b\b\b\b\b\b\b\b\b\b\b\b\b\b\b\b\b\b\b\b\b\b\b\b\b\b\b\b\b\b\b\b\b\b\b\b\b\b\b\b\b\b\b\b\b\b\b\b\b\b\b\b\b\b\b\b\b\b\b\b\b\b\b\b\b\b\b\b\b\b\b\b\b\b\b\b\b\b\b\b\b\b\b\b\b\b\b\b\b\b\b\b\b\b\b\b\b\b\b\b\b\b\b\b\b\b\b\b\b\b\b\b\b\b\b\b\b\b\b\b\b\b\b\b\b\b\b\b\b\b\b\b\b\b\b\b\b\b\b\b\b\b\b\b\b\b\b\b\b\b\b\b\b\b\b\b\b\b\b\b\b\b\b\b\b\b\b\b\b\b\b\b\b\b\b\b\b\b\b\b\b\b\b\b\b\b\b\b\b\b\b\b\b\b\b\b\b\b\b\b\b\b\b\b\b\b\b\b\b\b\b\b\b\b\b\b\b\b\b\b\b\b\b\b\b\b\b\b\b\b\b\b\b\b\b\b\b\b\b\b\b\b\b\b\b\b\b\b\b\b\b\b\b\b\b\b\b\b\b\b\b\b\b\b\b\b\b\b\b\b\b\b\b\b\b\b\b\b\b\b\b\b\b\b\b\b\b\b\b\b\b\b\b\b\b\b\b\b\b\b\b\b\b\b\b\b\b\b\b\b\b\b\b\b\b\b\b\b\b\b\b\b\b\b\b\b\b\b\b\b\b\b\b\b\b\b\b\b\b\b\b\b\b\b\b\b\b\b\b\b\b\b\b\b\b\b\b\b\b\b\b\b\b\b\b\b\b\b\b\b\b\b\b\b\b\b\b\b\b\b\b\b\b\b\b\b\b\b\b\b\b\b\b\b\b\b\b\b\b\b\b\b\b\b\b\b\b\b\b\b\b\b\b\b\b\b\b\b\b\b\b\b\b\b\b\b\b\b\b\b\b\b\b\b\b\b\b\b\b\b\b\b\b\b\b\b\b\b\b\b\b\b\b\b\b\b\b\b\b\b\b\b\b\b\b\b\b\b\b\b\b\b\b\b\b\b\b\b\b\b\b\b\b\b\b\b\b\b\b\b\b\b\b\b\b\b\b\b\b\b\b\b\b\b\b\b\b\b\b\b\b\b\b\b\b\b\b\b\b\b\b\b\b\b\b\b\b\b\b\b\b\b\b\b\b\b\b\b\b\b\b\b\b\b\b\b\b\b\b\b\b\b\b\b\b\b\b\b\b\b\b\b\b\b\b\b\b\b\b\b\b\b\b\b\b\b\b\b\b\b\b\b\b\b\b\b\b\b\b\b\b\b\b\b\b\b\b\b\b\b\b\b\b\b\b\b\b\b\b\b\b\b\b\b\b\b\b\b\b\b\b\b\b\b\b\b\b\b\b\b\b\b\b\b\b\b\b\b\b\b\b\b\b\b\b\b\b\b\b\b\b\b\b\b\b\b\b\b\b\b\b\b\b\b\b\b\b\b\b\b\b\b\b\b\b\b\b\b\b\b\b\b\b\b\b\b\b\b\b\b\b\b\b\b\b\b\b\b\b\b\b\b\b\b\b\b\b\b\b\b\b\b\b\b\b\b\b\b\b\b\b\b\b\b\b\b\b\b\b\b\b\b\b\b\b\b\b\b\b\b\b\b\b\b\b\b\b\b\b\b\b\b\b\b\b\b\b\b\b\b\b\b\b\b\b\b\b\b\b\b\b\b\b\b\b\b\b\b\b\b\b\b\b\b\b\b\b\b\b\b\b\b\b\b\b\b\b\b\b\b\b\b\b\b\b\b\b\b\b\b\b\b\b\b\b\b\b\b\b\b\b\b\b\b\b\b\b\b\b\b\b\b\b\b\b\b\b\b\b\b\b\b\b\b\b\b\b\b\b\b\b\b\b\b\b\b\b\b\b\b\b\b\b\b\b\b\b\b\b\b\b\b\b\b\b\b\b\b\b\b\b\b\b\b\b\b\b\b\b\b\b\b\b\b\b\b\b\b\b\b\b\b\b\b\b\b\b\b\b\b\b\b\b\b\b\b\b\b\b\b\b\b\b\b\b\b\b\b\b\b\b\b\b\b\b\b\b\b\b\b\b\b\b\b\b\b\b\b\b\b\b\b\b\b\b\b\b\b\b\b\b\b\b\b\b\b\b\b\b\b\b\b\b\b\b\b\b\b\b\b\b\b\b\b\b\b\b\b\b\b\b\b\b\b\b\b\b\b\b\b\b\b\b\b\b\b\b\b\b\b\b\b\b\n",
      "test loss, test acc: [1.343039079948708, 0.4548611]\n"
     ]
    },
    {
     "name": "stderr",
     "output_type": "stream",
     "text": [
      "WARNING:tensorflow:6 out of the last 11 calls to <function recreate_function.<locals>.restored_function_body at 0x000001D402843948> triggered tf.function retracing. Tracing is expensive and the excessive number of tracings is likely due to passing python objects instead of tensors. Also, tf.function has experimental_relax_shapes=True option that relaxes argument shapes that can avoid unnecessary retracing. Please refer to https://www.tensorflow.org/tutorials/customization/performance#python_or_tensor_args and https://www.tensorflow.org/api_docs/python/tf/function for more details.\n",
      "WARNING:tensorflow:7 out of the last 12 calls to <function recreate_function.<locals>.restored_function_body at 0x000001D402843948> triggered tf.function retracing. Tracing is expensive and the excessive number of tracings is likely due to passing python objects instead of tensors. Also, tf.function has experimental_relax_shapes=True option that relaxes argument shapes that can avoid unnecessary retracing. Please refer to https://www.tensorflow.org/tutorials/customization/performance#python_or_tensor_args and https://www.tensorflow.org/api_docs/python/tf/function for more details.\n"
     ]
    }
   ],
   "source": [
    "inputs = tf.keras.Input(shape=(100,100,3))\n",
    "y1 = model_cnnA(inputs)\n",
    "y2 = model_cnnB(inputs)\n",
    "y3 = mobilenetv2(inputs)\n",
    "y4 = mobilenetv2_train(inputs)\n",
    "y5 = average([y1,y2,y3,y4]) #choose models to ensemble\n",
    "# y5 = maximum([y1,y2,y3,y4])\n",
    "outputs = tf.keras.layers.Softmax()(y5)\n",
    "ensemble_model = tf.keras.Model(inputs=inputs, outputs=outputs)\n",
    "ensemble_model.compile(loss=tf.keras.losses.SparseCategoricalCrossentropy(from_logits=True),\n",
    "              optimizer=tf.keras.optimizers.Adam(),\n",
    "              metrics=['accuracy'])\n",
    "results = ensemble_model.evaluate(test_ds,steps=TEST_STEPS)\n",
    "print('test loss, test acc:', results)"
   ]
  },
  {
   "cell_type": "code",
   "execution_count": 29,
   "metadata": {},
   "outputs": [],
   "source": [
    "def load_dataset(dataset_dir):\n",
    "    dataset_dir = pathlib.Path(dataset_dir)\n",
    "    test_image_count2 = len(list(test_data_dir.glob('image\\*.jpg')))\n",
    "    list_ds = tf.data.Dataset.list_files(str(dataset_dir/'image/*.jpg'))\n",
    "    for f in list_ds.take(5):\n",
    "          print(f.numpy())\n",
    "    labeled_ds = list_ds.map(read_and_label, num_parallel_calls=AUTOTUNE)\n",
    "    return labeled_ds,test_image_count2"
   ]
  },
  {
   "cell_type": "code",
   "execution_count": 30,
   "metadata": {
    "pycharm": {
     "name": "#%%\n"
    }
   },
   "outputs": [
    {
     "name": "stdout",
     "output_type": "stream",
     "text": [
      "b'C:\\\\Users\\\\kuki\\\\Desktop\\\\Research\\\\Skin\\\\RCNN data\\\\test\\\\young\\\\sec025\\\\image\\\\474.jpg'\n",
      "b'C:\\\\Users\\\\kuki\\\\Desktop\\\\Research\\\\Skin\\\\RCNN data\\\\test\\\\young\\\\sec025\\\\image\\\\73.jpg'\n",
      "b'C:\\\\Users\\\\kuki\\\\Desktop\\\\Research\\\\Skin\\\\RCNN data\\\\test\\\\young\\\\sec025\\\\image\\\\133.jpg'\n",
      "b'C:\\\\Users\\\\kuki\\\\Desktop\\\\Research\\\\Skin\\\\RCNN data\\\\test\\\\young\\\\sec025\\\\image\\\\198.jpg'\n",
      "b'C:\\\\Users\\\\kuki\\\\Desktop\\\\Research\\\\Skin\\\\RCNN data\\\\test\\\\young\\\\sec025\\\\image\\\\241.jpg'\n"
     ]
    }
   ],
   "source": [
    "datasett,datasettsize = load_dataset(r'C:\\Users\\kuki\\Desktop\\Research\\Skin\\RCNN data\\test\\young\\sec025')"
   ]
  },
  {
   "cell_type": "code",
   "execution_count": null,
   "metadata": {},
   "outputs": [],
   "source": [
    "# plt.figure(figsize=(10,10))\n",
    "# for idx,elem in enumerate(datasett.take(25)):\n",
    "#     img = elem[0]\n",
    "#     label = elem[1]\n",
    "#     ax2 = plt.subplot(5,5,idx+1)\n",
    "#     plt.imshow(img)\n",
    "#     plt.title(CLASS_NAMES[label].title())\n",
    "#     plt.axis('off')"
   ]
  },
  {
   "cell_type": "code",
   "execution_count": 31,
   "metadata": {},
   "outputs": [
    {
     "name": "stdout",
     "output_type": "stream",
     "text": [
      "1/1 [==============================] - 2s 2s/step - loss: 1.8883 - accuracy: 0.0034\n",
      "test loss, test acc: 0.3401360474526882\n"
     ]
    }
   ],
   "source": [
    "results = model_cnnA.evaluate(datasett.batch(10000))\n",
    "print('test loss, test acc:', results[-1]*100)\n"
   ]
  },
  {
   "cell_type": "code",
   "execution_count": 32,
   "metadata": {},
   "outputs": [
    {
     "name": "stdout",
     "output_type": "stream",
     "text": [
      "1/1 [==============================] - 2s 2s/step - loss: 0.7862 - accuracy: 0.6667\n",
      "test loss, test acc: 66.66666865348816\n"
     ]
    }
   ],
   "source": [
    "results = model_cnnB.evaluate(datasett.batch(10000))\n",
    "print('test loss, test acc:', results[-1]*100)\n"
   ]
  },
  {
   "cell_type": "code",
   "execution_count": 33,
   "metadata": {},
   "outputs": [
    {
     "name": "stdout",
     "output_type": "stream",
     "text": [
      "1/1 [==============================] - 3s 3s/step - loss: 0.9104 - accuracy: 0.2823\n",
      "test loss, test acc: 28.231292963027954\n"
     ]
    }
   ],
   "source": [
    "results = mobilenetv2.evaluate(datasett.batch(10000))\n",
    "print('test loss, test acc:', results[-1]*100)\n"
   ]
  },
  {
   "cell_type": "code",
   "execution_count": 34,
   "metadata": {},
   "outputs": [
    {
     "name": "stdout",
     "output_type": "stream",
     "text": [
      "1/1 [==============================] - 4s 4s/step - loss: 0.7354 - accuracy: 0.8639\n",
      "test loss, test acc: 86.39456033706665\n"
     ]
    }
   ],
   "source": [
    "results = mobilenetv2_train.evaluate(datasett.batch(10000))\n",
    "print('test loss, test acc:', results[-1]*100)\n"
   ]
  },
  {
   "cell_type": "code",
   "execution_count": 35,
   "metadata": {},
   "outputs": [
    {
     "name": "stdout",
     "output_type": "stream",
     "text": [
      "1/1 [==============================] - 6s 6s/step - loss: 1.3046 - accuracy: 0.5374\n",
      "test loss, test acc: 53.74149680137634\n"
     ]
    }
   ],
   "source": [
    "results2 = ensemble_model.evaluate(datasett.batch(10000))\n",
    "print('test loss, test acc:', results2[-1]*100)\n"
   ]
  }
 ],
 "metadata": {
  "kernelspec": {
   "display_name": "Python 3",
   "language": "python",
   "name": "python3"
  },
  "language_info": {
   "codemirror_mode": {
    "name": "ipython",
    "version": 3
   },
   "file_extension": ".py",
   "mimetype": "text/x-python",
   "name": "python",
   "nbconvert_exporter": "python",
   "pygments_lexer": "ipython3",
   "version": "3.7.7"
  }
 },
 "nbformat": 4,
 "nbformat_minor": 4
}