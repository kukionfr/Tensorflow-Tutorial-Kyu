{
 "cells": [
  {
   "cell_type": "code",
   "execution_count": 3,
   "outputs": [
    {
     "name": "stdout",
     "output_type": "stream",
     "text": [
      "C:\\Users\\kuki\\Desktop\\Research\\Skin\\RCNN data\\train\\young\\sec010\\image\n",
      "211\n"
     ]
    }
   ],
   "source": [
    "import os\n",
    "\n",
    "dir = r'C:\\Users\\kuki\\Desktop\\Research\\Skin\\RCNN data\\train\\young\\sec010\\image'\n",
    "dir2 = r'C:\\Users\\kuki\\Desktop\\Research\\Skin\\RCNN data\\train\\young\\sec010\\label'\n",
    "imlist = os.listdir(dir)\n",
    "print(dir)\n",
    "print(len(imlist))\n",
    "lalist = os.listdir(dir2)\n",
    "targets = [os.path.join(dir2,_) for _ in lalist if _ not in imlist]\n",
    "for i in targets:\n",
    "    os.remove(i)"
   ],
   "metadata": {
    "collapsed": false,
    "pycharm": {
     "name": "#%%\n"
    }
   }
  }
 ],
 "metadata": {
  "kernelspec": {
   "display_name": "Python 3",
   "language": "python",
   "name": "python3"
  },
  "language_info": {
   "codemirror_mode": {
    "name": "ipython",
    "version": 2
   },
   "file_extension": ".py",
   "mimetype": "text/x-python",
   "name": "python",
   "nbconvert_exporter": "python",
   "pygments_lexer": "ipython2",
   "version": "2.7.6"
  }
 },
 "nbformat": 4,
 "nbformat_minor": 0
}