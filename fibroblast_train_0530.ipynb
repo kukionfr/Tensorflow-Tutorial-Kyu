{
 "cells": [
  {
   "cell_type": "code",
   "execution_count": 1,
   "metadata": {
    "collapsed": true,
    "jupyter": {
     "outputs_hidden": true
    }
   },
   "outputs": [],
   "source": [
    "import tensorflow as tf\n",
    "from tensorflow.keras.models import Sequential\n",
    "from tensorflow.keras.layers import Dense, Conv2D, Dropout, MaxPool2D, Flatten, GlobalAveragePooling2D, add, average, \\\n",
    "    maximum\n",
    "import tensorflow_addons as tfa\n",
    "\n",
    "import tensorflow_datasets as tfds\n",
    "import tensorflow_hub as hub\n",
    "import pandas as pd\n",
    "import numpy as np\n",
    "import matplotlib.pyplot as plt\n",
    "import os\n",
    "import pathlib\n",
    "import shutil\n",
    "\n",
    "from PIL import Image"
   ]
  },
  {
   "cell_type": "code",
   "execution_count": 2,
   "metadata": {
    "collapsed": false,
    "jupyter": {
     "outputs_hidden": false
    },
    "pycharm": {
     "name": "#%%\n"
    }
   },
   "outputs": [],
   "source": [
    "from tensorflow_docs import modeling"
   ]
  },
  {
   "cell_type": "code",
   "execution_count": 3,
   "metadata": {
    "collapsed": false,
    "jupyter": {
     "outputs_hidden": false
    },
    "pycharm": {
     "name": "#%%\n"
    }
   },
   "outputs": [],
   "source": [
    "tfds.disable_progress_bar()  # disable tqdm progress bar\n",
    "AUTOTUNE = tf.data.experimental.AUTOTUNE"
   ]
  },
  {
   "cell_type": "code",
   "execution_count": 4,
   "metadata": {
    "collapsed": false,
    "jupyter": {
     "outputs_hidden": false
    },
    "pycharm": {
     "name": "#%%\n"
    }
   },
   "outputs": [],
   "source": [
    "# gpus = tf.config.experimental.list_physical_devices('GPU')\n",
    "# if gpus:\n",
    "#   try:\n",
    "#     # Currently, memory growth needs to be the same across GPUs\n",
    "#     for gpu in gpus:\n",
    "#       tf.config.experimental.set_memory_growth(gpu, True)\n",
    "#     logical_gpus = tf.config.experimental.list_logical_devices('GPU')\n",
    "#     print(len(gpus), \"Physical GPUs,\", len(logical_gpus), \"Logical GPUs\")\n",
    "#   except RuntimeError as e:\n",
    "#     # Memory growth must be set before GPUs have been initialized\n",
    "#     print(e)\n"
   ]
  },
  {
   "cell_type": "code",
   "execution_count": 5,
   "metadata": {
    "collapsed": false,
    "jupyter": {
     "outputs_hidden": false
    },
    "pycharm": {
     "name": "#%%\n"
    }
   },
   "outputs": [
    {
     "name": "stdout",
     "output_type": "stream",
     "text": [
      "TensorFlow Version:  2.2.0\n",
      "Number of GPU available:  1\n"
     ]
    }
   ],
   "source": [
    "print(\"TensorFlow Version: \", tf.__version__)\n",
    "print(\"Number of GPU available: \", len(tf.config.experimental.list_physical_devices(\"GPU\")))"
   ]
  },
  {
   "cell_type": "code",
   "execution_count": 6,
   "metadata": {
    "collapsed": false,
    "jupyter": {
     "outputs_hidden": false
    },
    "pycharm": {
     "name": "#%%\n"
    }
   },
   "outputs": [],
   "source": [
    "def read_and_label(file_path):\n",
    "    img = tf.io.read_file(file_path)\n",
    "    img = decode_img(img)\n",
    "    label = get_label(file_path)\n",
    "    img = no_nuc(img,file_path)\n",
    "    return img, label\n",
    "\n",
    "\n",
    "def decode_img(img):\n",
    "    img = tf.image.decode_jpeg(img, channels=3)\n",
    "    img = tf.image.convert_image_dtype(img, tf.float32)\n",
    "    return tf.image.resize(img, [IMG_WIDTH, IMG_HEIGHT])\n",
    "\n",
    "\n",
    "def get_label(file_path):\n",
    "    parts = tf.strings.split(file_path, os.path.sep)\n",
    "    return tf.reshape(tf.where(parts[-4] == CLASS_NAMES), [])\n",
    "\n",
    "\n",
    "def augment(image, label):\n",
    "    image = tf.image.random_hue(image, max_delta=0.04, seed=5)\n",
    "    image = tf.image.random_contrast(image, 0.9, 1.1, seed=5)  # tissue quality\n",
    "    image = tf.image.random_saturation(image, 0.9, 1.1, seed=5)  # stain quality\n",
    "    image = tf.image.random_brightness(image, max_delta=0.1)  # tissue thickness, glass transparency (clean)\n",
    "    image = tf.image.random_flip_left_right(image, seed=5)  # cell orientation\n",
    "    image = tf.image.random_flip_up_down(image, seed=5)  # cell orientation\n",
    "    image = tf.image.rot90(image, tf.random.uniform(shape=[], minval=0, maxval=4, dtype=tf.int32))  # cell orientation\n",
    "    return image, label\n",
    "\n",
    "def no_nuc(image,file_path):\n",
    "    maskpth = tf.strings.regex_replace(file_path,'image','label')\n",
    "    mask = tf.io.read_file(maskpth)\n",
    "    mask = tf.image.decode_jpeg(mask, channels=1)\n",
    "    mask = tf.image.convert_image_dtype(mask, tf.float16)\n",
    "    mask = tf.image.resize(mask, [IMG_WIDTH, IMG_HEIGHT])\n",
    "    mask = tf.math.greater(mask, 0.5)\n",
    "    # mask = tf.math.logical_not(mask)\n",
    "    maskedimg = tf.where(mask, image, tf.zeros(tf.shape(image)))\n",
    "    return maskedimg"
   ]
  },
  {
   "cell_type": "code",
   "execution_count": 7,
   "outputs": [],
   "source": [
    "def balance(data_dir):\n",
    "    tmp = [0]\n",
    "    for CLASS, n in zip(CLASS_NAMES, samplesize):\n",
    "        secs = [_ for _ in data_dir.glob(CLASS+'/*')]\n",
    "        for idx,sec in enumerate(secs):\n",
    "            sec = os.path.join(sec, 'image/*.jpg')\n",
    "            list_ds = tf.data.Dataset.list_files(sec)\n",
    "            # subsample\n",
    "            list_ds = (list_ds\n",
    "                       .shuffle(shuffle_buffer_size)\n",
    "                       .take(n)\n",
    "                       )\n",
    "            labeled_ds = list_ds.map(read_and_label, num_parallel_calls=AUTOTUNE)\n",
    "\n",
    "            # add augment\n",
    "            sampleN = len(list(labeled_ds))\n",
    "            while sampleN < n:\n",
    "                labeled_ds_aug = (labeled_ds\n",
    "                                  .shuffle(shuffle_buffer_size)\n",
    "                                  .take(n-sampleN)\n",
    "                                  .map(augment,num_parallel_calls=AUTOTUNE)\n",
    "                                  )\n",
    "                labeled_ds = labeled_ds.concatenate(labeled_ds_aug)\n",
    "                sampleN = len(list(labeled_ds))\n",
    "            print('list_ds: ', len(list(labeled_ds)),CLASS)\n",
    "            # append\n",
    "            if tmp[0] == 0:\n",
    "                tmp[idx] = labeled_ds\n",
    "            else:\n",
    "                labeled_ds = tmp[0].concatenate(labeled_ds)\n",
    "                tmp[0] = labeled_ds\n",
    "        # print(CLASS, ': sample size =', len(list(tmp[0])))\n",
    "    return tmp[0].shuffle(shuffle_buffer_size)"
   ],
   "metadata": {
    "collapsed": false,
    "pycharm": {
     "name": "#%%\n"
    }
   }
  },
  {
   "cell_type": "code",
   "execution_count": 8,
   "metadata": {
    "collapsed": false,
    "jupyter": {
     "outputs_hidden": false
    },
    "pycharm": {
     "name": "#%%\n"
    }
   },
   "outputs": [],
   "source": [
    "shuffle_buffer_size = 100000  # take first 100 from dataset and shuffle and pick one.\n",
    "IMG_HEIGHT = 100\n",
    "IMG_WIDTH = 100\n",
    "BATCH_SIZE = 128\n",
    "val_fraction = 30\n",
    "samplesize = [400, 300] #young, old\n",
    "# list location of all training images\n",
    "train_data_dir = '/home/kuki/Desktop/Research/cnn_dataset/train'\n",
    "train_data_dir = pathlib.Path(train_data_dir)\n",
    "CLASS_NAMES = np.array(\n",
    "    [item.name for item in train_data_dir.glob('*') if item.name != \"LICENSE.txt\" and item.name != \".DS_store\"])"
   ]
  },
  {
   "cell_type": "code",
   "execution_count": 9,
   "outputs": [],
   "source": [
    "# tf.executing_eagerly()\n",
    "# tf.compat.v1.disable_eager_execution()\n",
    "# tf.executing_eagerly()"
   ],
   "metadata": {
    "collapsed": false,
    "pycharm": {
     "name": "#%%\n"
    }
   }
  },
  {
   "cell_type": "code",
   "execution_count": 10,
   "outputs": [],
   "source": [
    "# list_ds = tf.data.Dataset.list_files('/home/kuki/Desktop/Research/cnn_dataset/train/young/sec001/image/*.jpg')\n",
    "# for file_path in list_ds.take(1):\n",
    "#     image = tf.io.read_file(file_path)\n",
    "#     image = decode_img(image)\n",
    "#     plt.imshow(image)\n"
   ],
   "metadata": {
    "collapsed": false,
    "pycharm": {
     "name": "#%%\n"
    }
   }
  },
  {
   "cell_type": "code",
   "execution_count": 11,
   "outputs": [
    {
     "name": "stdout",
     "output_type": "stream",
     "text": [
      "list_ds:  400 young\n",
      "list_ds:  400 young\n",
      "list_ds:  400 young\n",
      "list_ds:  400 young\n",
      "list_ds:  400 young\n",
      "list_ds:  400 young\n",
      "list_ds:  300 old\n",
      "list_ds:  300 old\n",
      "list_ds:  300 old\n",
      "list_ds:  300 old\n",
      "list_ds:  300 old\n",
      "list_ds:  300 old\n",
      "list_ds:  300 old\n",
      "list_ds:  300 old\n",
      "training set size :  4800\n",
      "validation size:  1440\n",
      "training set size after split :  3360\n"
     ]
    }
   ],
   "source": [
    "train_labeled_ds = balance(train_data_dir)\n",
    "train_image_count = len(list(train_labeled_ds))\n",
    "print('training set size : ', train_image_count)\n",
    "val_image_count = train_image_count // 100 * val_fraction\n",
    "print('validation size: ', val_image_count)\n",
    "train_image_count2 = train_image_count-val_image_count\n",
    "print('training set size after split : ', train_image_count2)\n",
    "STEPS_PER_EPOCH = train_image_count2 // BATCH_SIZE\n",
    "VALIDATION_STEPS = val_image_count // BATCH_SIZE"
   ],
   "metadata": {
    "collapsed": false,
    "pycharm": {
     "name": "#%%\n"
    }
   }
  },
  {
   "cell_type": "code",
   "execution_count": 12,
   "metadata": {
    "collapsed": false,
    "jupyter": {
     "outputs_hidden": false
    },
    "pycharm": {
     "name": "#%%\n"
    }
   },
   "outputs": [
    {
     "name": "stderr",
     "output_type": "stream",
     "text": [
      "Clipping input data to the valid range for imshow with RGB data ([0..1] for floats or [0..255] for integers).\n",
      "Clipping input data to the valid range for imshow with RGB data ([0..1] for floats or [0..255] for integers).\n",
      "Clipping input data to the valid range for imshow with RGB data ([0..1] for floats or [0..255] for integers).\n",
      "Clipping input data to the valid range for imshow with RGB data ([0..1] for floats or [0..255] for integers).\n",
      "Clipping input data to the valid range for imshow with RGB data ([0..1] for floats or [0..255] for integers).\n",
      "Clipping input data to the valid range for imshow with RGB data ([0..1] for floats or [0..255] for integers).\n",
      "Clipping input data to the valid range for imshow with RGB data ([0..1] for floats or [0..255] for integers).\n",
      "Clipping input data to the valid range for imshow with RGB data ([0..1] for floats or [0..255] for integers).\n",
      "Clipping input data to the valid range for imshow with RGB data ([0..1] for floats or [0..255] for integers).\n",
      "Clipping input data to the valid range for imshow with RGB data ([0..1] for floats or [0..255] for integers).\n",
      "Clipping input data to the valid range for imshow with RGB data ([0..1] for floats or [0..255] for integers).\n",
      "Clipping input data to the valid range for imshow with RGB data ([0..1] for floats or [0..255] for integers).\n",
      "Clipping input data to the valid range for imshow with RGB data ([0..1] for floats or [0..255] for integers).\n",
      "Clipping input data to the valid range for imshow with RGB data ([0..1] for floats or [0..255] for integers).\n",
      "Clipping input data to the valid range for imshow with RGB data ([0..1] for floats or [0..255] for integers).\n",
      "Clipping input data to the valid range for imshow with RGB data ([0..1] for floats or [0..255] for integers).\n",
      "Clipping input data to the valid range for imshow with RGB data ([0..1] for floats or [0..255] for integers).\n",
      "Clipping input data to the valid range for imshow with RGB data ([0..1] for floats or [0..255] for integers).\n"
     ]
    },
    {
     "data": {
      "text/plain": "<Figure size 720x720 with 100 Axes>",
      "image/png": "[encoded data removed]"
     },
     "metadata": {
      "needs_background": "light"
     },
     "output_type": "display_data"
    }
   ],
   "source": [
    "plt.figure(figsize=(10,10))\n",
    "for idx, elem in enumerate(train_labeled_ds.take(100)):\n",
    "    img = elem[0]\n",
    "    label = elem[1]\n",
    "    ax = plt.subplot(10,10,idx+1)\n",
    "    plt.imshow(img)\n",
    "    plt.title(CLASS_NAMES[label].title())\n",
    "    plt.axis('off')\n",
    "plt.show()"
   ]
  },
  {
   "cell_type": "code",
   "execution_count": null,
   "metadata": {
    "collapsed": false,
    "jupyter": {
     "outputs_hidden": false
    },
    "pycharm": {
     "name": "#%%\n"
    }
   },
   "outputs": [],
   "source": [
    "train_ds = (train_labeled_ds\n",
    "            .skip(val_image_count)\n",
    "            # .cache(\"./cache/fibro_train.tfcache\")\n",
    "            .shuffle(buffer_size=shuffle_buffer_size)\n",
    "            .repeat()\n",
    "            .batch(BATCH_SIZE)\n",
    "            .map(augment, num_parallel_calls=AUTOTUNE)  # always batch before mapping\n",
    "            .prefetch(buffer_size=AUTOTUNE)\n",
    "            )\n",
    "\n",
    "val_ds = (train_labeled_ds\n",
    "          .take(val_image_count)\n",
    "          # .cache(\"./cache/fibro_val.tfcache\")\n",
    "          .repeat()\n",
    "          .batch(BATCH_SIZE)\n",
    "          .prefetch(buffer_size=AUTOTUNE))\n",
    "\n",
    "test_data_dir = '/home/kuki/Desktop/Research/cnn_dataset/test'\n",
    "test_data_dir = pathlib.Path(test_data_dir)\n",
    "test_labeled_ds = balance(test_data_dir)\n",
    "\n",
    "plt.figure(figsize=(10,10))\n",
    "for idx,elem in enumerate(test_labeled_ds.take(100)):\n",
    "    img = elem[0]\n",
    "    label = elem[1]\n",
    "    ax = plt.subplot(10,10,idx+1)\n",
    "    plt.imshow(img)\n",
    "    plt.title(CLASS_NAMES[label].title())\n",
    "    plt.axis('off')\n",
    "plt.show()\n",
    "\n",
    "\n",
    "test_ds = (test_labeled_ds\n",
    "           # .cache(\"./cache/fibro_test.tfcache\")\n",
    "           .shuffle(buffer_size=shuffle_buffer_size)\n",
    "           .repeat()\n",
    "           .batch(BATCH_SIZE)\n",
    "           .prefetch(buffer_size=AUTOTUNE)  # time it takes to produce next element\n",
    "           )\n",
    "test_image_count = len(list(test_labeled_ds))\n",
    "print('test set size : ', test_image_count)\n",
    "TEST_STEPS = test_image_count // BATCH_SIZE"
   ]
  },
  {
   "cell_type": "code",
   "execution_count": null,
   "metadata": {
    "collapsed": false,
    "jupyter": {
     "outputs_hidden": false
    },
    "pycharm": {
     "name": "#%%\n"
    }
   },
   "outputs": [],
   "source": [
    "checkpoint_dir = \"training_1\"\n",
    "# shutil.rmtree(checkpoint_dir, ignore_errors=True)\n",
    "\n",
    "def get_callbacks(name):\n",
    "    return [\n",
    "        modeling.EpochDots(),\n",
    "        tf.keras.callbacks.EarlyStopping(monitor='val_sparse_categorical_crossentropy',\n",
    "                                         patience=50, restore_best_weights=True),\n",
    "        # tf.keras.callbacks.TensorBoard(log_dir/name, histogram_freq=1),\n",
    "        tf.keras.callbacks.ModelCheckpoint(filepath=checkpoint_dir + \"/{}/cp.ckpt\".format(name),\n",
    "                                           verbose=0,\n",
    "                                           monitor='val_sparse_categorical_crossentropy',\n",
    "                                           save_weights_only=True,\n",
    "                                           save_best_only=True),\n",
    "        tf.keras.callbacks.ReduceLROnPlateau(monitor='val_sparse_categorical_crossentropy',\n",
    "                                             factor=0.1, patience=10, verbose=0, mode='auto',\n",
    "                                             min_delta=0.0001, cooldown=0, min_lr=0),\n",
    "    ]\n",
    "\n",
    "def compilefit(model, name, max_epochs=300):\n",
    "    model.compile(optimizer=tf.keras.optimizers.Adam(),\n",
    "                  loss=tf.keras.losses.SparseCategoricalCrossentropy(from_logits=True),\n",
    "                  metrics=[tf.keras.losses.SparseCategoricalCrossentropy(from_logits=True), 'accuracy'])\n",
    "    model_history = model.fit(val_ds,\n",
    "                              steps_per_epoch=STEPS_PER_EPOCH,\n",
    "                              epochs=max_epochs,\n",
    "                              verbose=0,\n",
    "                              validation_data=test_ds,\n",
    "                              callbacks=get_callbacks(name),\n",
    "                              validation_steps=VALIDATION_STEPS,\n",
    "                              use_multiprocessing=True\n",
    "                              )\n",
    "    namename = os.path.dirname(name)\n",
    "    if not os.path.isdir(os.path.abspath(namename)):\n",
    "        os.mkdir(os.path.abspath(namename))\n",
    "    if not os.path.isdir(os.path.abspath(name)):\n",
    "        os.mkdir(os.path.abspath(name))\n",
    "    if not os.path.isfile(pathlib.Path(name) / 'full_model.h5'):\n",
    "        try:\n",
    "            model.save(pathlib.Path(name) / 'full_model.h5')\n",
    "        except:\n",
    "            print('model not saved?')\n",
    "\n",
    "    return model_history\n",
    "\n",
    "\n",
    "def plotdf(dfobj, condition, lr=None):\n",
    "    pd.DataFrame(dfobj).plot(title=condition)\n",
    "    dfobj.pop('loss')\n",
    "    dfobj.pop('val_loss')\n",
    "    dfobj1 = dfobj.copy()\n",
    "    dfobj2 = dfobj.copy()\n",
    "    dfobj.pop('lr')\n",
    "    dfobj.pop('sparse_categorical_crossentropy')\n",
    "    dfobj.pop('val_sparse_categorical_crossentropy')\n",
    "    pd.DataFrame(dfobj).plot(title=condition)\n",
    "    dfobj1.pop('lr')\n",
    "    dfobj1.pop('accuracy')\n",
    "    dfobj1.pop('val_accuracy')\n",
    "    pd.DataFrame(dfobj1).plot(title=condition)\n",
    "    if lr is not 'decay':\n",
    "        dfobj2.pop('sparse_categorical_crossentropy')\n",
    "        dfobj2.pop('val_sparse_categorical_crossentropy')\n",
    "        dfobj2.pop('accuracy')\n",
    "        dfobj2.pop('val_accuracy')\n",
    "        pd.DataFrame(dfobj2).plot(title=condition)\n",
    "    plt.show()\n",
    "\n",
    "def evaluateit(network,networkname):\n",
    "    # with tf.device('/device:GPU:1'):\n",
    "    histories[networkname] = compilefit(network, 'cnn/'+networkname, max_epochs=300)\n",
    "    results = network.evaluate(test_ds, steps=TEST_STEPS)\n",
    "    plotdf(histories[networkname].history,networkname)\n",
    "    print('test acc', results[-1] * 100)\n",
    "\n",
    "def load_dataset(dataset_dir):\n",
    "    dataset_dir = pathlib.Path(dataset_dir)\n",
    "    test_image_count2 = len(list(dataset_dir.glob('image/*.jpg')))\n",
    "    list_ds = tf.data.Dataset.list_files(str(dataset_dir / 'image/*.jpg'))\n",
    "    labeled_ds = list_ds.map(read_and_label, num_parallel_calls=AUTOTUNE)\n",
    "    return labeled_ds, test_image_count2\n",
    "\n",
    "\n",
    "def evalmodels(path, model):\n",
    "    datasett, datasettsize = load_dataset(path)\n",
    "    print('datasetsize',datasettsize)\n",
    "    results = model.evaluate(datasett.batch(1000))\n",
    "    aa.append(np.around(results[-1] * 100, decimals=1))"
   ]
  },
  {
   "cell_type": "code",
   "execution_count": null,
   "metadata": {
    "collapsed": false,
    "jupyter": {
     "outputs_hidden": false
    },
    "pycharm": {
     "name": "#%%\n"
    }
   },
   "outputs": [],
   "source": [
    "histories = {}"
   ]
  },
  {
   "cell_type": "code",
   "execution_count": null,
   "metadata": {
    "collapsed": false,
    "jupyter": {
     "outputs_hidden": false
    },
    "pycharm": {
     "name": "#%%\n"
    }
   },
   "outputs": [],
   "source": [
    "# ResV2_base = tf.keras.applications.ResNet101V2(input_shape=(100, 100, 3),\n",
    "#                                             pooling='avg',\n",
    "#                                             include_top=False,\n",
    "#                                             weights='imagenet'\n",
    "#                                             )\n",
    "# ResV2 = tf.keras.Sequential([\n",
    "#     ResV2_base,\n",
    "#     Dense(2, activation='softmax')\n",
    "# ])\n",
    "# evaluateit(ResV2,'ResV2')\n",
    "#\n"
   ]
  },
  {
   "cell_type": "code",
   "execution_count": null,
   "metadata": {
    "collapsed": false,
    "jupyter": {
     "outputs_hidden": false
    },
    "pycharm": {
     "name": "#%%\n"
    }
   },
   "outputs": [],
   "source": [
    "# aa=[]\n",
    "# evalmodels('/home/kuki/Desktop/Research/cnn_dataset/test/young/sec023',ResV2)\n",
    "# evalmodels('/home/kuki/Desktop/Research/cnn_dataset/test/old/sec076',ResV2)\n",
    "#\n",
    "# aa\n",
    "#"
   ]
  },
  {
   "cell_type": "code",
   "execution_count": null,
   "metadata": {
    "collapsed": false,
    "jupyter": {
     "outputs_hidden": false
    },
    "pycharm": {
     "name": "#%%\n"
    }
   },
   "outputs": [],
   "source": [
    "# ResV2_base_2 = tf.keras.applications.ResNet101V2(input_shape=(100, 100, 3),\n",
    "#                                             pooling='avg',\n",
    "#                                             include_top=False,\n",
    "#                                             weights=None\n",
    "#                                             )\n",
    "# ResV2_2 = tf.keras.Sequential([\n",
    "#     ResV2_base_2,\n",
    "#     Dense(2, activation='softmax')\n",
    "# ])\n",
    "# evaluateit(ResV2_2,'ResV2_2')\n",
    "#\n",
    "# # f = open(\"histories.pkl\",\"wb\")\n",
    "# # pickle.dump(histories,f)\n",
    "# # f.close()\n",
    "#\n",
    "#"
   ]
  },
  {
   "cell_type": "code",
   "execution_count": null,
   "metadata": {
    "collapsed": false,
    "jupyter": {
     "outputs_hidden": false
    },
    "pycharm": {
     "name": "#%%\n"
    }
   },
   "outputs": [],
   "source": [
    "# aa=[]\n",
    "# evalmodels('/home/kuki/Desktop/Research/cnn_dataset/test/young/sec023',ResV2_2)\n",
    "# evalmodels('/home/kuki/Desktop/Research/cnn_dataset/test/old/sec076',ResV2_2)\n",
    "#\n",
    "# aa\n",
    "#"
   ]
  },
  {
   "cell_type": "code",
   "execution_count": null,
   "metadata": {
    "collapsed": false,
    "jupyter": {
     "outputs_hidden": false
    },
    "pycharm": {
     "name": "#%%\n"
    }
   },
   "outputs": [],
   "source": [
    "# ResV2_base_3 = tf.keras.applications.ResNet101V2(input_shape=(100, 100, 3),\n",
    "#                                             pooling=None,\n",
    "#                                             include_top=False,\n",
    "#                                             weights=None\n",
    "#                                             )\n",
    "# ResV2_3 = tf.keras.Sequential([\n",
    "#     ResV2_base_3,\n",
    "#     Dense(2, activation='softmax')\n",
    "# ])\n",
    "# evaluateit(ResV2_3,'ResV2_3')\n",
    "# \n",
    "# f = open(\"histories.pkl\",\"wb\")\n",
    "# pickle.dump(histories,f)\n",
    "# f.close()"
   ]
  },
  {
   "cell_type": "code",
   "execution_count": null,
   "metadata": {
    "collapsed": false,
    "jupyter": {
     "outputs_hidden": false
    },
    "pycharm": {
     "name": "#%%\n"
    }
   },
   "outputs": [],
   "source": [
    "# aa=[]\n",
    "# evalmodels('/home/kuki/Desktop/Research/cnn_dataset/test/young/sec023',ResV2_3)\n",
    "# evalmodels('/home/kuki/Desktop/Research/cnn_dataset/test/old/sec076',ResV2_3)\n",
    "#\n",
    "# aa"
   ]
  },
  {
   "cell_type": "code",
   "execution_count": null,
   "metadata": {
    "collapsed": false,
    "jupyter": {
     "outputs_hidden": false
    },
    "pycharm": {
     "name": "#%%\n"
    }
   },
   "outputs": [],
   "source": [
    "# IncV3_base = tf.keras.applications.InceptionV3(input_shape=(100, 100, 3),\n",
    "#                                             pooling=None,\n",
    "#                                             include_top=False,\n",
    "#                                             weights='imagenet'\n",
    "#                                             )\n",
    "# IncV3 = tf.keras.Sequential([\n",
    "#     IncV3_base,\n",
    "#     Dense(2, activation='softmax')\n",
    "# ])\n",
    "# evaluateit(IncV3,'IncV3')\n",
    "\n",
    "# f = open(\"histories.pkl\",\"wb\")\n",
    "# pickle.dump(histories,f)\n",
    "# f.close()\n"
   ]
  },
  {
   "cell_type": "code",
   "execution_count": null,
   "metadata": {
    "collapsed": false,
    "jupyter": {
     "outputs_hidden": false
    },
    "pycharm": {
     "name": "#%%\n"
    }
   },
   "outputs": [],
   "source": [
    "# aa=[]\n",
    "# evalmodels('/home/kuki/Desktop/Research/cnn_dataset/test/young/sec023',IncV3)\n",
    "# evalmodels('/home/kuki/Desktop/Research/cnn_dataset/test/old/sec076',IncV3)\n",
    "#\n",
    "# aa"
   ]
  },
  {
   "cell_type": "code",
   "execution_count": null,
   "metadata": {
    "collapsed": false,
    "jupyter": {
     "outputs_hidden": false
    },
    "pycharm": {
     "name": "#%%\n"
    }
   },
   "outputs": [],
   "source": [
    "#fixed\n",
    "# MobileNetV2_base = tf.keras.applications.MobileNetV2(input_shape=(100, 100, 3),\n",
    "#                                             pooling=None,\n",
    "#                                             include_top=False,\n",
    "#                                             weights='imagenet'\n",
    "#                                             )\n",
    "# MobileNetV2 = tf.keras.Sequential([\n",
    "#     MobileNetV2_base,\n",
    "#     Dense(2, activation='softmax')\n",
    "# ])\n",
    "# evaluateit(MobileNetV2,'MobileNetV2')\n",
    "\n",
    "\n"
   ]
  },
  {
   "cell_type": "code",
   "execution_count": null,
   "metadata": {
    "collapsed": false,
    "jupyter": {
     "outputs_hidden": false
    },
    "pycharm": {
     "name": "#%%\n"
    }
   },
   "outputs": [],
   "source": [
    "# aa=[]\n",
    "# evalmodels('/home/kuki/Desktop/Research/cnn_dataset/test/young/sec023',MobileNetV2)\n",
    "# evalmodels('/home/kuki/Desktop/Research/cnn_dataset/test/old/sec076',MobileNetV2)\n",
    "# \n",
    "# aa"
   ]
  },
  {
   "cell_type": "code",
   "execution_count": null,
   "metadata": {
    "collapsed": false,
    "jupyter": {
     "outputs_hidden": false
    },
    "pycharm": {
     "name": "#%%\n"
    }
   },
   "outputs": [],
   "source": [
    "InceptionResNetV2_base = tf.keras.applications.InceptionResNetV2(input_shape=(100, 100, 3),\n",
    "                                            pooling=None,\n",
    "                                            include_top=False,\n",
    "                                            weights='imagenet'\n",
    "                                            )\n",
    "InceptionResNetV2 = tf.keras.Sequential([\n",
    "    InceptionResNetV2_base,\n",
    "    Dense(2, activation='softmax')\n",
    "])\n",
    "evaluateit(InceptionResNetV2,'InceptionResNetV2')\n",
    "\n",
    "# f = open(\"histories.pkl\",\"wb\")\n",
    "# pickle.dump(histories,f)\n",
    "# f.close()\n"
   ]
  },
  {
   "cell_type": "code",
   "execution_count": null,
   "metadata": {
    "collapsed": false,
    "jupyter": {
     "outputs_hidden": false
    },
    "pycharm": {
     "name": "#%%\n"
    }
   },
   "outputs": [],
   "source": [
    "aa=[]\n",
    "evalmodels('/home/kuki/Desktop/Research/cnn_dataset/test/young/sec023',InceptionResNetV2)\n",
    "evalmodels('/home/kuki/Desktop/Research/cnn_dataset/test/old/sec076',InceptionResNetV2)\n",
    "\n",
    "aa"
   ]
  },
  {
   "cell_type": "code",
   "execution_count": null,
   "metadata": {
    "collapsed": false,
    "jupyter": {
     "outputs_hidden": false
    },
    "pycharm": {
     "name": "#%%\n"
    }
   },
   "outputs": [],
   "source": [
    "Xception_base = tf.keras.applications.Xception(input_shape=(100, 100, 3),\n",
    "                                            pooling=None,\n",
    "                                            include_top=False,\n",
    "                                            weights='imagenet'\n",
    "                                            )\n",
    "Xception = tf.keras.Sequential([\n",
    "    Xception_base,\n",
    "    Dense(2, activation='softmax')\n",
    "])\n",
    "evaluateit(Xception,'Xception')\n",
    "\n",
    "# f = open(\"histories.pkl\",\"wb\")\n",
    "# pickle.dump(histories,f)\n",
    "# f.close()"
   ]
  },
  {
   "cell_type": "code",
   "execution_count": null,
   "metadata": {
    "collapsed": false,
    "jupyter": {
     "outputs_hidden": false
    },
    "pycharm": {
     "name": "#%%\n"
    }
   },
   "outputs": [],
   "source": [
    "aa=[]\n",
    "evalmodels('/home/kuki/Desktop/Research/cnn_dataset/test/young/sec023',Xception)\n",
    "evalmodels('/home/kuki/Desktop/Research/cnn_dataset/test/old/sec076',Xception)\n",
    "\n",
    "aa"
   ]
  },
  {
   "cell_type": "code",
   "execution_count": null,
   "metadata": {
    "collapsed": false,
    "jupyter": {
     "outputs_hidden": false
    },
    "pycharm": {
     "name": "#%%\n"
    }
   },
   "outputs": [],
   "source": [
    "def load_compile(net):\n",
    "    model = tf.keras.models.load_model('cnn/' + net + '/full_model.h5', compile=False,\n",
    "                                       # custom_objects={'KerasLayer': hub.KerasLayer}\n",
    "                                       )\n",
    "    model.compile(loss=tf.keras.losses.SparseCategoricalCrossentropy(from_logits=True),\n",
    "                  optimizer=tf.keras.optimizers.Adam(),\n",
    "                  metrics=['accuracy'])\n",
    "    return model\n",
    "\n",
    "\n",
    "ResV2 = load_compile('ResV2')\n",
    "IncV3 = load_compile('IncV3')\n",
    "ResV2_2 = load_compile('ResV2_2')\n",
    "InceptionResNetV2 = load_compile('InceptionResNetV2')"
   ]
  },
  {
   "cell_type": "code",
   "execution_count": null,
   "metadata": {
    "collapsed": false,
    "jupyter": {
     "outputs_hidden": false
    },
    "pycharm": {
     "name": "#%%\n"
    }
   },
   "outputs": [],
   "source": [
    "ms = [ResV2, IncV3, ResV2_2, InceptionResNetV2]\n",
    "for m in ms:\n",
    "    aa=[]\n",
    "    print('young train')\n",
    "    evalmodels('/home/kuki/Desktop/Research/cnn_dataset/train/young/sec001',m)\n",
    "    evalmodels('/home/kuki/Desktop/Research/cnn_dataset/train/young/sec003',m)\n",
    "    evalmodels('/home/kuki/Desktop/Research/cnn_dataset/train/young/sec007',m)\n",
    "    evalmodels('/home/kuki/Desktop/Research/cnn_dataset/train/young/sec010',m)\n",
    "    evalmodels('/home/kuki/Desktop/Research/cnn_dataset/train/young/sec016',m)\n",
    "    evalmodels('/home/kuki/Desktop/Research/cnn_dataset/train/young/sec019',m)\n",
    "    print('young test')\n",
    "    evalmodels('/home/kuki/Desktop/Research/cnn_dataset/test/young/sec023',m)\n",
    "    evalmodels('/home/kuki/Desktop/Research/cnn_dataset/test/young/sec025',m)\n",
    "    evalmodels('/home/kuki/Desktop/Research/cnn_dataset/test/young/sec029',m)\n",
    "    print('old train')\n",
    "    evalmodels('/home/kuki/Desktop/Research/cnn_dataset/train/old/sec031',m)\n",
    "    evalmodels('/home/kuki/Desktop/Research/cnn_dataset/train/old/sec037',m)\n",
    "    evalmodels('/home/kuki/Desktop/Research/cnn_dataset/train/old/sec041',m)\n",
    "    evalmodels('/home/kuki/Desktop/Research/cnn_dataset/train/old/sec045',m)\n",
    "    evalmodels('/home/kuki/Desktop/Research/cnn_dataset/train/old/sec049',m)\n",
    "    evalmodels('/home/kuki/Desktop/Research/cnn_dataset/train/old/sec062',m)\n",
    "    evalmodels('/home/kuki/Desktop/Research/cnn_dataset/train/old/sec068',m)\n",
    "    print('old test')\n",
    "    evalmodels('/home/kuki/Desktop/Research/cnn_dataset/test/old/sec076',m)\n",
    "    evalmodels('/home/kuki/Desktop/Research/cnn_dataset/test/old/sec078',m)\n",
    "    evalmodels('/home/kuki/Desktop/Research/cnn_dataset/test/old/sec082',m)\n",
    "    evalmodels('/home/kuki/Desktop/Research/cnn_dataset/test/old/sec088',m)\n",
    "    print(aa)"
   ]
  }
 ],
 "metadata": {
  "kernelspec": {
   "display_name": "Python 3",
   "language": "python",
   "name": "python3"
  },
  "language_info": {
   "codemirror_mode": {
    "name": "ipython",
    "version": 3
   },
   "file_extension": ".py",
   "mimetype": "text/x-python",
   "name": "python",
   "nbconvert_exporter": "python",
   "pygments_lexer": "ipython3",
   "version": "3.7.7"
  }
 },
 "nbformat": 4,
 "nbformat_minor": 4
}