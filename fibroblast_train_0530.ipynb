{
 "cells": [
  {
   "cell_type": "code",
   "execution_count": 1,
   "metadata": {
    "collapsed": true,
    "jupyter": {
     "outputs_hidden": true
    }
   },
   "outputs": [],
   "source": [
    "import tensorflow as tf\n",
    "from tensorflow.keras.models import Sequential\n",
    "from tensorflow.keras.layers import Dense, Conv2D, Dropout, MaxPool2D, Flatten, GlobalAveragePooling2D, add, average, \\\n",
    "    maximum\n",
    "import tensorflow_addons as tfa\n",
    "\n",
    "import tensorflow_datasets as tfds\n",
    "import tensorflow_hub as hub\n",
    "import pandas as pd\n",
    "import numpy as np\n",
    "import matplotlib.pyplot as plt\n",
    "import os\n",
    "import pathlib\n",
    "import shutil\n",
    "\n",
    "from PIL import Image"
   ]
  },
  {
   "cell_type": "code",
   "execution_count": 2,
   "metadata": {
    "collapsed": false,
    "jupyter": {
     "outputs_hidden": false
    },
    "pycharm": {
     "name": "#%%\n"
    }
   },
   "outputs": [],
   "source": [
    "from tensorflow_docs import modeling"
   ]
  },
  {
   "cell_type": "code",
   "execution_count": 3,
   "metadata": {
    "collapsed": false,
    "jupyter": {
     "outputs_hidden": false
    },
    "pycharm": {
     "name": "#%%\n"
    }
   },
   "outputs": [],
   "source": [
    "tfds.disable_progress_bar()  # disable tqdm progress bar\n",
    "AUTOTUNE = tf.data.experimental.AUTOTUNE"
   ]
  },
  {
   "cell_type": "code",
   "execution_count": 13,
   "metadata": {
    "collapsed": false,
    "jupyter": {
     "outputs_hidden": false
    },
    "pycharm": {
     "name": "#%%\n"
    }
   },
   "outputs": [],
   "source": [
    "# gpus = tf.config.experimental.list_physical_devices('GPU')\n",
    "# if gpus:\n",
    "#   try:\n",
    "#     # Currently, memory growth needs to be the same across GPUs\n",
    "#     for gpu in gpus:\n",
    "#       tf.config.experimental.set_memory_growth(gpu, True)\n",
    "#     logical_gpus = tf.config.experimental.list_logical_devices('GPU')\n",
    "#     print(len(gpus), \"Physical GPUs,\", len(logical_gpus), \"Logical GPUs\")\n",
    "#   except RuntimeError as e:\n",
    "#     # Memory growth must be set before GPUs have been initialized\n",
    "#     print(e)\n"
   ]
  },
  {
   "cell_type": "code",
   "execution_count": 14,
   "metadata": {
    "collapsed": false,
    "jupyter": {
     "outputs_hidden": false
    },
    "pycharm": {
     "name": "#%%\n"
    }
   },
   "outputs": [
    {
     "name": "stdout",
     "output_type": "stream",
     "text": [
      "TensorFlow Version:  2.2.0\n",
      "Number of GPU available:  1\n"
     ]
    }
   ],
   "source": [
    "print(\"TensorFlow Version: \", tf.__version__)\n",
    "print(\"Number of GPU available: \", len(tf.config.experimental.list_physical_devices(\"GPU\")))"
   ]
  },
  {
   "cell_type": "code",
   "execution_count": 4,
   "metadata": {
    "collapsed": false,
    "jupyter": {
     "outputs_hidden": false
    },
    "pycharm": {
     "name": "#%%\n"
    }
   },
   "outputs": [],
   "source": [
    "def read_and_label(file_path):\n",
    "    img = tf.io.read_file(file_path)\n",
    "    img = decode_img(img)\n",
    "    label = get_label(file_path)\n",
    "    # crop = 1\n",
    "    # img = no_nuc(img,file_path,crop)\n",
    "    return img, label\n",
    "\n",
    "\n",
    "def decode_img(img):\n",
    "    img = tf.image.decode_jpeg(img, channels=3)\n",
    "    img = tf.image.convert_image_dtype(img, tf.float32)\n",
    "    return tf.image.resize(img, [IMG_WIDTH, IMG_HEIGHT])\n",
    "\n",
    "\n",
    "def get_label(file_path):\n",
    "    parts = tf.strings.split(file_path, os.path.sep)\n",
    "    return tf.reshape(tf.where(parts[-4] == CLASS_NAMES), [])\n",
    "\n",
    "\n",
    "def augment(image, label):\n",
    "    image = tf.image.random_hue(image, max_delta=0.04, seed=5)\n",
    "    image = tf.image.random_contrast(image, 0.9, 1.1, seed=5)  # tissue quality\n",
    "    image = tf.image.random_saturation(image, 0.9, 1.1, seed=5)  # stain quality\n",
    "    image = tf.image.random_brightness(image, max_delta=0.1)  # tissue thickness, glass transparency (clean)\n",
    "    image = tf.image.random_flip_left_right(image, seed=5)  # cell orientation\n",
    "    image = tf.image.random_flip_up_down(image, seed=5)  # cell orientation\n",
    "    image = tf.image.rot90(image, tf.random.uniform(shape=[], minval=0, maxval=4, dtype=tf.int32))  # cell orientation\n",
    "    return image, label\n",
    "\n",
    "def no_nuc(image,file_path,crop):\n",
    "    maskpth = tf.strings.regex_replace(file_path,'image','label')\n",
    "    mask = tf.io.read_file(maskpth)\n",
    "    mask = tf.image.decode_jpeg(mask, channels=1)\n",
    "    mask = tf.image.convert_image_dtype(mask, tf.float16)\n",
    "    mask = tf.image.resize(mask, [IMG_WIDTH, IMG_HEIGHT])\n",
    "    mask = tf.image.central_crop(mask,crop)\n",
    "    image = tf.image.central_crop(image,crop)\n",
    "    mask = tf.math.greater(mask, 0.25)\n",
    "    mask = tf.math.logical_not(mask)\n",
    "    maskedimg = tf.where(mask, image, tf.zeros(tf.shape(image)))\n",
    "    return maskedimg\n",
    "    # return tf.image.resize(maskedimg, [32, 32])"
   ]
  },
  {
   "cell_type": "code",
   "execution_count": 5,
   "outputs": [],
   "source": [
    "def balance(data_dir):\n",
    "    tmp = [0]\n",
    "    for CLASS, n in zip(CLASS_NAMES, samplesize):\n",
    "        secs = [_ for _ in data_dir.glob(CLASS+'/*')]\n",
    "        for idx,sec in enumerate(secs):\n",
    "            sec = os.path.join(sec, 'image/*.jpg')\n",
    "            list_ds = tf.data.Dataset.list_files(sec)\n",
    "            # subsample\n",
    "            list_ds = (list_ds\n",
    "                       .shuffle(shuffle_buffer_size)\n",
    "                       .take(n)\n",
    "                       )\n",
    "            labeled_ds = list_ds.map(read_and_label, num_parallel_calls=AUTOTUNE)\n",
    "\n",
    "            # add augment\n",
    "            sampleN = len(list(labeled_ds))\n",
    "            while sampleN < n:\n",
    "                labeled_ds_aug = (labeled_ds\n",
    "                                  .shuffle(shuffle_buffer_size)\n",
    "                                  .take(n-sampleN)\n",
    "                                  .map(augment,num_parallel_calls=AUTOTUNE)\n",
    "                                  )\n",
    "                labeled_ds = labeled_ds.concatenate(labeled_ds_aug)\n",
    "                sampleN = len(list(labeled_ds))\n",
    "            print('list_ds: ', len(list(labeled_ds)),CLASS)\n",
    "            # append\n",
    "            if tmp[0] == 0:\n",
    "                tmp[idx] = labeled_ds\n",
    "            else:\n",
    "                labeled_ds = tmp[0].concatenate(labeled_ds)\n",
    "                tmp[0] = labeled_ds\n",
    "        # print(CLASS, ': sample size =', len(list(tmp[0])))\n",
    "    return tmp[0].shuffle(shuffle_buffer_size)"
   ],
   "metadata": {
    "collapsed": false,
    "pycharm": {
     "name": "#%%\n"
    }
   }
  },
  {
   "cell_type": "code",
   "execution_count": 6,
   "metadata": {
    "collapsed": false,
    "jupyter": {
     "outputs_hidden": false
    },
    "pycharm": {
     "name": "#%%\n"
    }
   },
   "outputs": [],
   "source": [
    "shuffle_buffer_size = 100000  # take first 100 from dataset and shuffle and pick one.\n",
    "IMG_HEIGHT = 100\n",
    "IMG_WIDTH = 100\n",
    "BATCH_SIZE = 128\n",
    "val_fraction = 30\n",
    "samplesize = [400, 300] #young, old\n",
    "# list location of all training images\n",
    "train_data_dir = '/home/kuki/Desktop/Research/cnn_dataset/train'\n",
    "train_data_dir = pathlib.Path(train_data_dir)\n",
    "CLASS_NAMES = np.array(\n",
    "    [item.name for item in train_data_dir.glob('*') if item.name != \"LICENSE.txt\" and item.name != \".DS_store\"])"
   ]
  },
  {
   "cell_type": "code",
   "execution_count": null,
   "outputs": [],
   "source": [
    "# tf.executing_eagerly()\n",
    "# tf.compat.v1.disable_eager_execution()\n",
    "# tf.executing_eagerly()"
   ],
   "metadata": {
    "collapsed": false,
    "pycharm": {
     "name": "#%%\n"
    }
   }
  },
  {
   "cell_type": "code",
   "execution_count": null,
   "outputs": [],
   "source": [
    "# list_ds = tf.data.Dataset.list_files('/home/kuki/Desktop/Research/cnn_dataset/train/young/sec001/image/*.jpg')\n",
    "# for file_path in list_ds.take(1):\n",
    "#     image = tf.io.read_file(file_path)\n",
    "#     image = decode_img(image)\n",
    "#     plt.imshow(image)\n"
   ],
   "metadata": {
    "collapsed": false,
    "pycharm": {
     "name": "#%%\n"
    }
   }
  },
  {
   "cell_type": "code",
   "execution_count": null,
   "outputs": [],
   "source": [
    "train_labeled_ds = balance(train_data_dir)\n",
    "train_image_count = len(list(train_labeled_ds))\n",
    "print('training set size : ', train_image_count)\n",
    "val_image_count = train_image_count // 100 * val_fraction\n",
    "print('validation size: ', val_image_count)\n",
    "train_image_count2 = train_image_count-val_image_count\n",
    "print('training set size after split : ', train_image_count2)\n",
    "STEPS_PER_EPOCH = train_image_count2 // BATCH_SIZE\n",
    "VALIDATION_STEPS = val_image_count // BATCH_SIZE"
   ],
   "metadata": {
    "collapsed": false,
    "pycharm": {
     "name": "#%%\n"
    }
   }
  },
  {
   "cell_type": "code",
   "execution_count": null,
   "metadata": {
    "collapsed": false,
    "jupyter": {
     "outputs_hidden": false
    },
    "pycharm": {
     "name": "#%%\n"
    }
   },
   "outputs": [],
   "source": [
    "plt.figure(figsize=(10,10))\n",
    "for idx, elem in enumerate(train_labeled_ds.take(100)):\n",
    "    img = elem[0]\n",
    "    label = elem[1]\n",
    "    ax = plt.subplot(10,10,idx+1)\n",
    "    plt.imshow(img)\n",
    "    plt.title(CLASS_NAMES[label].title())\n",
    "    plt.axis('off')\n",
    "plt.show()"
   ]
  },
  {
   "cell_type": "code",
   "execution_count": null,
   "outputs": [],
   "source": [
    "img.shape"
   ],
   "metadata": {
    "collapsed": false,
    "pycharm": {
     "name": "#%%\n"
    }
   }
  },
  {
   "cell_type": "code",
   "execution_count": null,
   "metadata": {
    "collapsed": false,
    "jupyter": {
     "outputs_hidden": false
    },
    "pycharm": {
     "name": "#%%\n"
    }
   },
   "outputs": [],
   "source": [
    "train_ds = (train_labeled_ds\n",
    "            .skip(val_image_count)\n",
    "            # .cache(\"./cache/fibro_train.tfcache\")\n",
    "            .shuffle(buffer_size=shuffle_buffer_size)\n",
    "            .repeat()\n",
    "            .batch(BATCH_SIZE)\n",
    "            .map(augment, num_parallel_calls=AUTOTUNE) #always batch before mapping\n",
    "            .prefetch(buffer_size=AUTOTUNE)\n",
    "            )\n",
    "\n",
    "val_ds = (train_labeled_ds\n",
    "          .take(val_image_count)\n",
    "          # .cache(\"./cache/fibro_val.tfcache\")\n",
    "          .repeat()\n",
    "          .batch(BATCH_SIZE)\n",
    "          .prefetch(buffer_size=AUTOTUNE))\n",
    "\n",
    "test_data_dir = '/home/kuki/Desktop/Research/cnn_dataset/test'\n",
    "test_data_dir = pathlib.Path(test_data_dir)\n",
    "test_labeled_ds = balance(test_data_dir)\n",
    "\n",
    "plt.figure(figsize=(10,10))\n",
    "for idx,elem in enumerate(test_labeled_ds.take(100)):\n",
    "    img = elem[0]\n",
    "    label = elem[1]\n",
    "    ax = plt.subplot(10,10,idx+1)\n",
    "    plt.imshow(img)\n",
    "    plt.title(CLASS_NAMES[label].title())\n",
    "    plt.axis('off')\n",
    "plt.show()\n",
    "\n",
    "\n",
    "test_ds = (test_labeled_ds\n",
    "           # .cache(\"./cache/fibro_test.tfcache\")\n",
    "           .shuffle(buffer_size=shuffle_buffer_size)\n",
    "           .repeat()\n",
    "           .batch(BATCH_SIZE)\n",
    "           .prefetch(buffer_size=AUTOTUNE)  # time it takes to produce next element\n",
    "           )\n",
    "test_image_count = len(list(test_labeled_ds))\n",
    "print('test set size : ', test_image_count)\n",
    "TEST_STEPS = test_image_count // BATCH_SIZE"
   ]
  },
  {
   "cell_type": "code",
   "execution_count": 7,
   "metadata": {
    "collapsed": false,
    "jupyter": {
     "outputs_hidden": false
    },
    "pycharm": {
     "name": "#%%\n"
    }
   },
   "outputs": [],
   "source": [
    "checkpoint_dir = \"training_1\"\n",
    "# shutil.rmtree(checkpoint_dir, ignore_errors=True)\n",
    "\n",
    "def get_callbacks(name):\n",
    "    return [\n",
    "        modeling.EpochDots(),\n",
    "        tf.keras.callbacks.EarlyStopping(monitor='val_sparse_categorical_crossentropy',\n",
    "                                         patience=50, restore_best_weights=True),\n",
    "        # tf.keras.callbacks.TensorBoard(log_dir/name, histogram_freq=1),\n",
    "        tf.keras.callbacks.ModelCheckpoint(filepath=checkpoint_dir + \"/{}/cp.ckpt\".format(name),\n",
    "                                           verbose=0,\n",
    "                                           monitor='val_sparse_categorical_crossentropy',\n",
    "                                           save_weights_only=True,\n",
    "                                           save_best_only=True),\n",
    "        tf.keras.callbacks.ReduceLROnPlateau(monitor='val_sparse_categorical_crossentropy',\n",
    "                                             factor=0.1, patience=10, verbose=0, mode='auto',\n",
    "                                             min_delta=0.0001, cooldown=0, min_lr=0),\n",
    "    ]\n",
    "\n",
    "def compilefit(model, name, max_epochs=300):\n",
    "    model.compile(optimizer=tf.keras.optimizers.Adam(),\n",
    "                  loss=tf.keras.losses.SparseCategoricalCrossentropy(from_logits=True),\n",
    "                  metrics=[tf.keras.losses.SparseCategoricalCrossentropy(from_logits=True), 'accuracy'])\n",
    "    model_history = model.fit(train_ds,\n",
    "                              steps_per_epoch=STEPS_PER_EPOCH,\n",
    "                              epochs=max_epochs,\n",
    "                              verbose=0,\n",
    "                              validation_data=val_ds,\n",
    "                              callbacks=get_callbacks(name),\n",
    "                              validation_steps=VALIDATION_STEPS,\n",
    "                              use_multiprocessing=True\n",
    "                              )\n",
    "    namename = os.path.dirname(name)\n",
    "    if not os.path.isdir(os.path.abspath(namename)):\n",
    "        os.mkdir(os.path.abspath(namename))\n",
    "    if not os.path.isdir(os.path.abspath(name)):\n",
    "        os.mkdir(os.path.abspath(name))\n",
    "    if not os.path.isfile(pathlib.Path(name) / 'full_model.h5'):\n",
    "        try:\n",
    "            model.save(pathlib.Path(name) / 'full_model.h5')\n",
    "        except:\n",
    "            print('model not saved?')\n",
    "\n",
    "    return model_history\n",
    "\n",
    "\n",
    "def plotdf(dfobj, condition, lr=None):\n",
    "    pd.DataFrame(dfobj).plot(title=condition)\n",
    "    dfobj.pop('loss')\n",
    "    dfobj.pop('val_loss')\n",
    "    dfobj1 = dfobj.copy()\n",
    "    dfobj2 = dfobj.copy()\n",
    "    dfobj.pop('lr')\n",
    "    dfobj.pop('sparse_categorical_crossentropy')\n",
    "    dfobj.pop('val_sparse_categorical_crossentropy')\n",
    "    pd.DataFrame(dfobj).plot(title=condition)\n",
    "    dfobj1.pop('lr')\n",
    "    dfobj1.pop('accuracy')\n",
    "    dfobj1.pop('val_accuracy')\n",
    "    pd.DataFrame(dfobj1).plot(title=condition)\n",
    "    if lr is not 'decay':\n",
    "        dfobj2.pop('sparse_categorical_crossentropy')\n",
    "        dfobj2.pop('val_sparse_categorical_crossentropy')\n",
    "        dfobj2.pop('accuracy')\n",
    "        dfobj2.pop('val_accuracy')\n",
    "        pd.DataFrame(dfobj2).plot(title=condition)\n",
    "    plt.show()\n",
    "\n",
    "def evaluateit(network,networkname):\n",
    "    # with tf.device('/device:GPU:1'):\n",
    "    histories[networkname] = compilefit(network, 'cnn/'+networkname, max_epochs=300)\n",
    "    results = network.evaluate(test_ds, steps=TEST_STEPS)\n",
    "    plotdf(histories[networkname].history,networkname)\n",
    "    print('test acc', results[-1] * 100)\n",
    "\n",
    "def load_dataset(dataset_dir):\n",
    "    dataset_dir = pathlib.Path(dataset_dir)\n",
    "    test_image_count2 = len(list(dataset_dir.glob('image/*.jpg')))\n",
    "    list_ds = tf.data.Dataset.list_files(str(dataset_dir / 'image/*.jpg'))\n",
    "    labeled_ds = list_ds.map(read_and_label, num_parallel_calls=AUTOTUNE)\n",
    "    return labeled_ds, test_image_count2\n",
    "\n",
    "\n",
    "def evalmodels(path, model):\n",
    "    datasett, datasettsize = load_dataset(path)\n",
    "    print('datasetsize',datasettsize)\n",
    "    results = model.evaluate(datasett.batch(1000))\n",
    "    aa.append(np.around(results[-1] * 100, decimals=1))"
   ]
  },
  {
   "cell_type": "code",
   "execution_count": null,
   "metadata": {
    "collapsed": false,
    "jupyter": {
     "outputs_hidden": false
    },
    "pycharm": {
     "name": "#%%\n"
    }
   },
   "outputs": [],
   "source": [
    "histories = {}"
   ]
  },
  {
   "cell_type": "code",
   "execution_count": null,
   "metadata": {
    "collapsed": false,
    "jupyter": {
     "outputs_hidden": false
    },
    "pycharm": {
     "name": "#%%\n"
    }
   },
   "outputs": [],
   "source": [
    "# min input 32x32\n",
    "ResV2_base = tf.keras.applications.ResNet101V2(input_shape=(100, 100, 3),\n",
    "                                            pooling='avg',\n",
    "                                            include_top=False,\n",
    "                                            weights=None\n",
    "                                            )\n",
    "ResV2 = tf.keras.Sequential([\n",
    "    ResV2_base,\n",
    "    Dense(2, activation='softmax')\n",
    "])\n",
    "evaluateit(ResV2,'ResV2_none')"
   ]
  },
  {
   "cell_type": "code",
   "execution_count": null,
   "metadata": {
    "collapsed": false,
    "jupyter": {
     "outputs_hidden": false
    },
    "pycharm": {
     "name": "#%%\n"
    }
   },
   "outputs": [],
   "source": [
    "# ResV2_base_2 = tf.keras.applications.ResNet101V2(input_shape=(100, 100, 3),\n",
    "#                                             pooling='avg',\n",
    "#                                             include_top=False,\n",
    "#                                             weights='imagenet'\n",
    "#                                             )\n",
    "# ResV2_2 = tf.keras.Sequential([\n",
    "#     ResV2_base_2,\n",
    "#     Dense(2, activation='softmax')\n",
    "# ])\n",
    "# evaluateit(ResV2_2,'ResV2')\n",
    "#"
   ]
  },
  {
   "cell_type": "code",
   "execution_count": null,
   "metadata": {
    "collapsed": false,
    "jupyter": {
     "outputs_hidden": false
    },
    "pycharm": {
     "name": "#%%\n"
    }
   },
   "outputs": [],
   "source": [
    "# #min input size 76x76\n",
    "# IncV3_base = tf.keras.applications.InceptionV3(input_shape=(100, 100, 3),\n",
    "#                                             pooling=None,\n",
    "#                                             include_top=False,\n",
    "#                                             weights='imagenet'\n",
    "#                                             )\n",
    "# IncV3 = tf.keras.Sequential([\n",
    "#     IncV3_base,\n",
    "#     Dense(2, activation='softmax')\n",
    "# ])\n",
    "# evaluateit(IncV3,'IncV3')\n",
    "#"
   ]
  },
  {
   "cell_type": "code",
   "execution_count": null,
   "metadata": {
    "collapsed": false,
    "jupyter": {
     "outputs_hidden": false
    },
    "pycharm": {
     "name": "#%%\n"
    }
   },
   "outputs": [],
   "source": [
    "# InceptionResNetV2_base = tf.keras.applications.InceptionResNetV2(input_shape=(100, 100, 3),\n",
    "#                                             pooling=None,\n",
    "#                                             include_top=False,\n",
    "#                                             weights='imagenet'\n",
    "#                                             )\n",
    "# InceptionResNetV2 = tf.keras.Sequential([\n",
    "#     InceptionResNetV2_base,\n",
    "#     Dense(2, activation='softmax')\n",
    "# ])\n",
    "# evaluateit(InceptionResNetV2,'InceptionResNetV2')"
   ]
  },
  {
   "cell_type": "code",
   "execution_count": 8,
   "metadata": {
    "collapsed": false,
    "jupyter": {
     "outputs_hidden": false
    },
    "pycharm": {
     "name": "#%%\n"
    }
   },
   "outputs": [],
   "source": [
    "def load_compile(net):\n",
    "    model = tf.keras.models.load_model('cnn/' + net + '/full_model.h5', compile=False,\n",
    "                                       # custom_objects={'KerasLayer': hub.KerasLayer}\n",
    "                                       )\n",
    "    model.compile(loss=tf.keras.losses.SparseCategoricalCrossentropy(from_logits=True),\n",
    "                  optimizer=tf.keras.optimizers.Adam(),\n",
    "                  metrics=['accuracy'])\n",
    "    return model\n",
    "\n",
    "\n",
    "ResV2 = load_compile('ResV2_collagen')\n",
    "ResV2_none = load_compile('ResV2_none_collagen')\n",
    "IncV3 = load_compile('IncV3_collagen')\n",
    "InceptionResNetV2 = load_compile('InceptionResNetV2_collagen')"
   ]
  },
  {
   "cell_type": "code",
   "execution_count": 9,
   "metadata": {
    "collapsed": false,
    "jupyter": {
     "outputs_hidden": false
    },
    "pycharm": {
     "name": "#%%\n"
    }
   },
   "outputs": [
    {
     "name": "stdout",
     "output_type": "stream",
     "text": [
      "young train\n",
      "datasetsize 323\n",
      "1/1 [==============================] - 0s 1ms/step - loss: 0.3558 - accuracy: 0.9443\b\b\b\b\b\b\b\b\b\b\b\b\b\b\b\b\b\b\b\b\b\b\b\b\b\b\b\b\b\b\b\b\b\b\b\b\b\b\b\b\b\b\b\b\b\b\b\b\b\b\b\b\b\b\b\b\b\b\b\b\b\b\b\b\b\b\b\b\b\b\b\b\b\b\b\b\n",
      "datasetsize 547\n",
      "1/1 [==============================] - 0s 883us/step - loss: 0.3238 - accuracy: 0.9909\b\b\b\b\b\b\b\b\b\b\b\b\b\b\b\b\b\b\b\b\b\b\b\b\b\b\b\b\b\b\b\b\b\b\b\b\b\b\b\b\b\b\b\b\b\b\b\b\b\b\b\b\b\b\b\b\b\b\b\b\b\b\b\b\b\b\b\b\b\b\b\b\b\b\n",
      "datasetsize 554\n",
      "1/1 [==============================] - 0s 915us/step - loss: 0.3493 - accuracy: 0.9603\b\b\b\b\b\b\b\b\b\b\b\b\b\b\b\b\b\b\b\b\b\b\b\b\b\b\b\b\b\b\b\b\b\b\b\b\b\b\b\b\b\b\b\b\b\b\b\b\b\b\b\b\b\b\b\b\b\b\b\b\b\b\b\b\b\b\b\b\b\b\b\b\b\b\n",
      "datasetsize 211\n",
      "1/1 [==============================] - 0s 916us/step - loss: 0.3195 - accuracy: 0.9905\b\b\b\b\b\b\b\b\b\b\b\b\b\b\b\b\b\b\b\b\b\b\b\b\b\b\b\b\b\b\b\b\b\b\b\b\b\b\b\b\b\b\b\b\b\b\b\b\b\b\b\b\b\b\b\b\b\b\b\b\b\b\b\b\b\b\b\b\b\b\b\b\b\b\n",
      "datasetsize 731\n",
      "1/1 [==============================] - 0s 924us/step - loss: 0.3622 - accuracy: 0.9508\b\b\b\b\b\b\b\b\b\b\b\b\b\b\b\b\b\b\b\b\b\b\b\b\b\b\b\b\b\b\b\b\b\b\b\b\b\b\b\b\b\b\b\b\b\b\b\b\b\b\b\b\b\b\b\b\b\b\b\b\b\b\b\b\b\b\b\b\b\b\b\b\b\b\n",
      "datasetsize 317\n",
      "1/1 [==============================] - 0s 903us/step - loss: 0.3390 - accuracy: 0.9748\b\b\b\b\b\b\b\b\b\b\b\b\b\b\b\b\b\b\b\b\b\b\b\b\b\b\b\b\b\b\b\b\b\b\b\b\b\b\b\b\b\b\b\b\b\b\b\b\b\b\b\b\b\b\b\b\b\b\b\b\b\b\b\b\b\b\b\b\b\b\b\b\b\b\n",
      "young test\n",
      "datasetsize 228\n",
      "1/1 [==============================] - 0s 877us/step - loss: 1.2551 - accuracy: 0.0395\b\b\b\b\b\b\b\b\b\b\b\b\b\b\b\b\b\b\b\b\b\b\b\b\b\b\b\b\b\b\b\b\b\b\b\b\b\b\b\b\b\b\b\b\b\b\b\b\b\b\b\b\b\b\b\b\b\b\b\b\b\b\b\b\b\b\b\b\b\b\b\b\b\b\n",
      "datasetsize 294\n",
      "1/1 [==============================] - 0s 909us/step - loss: 0.4485 - accuracy: 0.8673\b\b\b\b\b\b\b\b\b\b\b\b\b\b\b\b\b\b\b\b\b\b\b\b\b\b\b\b\b\b\b\b\b\b\b\b\b\b\b\b\b\b\b\b\b\b\b\b\b\b\b\b\b\b\b\b\b\b\b\b\b\b\b\b\b\b\b\b\b\b\b\b\b\b\n",
      "datasetsize 832\n",
      "1/1 [==============================] - 0s 1ms/step - loss: 1.1130 - accuracy: 0.1875\b\b\b\b\b\b\b\b\b\b\b\b\b\b\b\b\b\b\b\b\b\b\b\b\b\b\b\b\b\b\b\b\b\b\b\b\b\b\b\b\b\b\b\b\b\b\b\b\b\b\b\b\b\b\b\b\b\b\b\b\b\b\b\b\b\b\b\b\b\b\b\b\b\b\b\b\n",
      "old train\n",
      "datasetsize 87\n",
      "1/1 [==============================] - 0s 937us/step - loss: 0.3546 - accuracy: 0.9540\b\b\b\b\b\b\b\b\b\b\b\b\b\b\b\b\b\b\b\b\b\b\b\b\b\b\b\b\b\b\b\b\b\b\b\b\b\b\b\b\b\b\b\b\b\b\b\b\b\b\b\b\b\b\b\b\b\b\b\b\b\b\b\b\b\b\b\b\b\b\b\b\b\b\n",
      "datasetsize 210\n",
      "1/1 [==============================] - 0s 882us/step - loss: 0.4028 - accuracy: 0.9190\b\b\b\b\b\b\b\b\b\b\b\b\b\b\b\b\b\b\b\b\b\b\b\b\b\b\b\b\b\b\b\b\b\b\b\b\b\b\b\b\b\b\b\b\b\b\b\b\b\b\b\b\b\b\b\b\b\b\b\b\b\b\b\b\b\b\b\b\b\b\b\b\b\b\n",
      "datasetsize 953\n",
      "1/1 [==============================] - 0s 1ms/step - loss: 0.3212 - accuracy: 0.9927\b\b\b\b\b\b\b\b\b\b\b\b\b\b\b\b\b\b\b\b\b\b\b\b\b\b\b\b\b\b\b\b\b\b\b\b\b\b\b\b\b\b\b\b\b\b\b\b\b\b\b\b\b\b\b\b\b\b\b\b\b\b\b\b\b\b\b\b\b\b\b\b\b\b\b\b\n",
      "datasetsize 146\n",
      "1/1 [==============================] - 0s 1ms/step - loss: 0.4014 - accuracy: 0.9110\b\b\b\b\b\b\b\b\b\b\b\b\b\b\b\b\b\b\b\b\b\b\b\b\b\b\b\b\b\b\b\b\b\b\b\b\b\b\b\b\b\b\b\b\b\b\b\b\b\b\b\b\b\b\b\b\b\b\b\b\b\b\b\b\b\b\b\b\b\b\b\b\b\b\b\b\n",
      "datasetsize 116\n",
      "1/1 [==============================] - 0s 939us/step - loss: 0.3139 - accuracy: 1.0000\b\b\b\b\b\b\b\b\b\b\b\b\b\b\b\b\b\b\b\b\b\b\b\b\b\b\b\b\b\b\b\b\b\b\b\b\b\b\b\b\b\b\b\b\b\b\b\b\b\b\b\b\b\b\b\b\b\b\b\b\b\b\b\b\b\b\b\b\b\b\b\b\b\b\n",
      "datasetsize 1207\n",
      "2/2 [==============================] - 17s 9s/step - loss: 0.3619 - accuracy: 0.9486\b\b\b\b\b\b\b\b\b\b\b\b\b\b\b\b\b\b\b\b\b\b\b\b\b\b\b\b\b\b\b\b\b\b\b\b\b\b\b\b\b\b\b\b\b\b\b\b\b\b\b\b\b\b\b\b\b\b\b\b\b\b\b\b\b\b\b\b\b\b\b\b\b\b\b\b\b\b\b\b\b\b\b\b\b\b\b\b\b\b\b\b\b\b\b\b\b\b\b\b\b\b\b\b\b\b\b\b\b\b\b\b\b\b\b\b\b\b\b\b\b\b\b\b\b\b\b\b\b\b\b\b\b\b\b\b\b\b\b\b\b\b\b\b\b\b\b\b\b\b\b\b\b\b\b\b\n",
      "datasetsize 1586\n",
      "2/2 [==============================] - 18s 9s/step - loss: 0.3290 - accuracy: 0.9830\b\b\b\b\b\b\b\b\b\b\b\b\b\b\b\b\b\b\b\b\b\b\b\b\b\b\b\b\b\b\b\b\b\b\b\b\b\b\b\b\b\b\b\b\b\b\b\b\b\b\b\b\b\b\b\b\b\b\b\b\b\b\b\b\b\b\b\b\b\b\b\b\b\b\b\b\b\b\b\b\b\b\b\b\b\b\b\b\b\b\b\b\b\b\b\b\b\b\b\b\b\b\b\b\b\b\b\b\b\b\b\b\b\b\b\b\b\b\b\b\b\b\b\b\b\b\b\b\b\b\b\b\b\b\b\b\b\b\b\b\b\b\b\b\b\b\b\b\b\b\b\b\b\b\b\b\n",
      "datasetsize 223\n",
      "1/1 [==============================] - 0s 903us/step - loss: 0.3640 - accuracy: 0.9507\b\b\b\b\b\b\b\b\b\b\b\b\b\b\b\b\b\b\b\b\b\b\b\b\b\b\b\b\b\b\b\b\b\b\b\b\b\b\b\b\b\b\b\b\b\b\b\b\b\b\b\b\b\b\b\b\b\b\b\b\b\b\b\b\b\b\b\b\b\b\b\b\b\b\n",
      "old test\n",
      "datasetsize 1514\n",
      "2/2 [==============================] - 18s 9s/step - loss: 0.6920 - accuracy: 0.6050\b\b\b\b\b\b\b\b\b\b\b\b\b\b\b\b\b\b\b\b\b\b\b\b\b\b\b\b\b\b\b\b\b\b\b\b\b\b\b\b\b\b\b\b\b\b\b\b\b\b\b\b\b\b\b\b\b\b\b\b\b\b\b\b\b\b\b\b\b\b\b\b\b\b\b\b\b\b\b\b\b\b\b\b\b\b\b\b\b\b\b\b\b\b\b\b\b\b\b\b\b\b\b\b\b\b\b\b\b\b\b\b\b\b\b\b\b\b\b\b\b\b\b\b\b\b\b\b\b\b\b\b\b\b\b\b\b\b\b\b\b\b\b\b\b\b\b\b\b\b\b\b\b\b\b\b\n",
      "datasetsize 232\n",
      "1/1 [==============================] - 0s 943us/step - loss: 0.4117 - accuracy: 0.9009\b\b\b\b\b\b\b\b\b\b\b\b\b\b\b\b\b\b\b\b\b\b\b\b\b\b\b\b\b\b\b\b\b\b\b\b\b\b\b\b\b\b\b\b\b\b\b\b\b\b\b\b\b\b\b\b\b\b\b\b\b\b\b\b\b\b\b\b\b\b\b\b\b\b\n",
      "datasetsize 22\n",
      "1/1 [==============================] - 0s 899us/step - loss: 0.3138 - accuracy: 1.0000\b\b\b\b\b\b\b\b\b\b\b\b\b\b\b\b\b\b\b\b\b\b\b\b\b\b\b\b\b\b\b\b\b\b\b\b\b\b\b\b\b\b\b\b\b\b\b\b\b\b\b\b\b\b\b\b\b\b\b\b\b\b\b\b\b\b\b\b\b\b\b\b\b\b\n",
      "datasetsize 670\n",
      "1/1 [==============================] - 0s 948us/step - loss: 0.8698 - accuracy: 0.4299\b\b\b\b\b\b\b\b\b\b\b\b\b\b\b\b\b\b\b\b\b\b\b\b\b\b\b\b\b\b\b\b\b\b\b\b\b\b\b\b\b\b\b\b\b\b\b\b\b\b\b\b\b\b\b\b\b\b\b\b\b\b\b\b\b\b\b\b\b\b\b\b\b\b\n",
      "[94.4, 99.1, 96.0, 99.1, 95.1, 97.5, 3.9, 86.7, 18.8, 95.4, 91.9, 99.3, 91.1, 100.0, 94.9, 98.3, 95.1, 60.5, 90.1, 100.0, 43.0]\n",
      "young train\n",
      "datasetsize 323\n",
      "1/1 [==============================] - 0s 3ms/step - loss: 0.4067 - accuracy: 0.9040\b\b\b\b\b\b\b\b\b\b\b\b\b\b\b\b\b\b\b\b\b\b\b\b\b\b\b\b\b\b\b\b\b\b\b\b\b\b\b\b\b\b\b\b\b\b\b\b\b\b\b\b\b\b\b\b\b\b\b\b\b\b\b\b\b\b\b\b\b\b\b\b\b\b\b\b\n",
      "datasetsize 547\n",
      "1/1 [==============================] - 0s 849us/step - loss: 0.3437 - accuracy: 0.9689\b\b\b\b\b\b\b\b\b\b\b\b\b\b\b\b\b\b\b\b\b\b\b\b\b\b\b\b\b\b\b\b\b\b\b\b\b\b\b\b\b\b\b\b\b\b\b\b\b\b\b\b\b\b\b\b\b\b\b\b\b\b\b\b\b\b\b\b\b\b\b\b\b\b\n",
      "datasetsize 554\n",
      "1/1 [==============================] - 0s 698us/step - loss: 0.3532 - accuracy: 0.9621\b\b\b\b\b\b\b\b\b\b\b\b\b\b\b\b\b\b\b\b\b\b\b\b\b\b\b\b\b\b\b\b\b\b\b\b\b\b\b\b\b\b\b\b\b\b\b\b\b\b\b\b\b\b\b\b\b\b\b\b\b\b\b\b\b\b\b\b\b\b\b\b\b\b\n",
      "datasetsize 211\n",
      "1/1 [==============================] - 0s 2ms/step - loss: 0.3228 - accuracy: 0.9905\b\b\b\b\b\b\b\b\b\b\b\b\b\b\b\b\b\b\b\b\b\b\b\b\b\b\b\b\b\b\b\b\b\b\b\b\b\b\b\b\b\b\b\b\b\b\b\b\b\b\b\b\b\b\b\b\b\b\b\b\b\b\b\b\b\b\b\b\b\b\b\b\b\b\b\b\n",
      "datasetsize 731\n",
      "1/1 [==============================] - 0s 1ms/step - loss: 0.3828 - accuracy: 0.9289\b\b\b\b\b\b\b\b\b\b\b\b\b\b\b\b\b\b\b\b\b\b\b\b\b\b\b\b\b\b\b\b\b\b\b\b\b\b\b\b\b\b\b\b\b\b\b\b\b\b\b\b\b\b\b\b\b\b\b\b\b\b\b\b\b\b\b\b\b\b\b\b\b\b\b\b\n",
      "datasetsize 317\n",
      "1/1 [==============================] - 0s 2ms/step - loss: 0.3518 - accuracy: 0.9558\b\b\b\b\b\b\b\b\b\b\b\b\b\b\b\b\b\b\b\b\b\b\b\b\b\b\b\b\b\b\b\b\b\b\b\b\b\b\b\b\b\b\b\b\b\b\b\b\b\b\b\b\b\b\b\b\b\b\b\b\b\b\b\b\b\b\b\b\b\b\b\b\b\b\b\b\n",
      "young test\n",
      "datasetsize 228\n",
      "1/1 [==============================] - 0s 2ms/step - loss: 1.2695 - accuracy: 0.0395\b\b\b\b\b\b\b\b\b\b\b\b\b\b\b\b\b\b\b\b\b\b\b\b\b\b\b\b\b\b\b\b\b\b\b\b\b\b\b\b\b\b\b\b\b\b\b\b\b\b\b\b\b\b\b\b\b\b\b\b\b\b\b\b\b\b\b\b\b\b\b\b\b\b\b\b\n",
      "datasetsize 294\n",
      "1/1 [==============================] - 0s 2ms/step - loss: 0.4665 - accuracy: 0.8435\b\b\b\b\b\b\b\b\b\b\b\b\b\b\b\b\b\b\b\b\b\b\b\b\b\b\b\b\b\b\b\b\b\b\b\b\b\b\b\b\b\b\b\b\b\b\b\b\b\b\b\b\b\b\b\b\b\b\b\b\b\b\b\b\b\b\b\b\b\b\b\b\b\b\b\b\n",
      "datasetsize 832\n",
      "1/1 [==============================] - 0s 863us/step - loss: 1.1931 - accuracy: 0.1118\b\b\b\b\b\b\b\b\b\b\b\b\b\b\b\b\b\b\b\b\b\b\b\b\b\b\b\b\b\b\b\b\b\b\b\b\b\b\b\b\b\b\b\b\b\b\b\b\b\b\b\b\b\b\b\b\b\b\b\b\b\b\b\b\b\b\b\b\b\b\b\b\b\b\n",
      "old train\n",
      "datasetsize 87\n",
      "1/1 [==============================] - 0s 972us/step - loss: 0.4789 - accuracy: 0.8391\b\b\b\b\b\b\b\b\b\b\b\b\b\b\b\b\b\b\b\b\b\b\b\b\b\b\b\b\b\b\b\b\b\b\b\b\b\b\b\b\b\b\b\b\b\b\b\b\b\b\b\b\b\b\b\b\b\b\b\b\b\b\b\b\b\b\b\b\b\b\b\b\b\b\n",
      "datasetsize 210\n",
      "1/1 [==============================] - 0s 617us/step - loss: 0.4543 - accuracy: 0.8524\b\b\b\b\b\b\b\b\b\b\b\b\b\b\b\b\b\b\b\b\b\b\b\b\b\b\b\b\b\b\b\b\b\b\b\b\b\b\b\b\b\b\b\b\b\b\b\b\b\b\b\b\b\b\b\b\b\b\b\b\b\b\b\b\b\b\b\b\b\b\b\b\b\b\n",
      "datasetsize 953\n",
      "1/1 [==============================] - 0s 710us/step - loss: 0.3177 - accuracy: 0.9948\b\b\b\b\b\b\b\b\b\b\b\b\b\b\b\b\b\b\b\b\b\b\b\b\b\b\b\b\b\b\b\b\b\b\b\b\b\b\b\b\b\b\b\b\b\b\b\b\b\b\b\b\b\b\b\b\b\b\b\b\b\b\b\b\b\b\b\b\b\b\b\b\b\b\n",
      "datasetsize 146\n",
      "1/1 [==============================] - 0s 950us/step - loss: 0.4832 - accuracy: 0.8219\b\b\b\b\b\b\b\b\b\b\b\b\b\b\b\b\b\b\b\b\b\b\b\b\b\b\b\b\b\b\b\b\b\b\b\b\b\b\b\b\b\b\b\b\b\b\b\b\b\b\b\b\b\b\b\b\b\b\b\b\b\b\b\b\b\b\b\b\b\b\b\b\b\b\n",
      "datasetsize 116\n",
      "1/1 [==============================] - 0s 721us/step - loss: 0.3134 - accuracy: 1.0000\b\b\b\b\b\b\b\b\b\b\b\b\b\b\b\b\b\b\b\b\b\b\b\b\b\b\b\b\b\b\b\b\b\b\b\b\b\b\b\b\b\b\b\b\b\b\b\b\b\b\b\b\b\b\b\b\b\b\b\b\b\b\b\b\b\b\b\b\b\b\b\b\b\b\n",
      "datasetsize 1207\n",
      "2/2 [==============================] - 0s 47ms/step - loss: 0.3467 - accuracy: 0.9635\b\b\b\b\b\b\b\b\b\b\b\b\b\b\b\b\b\b\b\b\b\b\b\b\b\b\b\b\b\b\b\b\b\b\b\b\b\b\b\b\b\b\b\b\b\b\b\b\b\b\b\b\b\b\b\b\b\b\b\b\b\b\b\b\b\b\b\b\b\b\b\b\b\b\b\b\b\b\b\b\b\b\b\b\b\b\b\b\b\b\b\b\b\b\b\b\b\b\b\b\b\b\b\b\b\b\b\b\b\b\b\b\b\b\b\b\b\b\b\b\b\b\b\b\b\b\b\b\b\b\b\b\b\b\b\b\b\b\b\b\b\b\b\b\b\b\b\b\b\b\b\b\b\b\b\n",
      "datasetsize 1586\n",
      "2/2 [==============================] - 0s 142ms/step - loss: 0.3296 - accuracy: 0.9823\b\b\b\b\b\b\b\b\b\b\b\b\b\b\b\b\b\b\b\b\b\b\b\b\b\b\b\b\b\b\b\b\b\b\b\b\b\b\b\b\b\b\b\b\b\b\b\b\b\b\b\b\b\b\b\b\b\b\b\b\b\b\b\b\b\b\b\b\b\b\b\b\b\b\b\b\b\b\b\b\b\b\b\b\b\b\b\b\b\b\b\b\b\b\b\b\b\b\b\b\b\b\b\b\b\b\b\b\b\b\b\b\b\b\b\b\b\b\b\b\b\b\b\b\b\b\b\b\b\b\b\b\b\b\b\b\b\b\b\b\b\b\b\b\b\b\b\b\b\b\b\b\b\b\n",
      "datasetsize 223\n",
      "1/1 [==============================] - 0s 504us/step - loss: 0.3678 - accuracy: 0.9462\b\b\b\b\b\b\b\b\b\b\b\b\b\b\b\b\b\b\b\b\b\b\b\b\b\b\b\b\b\b\b\b\b\b\b\b\b\b\b\b\b\b\b\b\b\b\b\b\b\b\b\b\b\b\b\b\b\b\b\b\b\b\b\b\b\b\b\b\b\b\b\b\b\b\n",
      "old test\n",
      "datasetsize 1514\n",
      "2/2 [==============================] - 0s 120ms/step - loss: 0.7135 - accuracy: 0.5779\b\b\b\b\b\b\b\b\b\b\b\b\b\b\b\b\b\b\b\b\b\b\b\b\b\b\b\b\b\b\b\b\b\b\b\b\b\b\b\b\b\b\b\b\b\b\b\b\b\b\b\b\b\b\b\b\b\b\b\b\b\b\b\b\b\b\b\b\b\b\b\b\b\b\b\b\b\b\b\b\b\b\b\b\b\b\b\b\b\b\b\b\b\b\b\b\b\b\b\b\b\b\b\b\b\b\b\b\b\b\b\b\b\b\b\b\b\b\b\b\b\b\b\b\b\b\b\b\b\b\b\b\b\b\b\b\b\b\b\b\b\b\b\b\b\b\b\b\b\b\b\b\b\b\n",
      "datasetsize 232\n",
      "1/1 [==============================] - 0s 648us/step - loss: 0.4387 - accuracy: 0.8750\b\b\b\b\b\b\b\b\b\b\b\b\b\b\b\b\b\b\b\b\b\b\b\b\b\b\b\b\b\b\b\b\b\b\b\b\b\b\b\b\b\b\b\b\b\b\b\b\b\b\b\b\b\b\b\b\b\b\b\b\b\b\b\b\b\b\b\b\b\b\b\b\b\b\n",
      "datasetsize 22\n",
      "1/1 [==============================] - 0s 731us/step - loss: 0.3229 - accuracy: 1.0000\b\b\b\b\b\b\b\b\b\b\b\b\b\b\b\b\b\b\b\b\b\b\b\b\b\b\b\b\b\b\b\b\b\b\b\b\b\b\b\b\b\b\b\b\b\b\b\b\b\b\b\b\b\b\b\b\b\b\b\b\b\b\b\b\b\b\b\b\b\b\b\b\b\b\n",
      "datasetsize 670\n",
      "1/1 [==============================] - 0s 723us/step - loss: 0.8537 - accuracy: 0.4358\b\b\b\b\b\b\b\b\b\b\b\b\b\b\b\b\b\b\b\b\b\b\b\b\b\b\b\b\b\b\b\b\b\b\b\b\b\b\b\b\b\b\b\b\b\b\b\b\b\b\b\b\b\b\b\b\b\b\b\b\b\b\b\b\b\b\b\b\b\b\b\b\b\b\n",
      "[90.4, 96.9, 96.2, 99.1, 92.9, 95.6, 3.9, 84.4, 11.2, 83.9, 85.2, 99.5, 82.2, 100.0, 96.4, 98.2, 94.6, 57.8, 87.5, 100.0, 43.6]\n",
      "young train\n",
      "datasetsize 323\n",
      "1/1 [==============================] - 0s 968us/step - loss: 0.3475 - accuracy: 0.9690\b\b\b\b\b\b\b\b\b\b\b\b\b\b\b\b\b\b\b\b\b\b\b\b\b\b\b\b\b\b\b\b\b\b\b\b\b\b\b\b\b\b\b\b\b\b\b\b\b\b\b\b\b\b\b\b\b\b\b\b\b\b\b\b\b\b\b\b\b\b\b\b\b\b\n",
      "datasetsize 547\n",
      "1/1 [==============================] - 0s 922us/step - loss: 0.3235 - accuracy: 0.9890\b\b\b\b\b\b\b\b\b\b\b\b\b\b\b\b\b\b\b\b\b\b\b\b\b\b\b\b\b\b\b\b\b\b\b\b\b\b\b\b\b\b\b\b\b\b\b\b\b\b\b\b\b\b\b\b\b\b\b\b\b\b\b\b\b\b\b\b\b\b\b\b\b\b\n",
      "datasetsize 554\n",
      "1/1 [==============================] - 0s 849us/step - loss: 0.3276 - accuracy: 0.9892\b\b\b\b\b\b\b\b\b\b\b\b\b\b\b\b\b\b\b\b\b\b\b\b\b\b\b\b\b\b\b\b\b\b\b\b\b\b\b\b\b\b\b\b\b\b\b\b\b\b\b\b\b\b\b\b\b\b\b\b\b\b\b\b\b\b\b\b\b\b\b\b\b\b\n",
      "datasetsize 211\n",
      "1/1 [==============================] - 0s 960us/step - loss: 0.3215 - accuracy: 0.9905\b\b\b\b\b\b\b\b\b\b\b\b\b\b\b\b\b\b\b\b\b\b\b\b\b\b\b\b\b\b\b\b\b\b\b\b\b\b\b\b\b\b\b\b\b\b\b\b\b\b\b\b\b\b\b\b\b\b\b\b\b\b\b\b\b\b\b\b\b\b\b\b\b\b\n",
      "datasetsize 731\n",
      "1/1 [==============================] - 0s 916us/step - loss: 0.3382 - accuracy: 0.9740\b\b\b\b\b\b\b\b\b\b\b\b\b\b\b\b\b\b\b\b\b\b\b\b\b\b\b\b\b\b\b\b\b\b\b\b\b\b\b\b\b\b\b\b\b\b\b\b\b\b\b\b\b\b\b\b\b\b\b\b\b\b\b\b\b\b\b\b\b\b\b\b\b\b\n",
      "datasetsize 317\n",
      "1/1 [==============================] - 0s 969us/step - loss: 0.3293 - accuracy: 0.9874\b\b\b\b\b\b\b\b\b\b\b\b\b\b\b\b\b\b\b\b\b\b\b\b\b\b\b\b\b\b\b\b\b\b\b\b\b\b\b\b\b\b\b\b\b\b\b\b\b\b\b\b\b\b\b\b\b\b\b\b\b\b\b\b\b\b\b\b\b\b\b\b\b\b\n",
      "young test\n",
      "datasetsize 228\n",
      "1/1 [==============================] - 0s 860us/step - loss: 0.9983 - accuracy: 0.2851\b\b\b\b\b\b\b\b\b\b\b\b\b\b\b\b\b\b\b\b\b\b\b\b\b\b\b\b\b\b\b\b\b\b\b\b\b\b\b\b\b\b\b\b\b\b\b\b\b\b\b\b\b\b\b\b\b\b\b\b\b\b\b\b\b\b\b\b\b\b\b\b\b\b\n",
      "datasetsize 294\n",
      "1/1 [==============================] - 0s 929us/step - loss: 0.3802 - accuracy: 0.9422\b\b\b\b\b\b\b\b\b\b\b\b\b\b\b\b\b\b\b\b\b\b\b\b\b\b\b\b\b\b\b\b\b\b\b\b\b\b\b\b\b\b\b\b\b\b\b\b\b\b\b\b\b\b\b\b\b\b\b\b\b\b\b\b\b\b\b\b\b\b\b\b\b\b\n",
      "datasetsize 832\n",
      "1/1 [==============================] - 0s 932us/step - loss: 0.8848 - accuracy: 0.4159\b\b\b\b\b\b\b\b\b\b\b\b\b\b\b\b\b\b\b\b\b\b\b\b\b\b\b\b\b\b\b\b\b\b\b\b\b\b\b\b\b\b\b\b\b\b\b\b\b\b\b\b\b\b\b\b\b\b\b\b\b\b\b\b\b\b\b\b\b\b\b\b\b\b\n",
      "old train\n",
      "datasetsize 87\n",
      "1/1 [==============================] - 0s 879us/step - loss: 0.4763 - accuracy: 0.8391\b\b\b\b\b\b\b\b\b\b\b\b\b\b\b\b\b\b\b\b\b\b\b\b\b\b\b\b\b\b\b\b\b\b\b\b\b\b\b\b\b\b\b\b\b\b\b\b\b\b\b\b\b\b\b\b\b\b\b\b\b\b\b\b\b\b\b\b\b\b\b\b\b\b\n",
      "datasetsize 210\n",
      "1/1 [==============================] - 0s 860us/step - loss: 0.5022 - accuracy: 0.7810\b\b\b\b\b\b\b\b\b\b\b\b\b\b\b\b\b\b\b\b\b\b\b\b\b\b\b\b\b\b\b\b\b\b\b\b\b\b\b\b\b\b\b\b\b\b\b\b\b\b\b\b\b\b\b\b\b\b\b\b\b\b\b\b\b\b\b\b\b\b\b\b\b\b\n",
      "datasetsize 953\n",
      "1/1 [==============================] - 0s 953us/step - loss: 0.4179 - accuracy: 0.8741\b\b\b\b\b\b\b\b\b\b\b\b\b\b\b\b\b\b\b\b\b\b\b\b\b\b\b\b\b\b\b\b\b\b\b\b\b\b\b\b\b\b\b\b\b\b\b\b\b\b\b\b\b\b\b\b\b\b\b\b\b\b\b\b\b\b\b\b\b\b\b\b\b\b\n",
      "datasetsize 146\n",
      "1/1 [==============================] - 0s 959us/step - loss: 0.5399 - accuracy: 0.7466\b\b\b\b\b\b\b\b\b\b\b\b\b\b\b\b\b\b\b\b\b\b\b\b\b\b\b\b\b\b\b\b\b\b\b\b\b\b\b\b\b\b\b\b\b\b\b\b\b\b\b\b\b\b\b\b\b\b\b\b\b\b\b\b\b\b\b\b\b\b\b\b\b\b\n",
      "datasetsize 116\n",
      "1/1 [==============================] - 0s 938us/step - loss: 0.3254 - accuracy: 0.9914\b\b\b\b\b\b\b\b\b\b\b\b\b\b\b\b\b\b\b\b\b\b\b\b\b\b\b\b\b\b\b\b\b\b\b\b\b\b\b\b\b\b\b\b\b\b\b\b\b\b\b\b\b\b\b\b\b\b\b\b\b\b\b\b\b\b\b\b\b\b\b\b\b\b\n",
      "datasetsize 1207\n",
      "2/2 [==============================] - 29s 15s/step - loss: 0.4692 - accuracy: 0.8142\b\b\b\b\b\b\b\b\b\b\b\b\b\b\b\b\b\b\b\b\b\b\b\b\b\b\b\b\b\b\b\b\b\b\b\b\b\b\b\b\b\b\b\b\b\b\b\b\b\b\b\b\b\b\b\b\b\b\b\b\b\b\b\b\b\b\b\b\b\b\b\b\b\b\b\b\b\b\b\b\b\b\b\b\b\b\b\b\b\b\b\b\b\b\b\b\b\b\b\b\b\b\b\b\b\b\b\b\b\b\b\b\b\b\b\b\b\b\b\b\b\b\b\b\b\b\b\b\b\b\b\b\b\b\b\b\b\b\b\b\b\b\b\b\b\b\b\b\b\b\b\b\b\b\b\n",
      "datasetsize 1586\n",
      "2/2 [==============================] - 30s 15s/step - loss: 0.4067 - accuracy: 0.8871\b\b\b\b\b\b\b\b\b\b\b\b\b\b\b\b\b\b\b\b\b\b\b\b\b\b\b\b\b\b\b\b\b\b\b\b\b\b\b\b\b\b\b\b\b\b\b\b\b\b\b\b\b\b\b\b\b\b\b\b\b\b\b\b\b\b\b\b\b\b\b\b\b\b\b\b\b\b\b\b\b\b\b\b\b\b\b\b\b\b\b\b\b\b\b\b\b\b\b\b\b\b\b\b\b\b\b\b\b\b\b\b\b\b\b\b\b\b\b\b\b\b\b\b\b\b\b\b\b\b\b\b\b\b\b\b\b\b\b\b\b\b\b\b\b\b\b\b\b\b\b\b\b\b\b\n",
      "datasetsize 223\n",
      "1/1 [==============================] - 0s 911us/step - loss: 0.3401 - accuracy: 0.9686\b\b\b\b\b\b\b\b\b\b\b\b\b\b\b\b\b\b\b\b\b\b\b\b\b\b\b\b\b\b\b\b\b\b\b\b\b\b\b\b\b\b\b\b\b\b\b\b\b\b\b\b\b\b\b\b\b\b\b\b\b\b\b\b\b\b\b\b\b\b\b\b\b\b\n",
      "old test\n",
      "datasetsize 1514\n",
      "2/2 [==============================] - 30s 15s/step - loss: 0.7103 - accuracy: 0.5673\b\b\b\b\b\b\b\b\b\b\b\b\b\b\b\b\b\b\b\b\b\b\b\b\b\b\b\b\b\b\b\b\b\b\b\b\b\b\b\b\b\b\b\b\b\b\b\b\b\b\b\b\b\b\b\b\b\b\b\b\b\b\b\b\b\b\b\b\b\b\b\b\b\b\b\b\b\b\b\b\b\b\b\b\b\b\b\b\b\b\b\b\b\b\b\b\b\b\b\b\b\b\b\b\b\b\b\b\b\b\b\b\b\b\b\b\b\b\b\b\b\b\b\b\b\b\b\b\b\b\b\b\b\b\b\b\b\b\b\b\b\b\b\b\b\b\b\b\b\b\b\b\b\b\b\n",
      "datasetsize 232\n",
      "1/1 [==============================] - 0s 1ms/step - loss: 0.4531 - accuracy: 0.8448\b\b\b\b\b\b\b\b\b\b\b\b\b\b\b\b\b\b\b\b\b\b\b\b\b\b\b\b\b\b\b\b\b\b\b\b\b\b\b\b\b\b\b\b\b\b\b\b\b\b\b\b\b\b\b\b\b\b\b\b\b\b\b\b\b\b\b\b\b\b\b\b\b\b\b\b\n",
      "datasetsize 22\n",
      "1/1 [==============================] - 0s 970us/step - loss: 0.3546 - accuracy: 1.0000\b\b\b\b\b\b\b\b\b\b\b\b\b\b\b\b\b\b\b\b\b\b\b\b\b\b\b\b\b\b\b\b\b\b\b\b\b\b\b\b\b\b\b\b\b\b\b\b\b\b\b\b\b\b\b\b\b\b\b\b\b\b\b\b\b\b\b\b\b\b\b\b\b\b\n",
      "datasetsize 670\n",
      "1/1 [==============================] - 0s 1ms/step - loss: 1.0617 - accuracy: 0.2239\b\b\b\b\b\b\b\b\b\b\b\b\b\b\b\b\b\b\b\b\b\b\b\b\b\b\b\b\b\b\b\b\b\b\b\b\b\b\b\b\b\b\b\b\b\b\b\b\b\b\b\b\b\b\b\b\b\b\b\b\b\b\b\b\b\b\b\b\b\b\b\b\b\b\b\b\n",
      "[96.9, 98.9, 98.9, 99.1, 97.4, 98.7, 28.5, 94.2, 41.6, 83.9, 78.1, 87.4, 74.7, 99.1, 81.4, 88.7, 96.9, 56.7, 84.5, 100.0, 22.4]\n",
      "young train\n",
      "datasetsize 323\n",
      "1/1 [==============================] - 0s 954us/step - loss: 0.3254 - accuracy: 0.9876\b\b\b\b\b\b\b\b\b\b\b\b\b\b\b\b\b\b\b\b\b\b\b\b\b\b\b\b\b\b\b\b\b\b\b\b\b\b\b\b\b\b\b\b\b\b\b\b\b\b\b\b\b\b\b\b\b\b\b\b\b\b\b\b\b\b\b\b\b\b\b\b\b\b\n",
      "datasetsize 547\n",
      "1/1 [==============================] - 0s 925us/step - loss: 0.3150 - accuracy: 0.9982\b\b\b\b\b\b\b\b\b\b\b\b\b\b\b\b\b\b\b\b\b\b\b\b\b\b\b\b\b\b\b\b\b\b\b\b\b\b\b\b\b\b\b\b\b\b\b\b\b\b\b\b\b\b\b\b\b\b\b\b\b\b\b\b\b\b\b\b\b\b\b\b\b\b\n",
      "datasetsize 554\n",
      "1/1 [==============================] - 0s 983us/step - loss: 0.3198 - accuracy: 0.9946\b\b\b\b\b\b\b\b\b\b\b\b\b\b\b\b\b\b\b\b\b\b\b\b\b\b\b\b\b\b\b\b\b\b\b\b\b\b\b\b\b\b\b\b\b\b\b\b\b\b\b\b\b\b\b\b\b\b\b\b\b\b\b\b\b\b\b\b\b\b\b\b\b\b\n",
      "datasetsize 211\n",
      "1/1 [==============================] - 0s 1ms/step - loss: 0.3162 - accuracy: 0.9953\b\b\b\b\b\b\b\b\b\b\b\b\b\b\b\b\b\b\b\b\b\b\b\b\b\b\b\b\b\b\b\b\b\b\b\b\b\b\b\b\b\b\b\b\b\b\b\b\b\b\b\b\b\b\b\b\b\b\b\b\b\b\b\b\b\b\b\b\b\b\b\b\b\b\b\b\n",
      "datasetsize 731\n",
      "1/1 [==============================] - 0s 894us/step - loss: 0.3292 - accuracy: 0.9822\b\b\b\b\b\b\b\b\b\b\b\b\b\b\b\b\b\b\b\b\b\b\b\b\b\b\b\b\b\b\b\b\b\b\b\b\b\b\b\b\b\b\b\b\b\b\b\b\b\b\b\b\b\b\b\b\b\b\b\b\b\b\b\b\b\b\b\b\b\b\b\b\b\b\n",
      "datasetsize 317\n",
      "1/1 [==============================] - 0s 858us/step - loss: 0.3153 - accuracy: 0.9968\b\b\b\b\b\b\b\b\b\b\b\b\b\b\b\b\b\b\b\b\b\b\b\b\b\b\b\b\b\b\b\b\b\b\b\b\b\b\b\b\b\b\b\b\b\b\b\b\b\b\b\b\b\b\b\b\b\b\b\b\b\b\b\b\b\b\b\b\b\b\b\b\b\b\n",
      "young test\n",
      "datasetsize 228\n",
      "1/1 [==============================] - 0s 1ms/step - loss: 0.9678 - accuracy: 0.3246\b\b\b\b\b\b\b\b\b\b\b\b\b\b\b\b\b\b\b\b\b\b\b\b\b\b\b\b\b\b\b\b\b\b\b\b\b\b\b\b\b\b\b\b\b\b\b\b\b\b\b\b\b\b\b\b\b\b\b\b\b\b\b\b\b\b\b\b\b\b\b\b\b\b\b\b\n",
      "datasetsize 294\n",
      "1/1 [==============================] - 0s 2ms/step - loss: 0.4074 - accuracy: 0.9048\b\b\b\b\b\b\b\b\b\b\b\b\b\b\b\b\b\b\b\b\b\b\b\b\b\b\b\b\b\b\b\b\b\b\b\b\b\b\b\b\b\b\b\b\b\b\b\b\b\b\b\b\b\b\b\b\b\b\b\b\b\b\b\b\b\b\b\b\b\b\b\b\b\b\b\b\n",
      "datasetsize 832\n",
      "1/1 [==============================] - 0s 1ms/step - loss: 0.8969 - accuracy: 0.4038\b\b\b\b\b\b\b\b\b\b\b\b\b\b\b\b\b\b\b\b\b\b\b\b\b\b\b\b\b\b\b\b\b\b\b\b\b\b\b\b\b\b\b\b\b\b\b\b\b\b\b\b\b\b\b\b\b\b\b\b\b\b\b\b\b\b\b\b\b\b\b\b\b\b\b\b\n",
      "old train\n",
      "datasetsize 87\n",
      "1/1 [==============================] - 0s 857us/step - loss: 0.3565 - accuracy: 0.9655\b\b\b\b\b\b\b\b\b\b\b\b\b\b\b\b\b\b\b\b\b\b\b\b\b\b\b\b\b\b\b\b\b\b\b\b\b\b\b\b\b\b\b\b\b\b\b\b\b\b\b\b\b\b\b\b\b\b\b\b\b\b\b\b\b\b\b\b\b\b\b\b\b\b\n",
      "datasetsize 210\n",
      "1/1 [==============================] - 0s 1ms/step - loss: 0.3521 - accuracy: 0.9571\b\b\b\b\b\b\b\b\b\b\b\b\b\b\b\b\b\b\b\b\b\b\b\b\b\b\b\b\b\b\b\b\b\b\b\b\b\b\b\b\b\b\b\b\b\b\b\b\b\b\b\b\b\b\b\b\b\b\b\b\b\b\b\b\b\b\b\b\b\b\b\b\b\b\b\b\n",
      "datasetsize 953\n",
      "1/1 [==============================] - 0s 893us/step - loss: 0.3306 - accuracy: 0.9832\b\b\b\b\b\b\b\b\b\b\b\b\b\b\b\b\b\b\b\b\b\b\b\b\b\b\b\b\b\b\b\b\b\b\b\b\b\b\b\b\b\b\b\b\b\b\b\b\b\b\b\b\b\b\b\b\b\b\b\b\b\b\b\b\b\b\b\b\b\b\b\b\b\b\n",
      "datasetsize 146\n",
      "1/1 [==============================] - 0s 884us/step - loss: 0.3441 - accuracy: 0.9726\b\b\b\b\b\b\b\b\b\b\b\b\b\b\b\b\b\b\b\b\b\b\b\b\b\b\b\b\b\b\b\b\b\b\b\b\b\b\b\b\b\b\b\b\b\b\b\b\b\b\b\b\b\b\b\b\b\b\b\b\b\b\b\b\b\b\b\b\b\b\b\b\b\b\n",
      "datasetsize 116\n",
      "1/1 [==============================] - 0s 888us/step - loss: 0.3133 - accuracy: 1.0000\b\b\b\b\b\b\b\b\b\b\b\b\b\b\b\b\b\b\b\b\b\b\b\b\b\b\b\b\b\b\b\b\b\b\b\b\b\b\b\b\b\b\b\b\b\b\b\b\b\b\b\b\b\b\b\b\b\b\b\b\b\b\b\b\b\b\b\b\b\b\b\b\b\b\n",
      "datasetsize 1207\n",
      "2/2 [==============================] - 17s 9s/step - loss: 0.3695 - accuracy: 0.9406\b\b\b\b\b\b\b\b\b\b\b\b\b\b\b\b\b\b\b\b\b\b\b\b\b\b\b\b\b\b\b\b\b\b\b\b\b\b\b\b\b\b\b\b\b\b\b\b\b\b\b\b\b\b\b\b\b\b\b\b\b\b\b\b\b\b\b\b\b\b\b\b\b\b\b\b\b\b\b\b\b\b\b\b\b\b\b\b\b\b\b\b\b\b\b\b\b\b\b\b\b\b\b\b\b\b\b\b\b\b\b\b\b\b\b\b\b\b\b\b\b\b\b\b\b\b\b\b\b\b\b\b\b\b\b\b\b\b\b\b\b\b\b\b\b\b\b\b\b\b\b\b\b\b\b\b\n",
      "datasetsize 1586\n",
      "2/2 [==============================] - 18s 9s/step - loss: 0.3346 - accuracy: 0.9794\b\b\b\b\b\b\b\b\b\b\b\b\b\b\b\b\b\b\b\b\b\b\b\b\b\b\b\b\b\b\b\b\b\b\b\b\b\b\b\b\b\b\b\b\b\b\b\b\b\b\b\b\b\b\b\b\b\b\b\b\b\b\b\b\b\b\b\b\b\b\b\b\b\b\b\b\b\b\b\b\b\b\b\b\b\b\b\b\b\b\b\b\b\b\b\b\b\b\b\b\b\b\b\b\b\b\b\b\b\b\b\b\b\b\b\b\b\b\b\b\b\b\b\b\b\b\b\b\b\b\b\b\b\b\b\b\b\b\b\b\b\b\b\b\b\b\b\b\b\b\b\b\b\b\b\b\n",
      "datasetsize 223\n",
      "1/1 [==============================] - 0s 870us/step - loss: 0.3199 - accuracy: 0.9955\b\b\b\b\b\b\b\b\b\b\b\b\b\b\b\b\b\b\b\b\b\b\b\b\b\b\b\b\b\b\b\b\b\b\b\b\b\b\b\b\b\b\b\b\b\b\b\b\b\b\b\b\b\b\b\b\b\b\b\b\b\b\b\b\b\b\b\b\b\b\b\b\b\b\n",
      "old test\n",
      "datasetsize 1514\n",
      "2/2 [==============================] - 18s 9s/step - loss: 0.6816 - accuracy: 0.6126\b\b\b\b\b\b\b\b\b\b\b\b\b\b\b\b\b\b\b\b\b\b\b\b\b\b\b\b\b\b\b\b\b\b\b\b\b\b\b\b\b\b\b\b\b\b\b\b\b\b\b\b\b\b\b\b\b\b\b\b\b\b\b\b\b\b\b\b\b\b\b\b\b\b\b\b\b\b\b\b\b\b\b\b\b\b\b\b\b\b\b\b\b\b\b\b\b\b\b\b\b\b\b\b\b\b\b\b\b\b\b\b\b\b\b\b\b\b\b\b\b\b\b\b\b\b\b\b\b\b\b\b\b\b\b\b\b\b\b\b\b\b\b\b\b\b\b\b\b\b\b\b\b\b\b\b\n",
      "datasetsize 232\n",
      "1/1 [==============================] - 0s 971us/step - loss: 0.5068 - accuracy: 0.7974\b\b\b\b\b\b\b\b\b\b\b\b\b\b\b\b\b\b\b\b\b\b\b\b\b\b\b\b\b\b\b\b\b\b\b\b\b\b\b\b\b\b\b\b\b\b\b\b\b\b\b\b\b\b\b\b\b\b\b\b\b\b\b\b\b\b\b\b\b\b\b\b\b\b\n",
      "datasetsize 22\n",
      "1/1 [==============================] - 0s 939us/step - loss: 0.3146 - accuracy: 1.0000\b\b\b\b\b\b\b\b\b\b\b\b\b\b\b\b\b\b\b\b\b\b\b\b\b\b\b\b\b\b\b\b\b\b\b\b\b\b\b\b\b\b\b\b\b\b\b\b\b\b\b\b\b\b\b\b\b\b\b\b\b\b\b\b\b\b\b\b\b\b\b\b\b\b\n",
      "datasetsize 670\n",
      "1/1 [==============================] - 0s 944us/step - loss: 1.0877 - accuracy: 0.2149\b\b\b\b\b\b\b\b\b\b\b\b\b\b\b\b\b\b\b\b\b\b\b\b\b\b\b\b\b\b\b\b\b\b\b\b\b\b\b\b\b\b\b\b\b\b\b\b\b\b\b\b\b\b\b\b\b\b\b\b\b\b\b\b\b\b\b\b\b\b\b\b\b\b\n",
      "[98.8, 99.8, 99.5, 99.5, 98.2, 99.7, 32.5, 90.5, 40.4, 96.6, 95.7, 98.3, 97.3, 100.0, 94.1, 97.9, 99.6, 61.3, 79.7, 100.0, 21.5]\n"
     ]
    }
   ],
   "source": [
    "ms = [ResV2, ResV2_none, IncV3, InceptionResNetV2]\n",
    "\n",
    "for m in ms:\n",
    "    aa=[]\n",
    "    print('young train')\n",
    "    evalmodels('/home/kuki/Desktop/Research/cnn_dataset/train/young/sec001',m)\n",
    "    evalmodels('/home/kuki/Desktop/Research/cnn_dataset/train/young/sec003',m)\n",
    "    evalmodels('/home/kuki/Desktop/Research/cnn_dataset/train/young/sec007',m)\n",
    "    evalmodels('/home/kuki/Desktop/Research/cnn_dataset/train/young/sec010',m)\n",
    "    evalmodels('/home/kuki/Desktop/Research/cnn_dataset/train/young/sec016',m)\n",
    "    evalmodels('/home/kuki/Desktop/Research/cnn_dataset/train/young/sec019',m)\n",
    "    print('young test')\n",
    "    evalmodels('/home/kuki/Desktop/Research/cnn_dataset/test/young/sec023',m)\n",
    "    evalmodels('/home/kuki/Desktop/Research/cnn_dataset/test/young/sec025',m)\n",
    "    evalmodels('/home/kuki/Desktop/Research/cnn_dataset/test/young/sec029',m)\n",
    "    print('old train')\n",
    "    evalmodels('/home/kuki/Desktop/Research/cnn_dataset/train/old/sec031',m)\n",
    "    evalmodels('/home/kuki/Desktop/Research/cnn_dataset/train/old/sec037',m)\n",
    "    evalmodels('/home/kuki/Desktop/Research/cnn_dataset/train/old/sec041',m)\n",
    "    evalmodels('/home/kuki/Desktop/Research/cnn_dataset/train/old/sec045',m)\n",
    "    evalmodels('/home/kuki/Desktop/Research/cnn_dataset/train/old/sec049',m)\n",
    "    evalmodels('/home/kuki/Desktop/Research/cnn_dataset/train/old/sec062',m)\n",
    "    evalmodels('/home/kuki/Desktop/Research/cnn_dataset/train/old/sec068',m)\n",
    "    evalmodels('/home/kuki/Desktop/Research/cnn_dataset/train/old/sec070',m)\n",
    "    print('old test')\n",
    "    evalmodels('/home/kuki/Desktop/Research/cnn_dataset/test/old/sec076',m)\n",
    "    evalmodels('/home/kuki/Desktop/Research/cnn_dataset/test/old/sec078',m)\n",
    "    evalmodels('/home/kuki/Desktop/Research/cnn_dataset/test/old/sec082',m)\n",
    "    evalmodels('/home/kuki/Desktop/Research/cnn_dataset/test/old/sec088',m)\n",
    "    print(aa)"
   ]
  }
 ],
 "metadata": {
  "kernelspec": {
   "display_name": "Python 3",
   "language": "python",
   "name": "python3"
  },
  "language_info": {
   "codemirror_mode": {
    "name": "ipython",
    "version": 3
   },
   "file_extension": ".py",
   "mimetype": "text/x-python",
   "name": "python",
   "nbconvert_exporter": "python",
   "pygments_lexer": "ipython3",
   "version": "3.7.7"
  }
 },
 "nbformat": 4,
 "nbformat_minor": 4
}