{
 "cells": [
  {
   "cell_type": "markdown",
   "metadata": {
    "colab_type": "text",
    "id": "1l8bWGmIJuQa"
   },
   "source": [
    "##### Copyright 2019 The TensorFlow Authors.\n",
    "\n"
   ]
  },
  {
   "cell_type": "code",
   "execution_count": 1,
   "metadata": {
    "cellView": "form",
    "colab": {},
    "colab_type": "code",
    "id": "CPSnXS88KFEo"
   },
   "outputs": [],
   "source": [
    "#@title Licensed under the Apache License, Version 2.0 (the \"License\");\n",
    "# you may not use this file except in compliance with the License.\n",
    "# You may obtain a copy of the License at\n",
    "#\n",
    "# https://www.apache.org/licenses/LICENSE-2.0\n",
    "#\n",
    "# Unless required by applicable law or agreed to in writing, software\n",
    "# distributed under the License is distributed on an \"AS IS\" BASIS,\n",
    "# WITHOUT WARRANTIES OR CONDITIONS OF ANY KIND, either express or implied.\n",
    "# See the License for the specific language governing permissions and\n",
    "# limitations under the License."
   ]
  },
  {
   "cell_type": "markdown",
   "metadata": {
    "colab_type": "text",
    "id": "89xNCIO5hiCj"
   },
   "source": [
    "# Save and load a model using a distribution strategy"
   ]
  },
  {
   "cell_type": "markdown",
   "metadata": {
    "colab_type": "text",
    "id": "9Ejs4QVxIdAm"
   },
   "source": [
    "<table class=\"tfo-notebook-buttons\" align=\"left\">\n",
    "  <td>\n",
    "    <a target=\"_blank\" href=\"https://www.tensorflow.org/tutorials/distribute/save_and_load\"><img src=\"https://www.tensorflow.org/images/tf_logo_32px.png\" />View on TensorFlow.org</a>\n",
    "  </td>\n",
    "  <td>\n",
    "    <a target=\"_blank\" href=\"https://colab.research.google.com/github/tensorflow/docs/blob/master/site/en/tutorials/distribute/save_and_load.ipynb\"><img src=\"https://www.tensorflow.org/images/colab_logo_32px.png\" />Run in Google Colab</a>\n",
    "  </td>\n",
    "  <td>\n",
    "    <a target=\"_blank\" href=\"https://github.com/tensorflow/docs/blob/master/site/en/tutorials/distribute/save_and_load.ipynb\"><img src=\"https://www.tensorflow.org/images/GitHub-Mark-32px.png\" />View source on GitHub</a>\n",
    "  </td>\n",
    "  <td>\n",
    "    <a href=\"https://storage.googleapis.com/tensorflow_docs/docs/site/en/tutorials/distribute/save_and_load.ipynb\"><img src=\"https://www.tensorflow.org/images/download_logo_32px.png\" />Download notebook</a>\n",
    "  </td>\n",
    "\n",
    "</table>"
   ]
  },
  {
   "cell_type": "markdown",
   "metadata": {
    "colab_type": "text",
    "id": "A0lG6qgThxAS"
   },
   "source": [
    "## Overview\n",
    "\n",
    "It's common to save and load a model during training. There are two sets of APIs for saving and loading a keras model: a high-level API, and a low-level API. This tutorial demonstrates how you can use the SavedModel APIs when using `tf.distribute.Strategy`. To learn about SavedModel and serialization in general, please read the [saved model guide](../../guide/saved_model.ipynb), and the [Keras model serialization guide](../../guide/keras/save_and_serialize.ipynb). Let's start with a simple example: "
   ]
  },
  {
   "cell_type": "markdown",
   "metadata": {
    "colab_type": "text",
    "id": "FITHltVKQ4eZ"
   },
   "source": [
    "Import dependencies:"
   ]
  },
  {
   "cell_type": "code",
   "execution_count": 2,
   "metadata": {
    "colab": {},
    "colab_type": "code",
    "id": "RWG5HchAiOrZ"
   },
   "outputs": [],
   "source": [
    "from __future__ import absolute_import, division, print_function, unicode_literals\n",
    "\n",
    "try:\n",
    "  # %tensorflow_version only exists in Colab.\n",
    "  %tensorflow_version 2.x\n",
    "except Exception:\n",
    "  pass\n",
    "import tensorflow_datasets as tfds\n",
    "\n",
    "import tensorflow as tf\n",
    "tfds.disable_progress_bar()"
   ]
  },
  {
   "cell_type": "markdown",
   "metadata": {
    "colab_type": "text",
    "id": "qqapWj98ptNV"
   },
   "source": [
    "Prepare the data and model using `tf.distribute.Strategy`:"
   ]
  },
  {
   "cell_type": "code",
   "execution_count": 3,
   "metadata": {
    "colab": {},
    "colab_type": "code",
    "id": "yrYiAf_ziRyw"
   },
   "outputs": [
    {
     "name": "stdout",
     "output_type": "stream",
     "text": [
      "INFO:tensorflow:Using MirroredStrategy with devices ('/job:localhost/replica:0/task:0/device:GPU:0',)\n"
     ]
    }
   ],
   "source": [
    "mirrored_strategy = tf.distribute.MirroredStrategy()\n",
    "\n",
    "def get_data():\n",
    "  datasets, ds_info = tfds.load(name='mnist', with_info=True, as_supervised=True)\n",
    "  mnist_train, mnist_test = datasets['train'], datasets['test']\n",
    "\n",
    "  BUFFER_SIZE = 10000\n",
    "\n",
    "  BATCH_SIZE_PER_REPLICA = 64\n",
    "  BATCH_SIZE = BATCH_SIZE_PER_REPLICA * mirrored_strategy.num_replicas_in_sync\n",
    "\n",
    "  def scale(image, label):\n",
    "    image = tf.cast(image, tf.float32)\n",
    "    image /= 255\n",
    "\n",
    "    return image, label\n",
    "\n",
    "  train_dataset = mnist_train.map(scale).cache().shuffle(BUFFER_SIZE).batch(BATCH_SIZE)\n",
    "  eval_dataset = mnist_test.map(scale).batch(BATCH_SIZE)\n",
    "\n",
    "  return train_dataset, eval_dataset\n",
    "\n",
    "def get_model():\n",
    "  with mirrored_strategy.scope():\n",
    "    model = tf.keras.Sequential([\n",
    "        tf.keras.layers.Conv2D(32, 3, activation='relu', input_shape=(28, 28, 1)),\n",
    "        tf.keras.layers.MaxPooling2D(),\n",
    "        tf.keras.layers.Flatten(),\n",
    "        tf.keras.layers.Dense(64, activation='relu'),\n",
    "        tf.keras.layers.Dense(10)\n",
    "    ])\n",
    "\n",
    "    model.compile(loss=tf.keras.losses.SparseCategoricalCrossentropy(from_logits=True),\n",
    "                  optimizer=tf.keras.optimizers.Adam(),\n",
    "                  metrics=['accuracy'])\n",
    "    return model"
   ]
  },
  {
   "cell_type": "markdown",
   "metadata": {
    "colab_type": "text",
    "id": "qmU4Y3feS9Na"
   },
   "source": [
    "Train the model: "
   ]
  },
  {
   "cell_type": "code",
   "execution_count": 4,
   "metadata": {
    "colab": {},
    "colab_type": "code",
    "id": "zmGurbJmS_vN"
   },
   "outputs": [
    {
     "name": "stdout",
     "output_type": "stream",
     "text": [
      "INFO:tensorflow:Reduce to /job:localhost/replica:0/task:0/device:CPU:0 then broadcast to ('/job:localhost/replica:0/task:0/device:CPU:0',).\n",
      "INFO:tensorflow:Reduce to /job:localhost/replica:0/task:0/device:CPU:0 then broadcast to ('/job:localhost/replica:0/task:0/device:CPU:0',).\n",
      "Epoch 1/2\n",
      "INFO:tensorflow:Reduce to /job:localhost/replica:0/task:0/device:CPU:0 then broadcast to ('/job:localhost/replica:0/task:0/device:CPU:0',).\n"
     ]
    },
    {
     "name": "stderr",
     "output_type": "stream",
     "text": [
      "INFO:tensorflow:Reduce to /job:localhost/replica:0/task:0/device:CPU:0 then broadcast to ('/job:localhost/replica:0/task:0/device:CPU:0',).\n"
     ]
    },
    {
     "name": "stdout",
     "output_type": "stream",
     "text": [
      "INFO:tensorflow:Reduce to /job:localhost/replica:0/task:0/device:CPU:0 then broadcast to ('/job:localhost/replica:0/task:0/device:CPU:0',).\n"
     ]
    },
    {
     "name": "stderr",
     "output_type": "stream",
     "text": [
      "INFO:tensorflow:Reduce to /job:localhost/replica:0/task:0/device:CPU:0 then broadcast to ('/job:localhost/replica:0/task:0/device:CPU:0',).\n"
     ]
    },
    {
     "name": "stdout",
     "output_type": "stream",
     "text": [
      "INFO:tensorflow:Reduce to /job:localhost/replica:0/task:0/device:CPU:0 then broadcast to ('/job:localhost/replica:0/task:0/device:CPU:0',).\n"
     ]
    },
    {
     "name": "stderr",
     "output_type": "stream",
     "text": [
      "INFO:tensorflow:Reduce to /job:localhost/replica:0/task:0/device:CPU:0 then broadcast to ('/job:localhost/replica:0/task:0/device:CPU:0',).\n"
     ]
    },
    {
     "name": "stdout",
     "output_type": "stream",
     "text": [
      "INFO:tensorflow:Reduce to /job:localhost/replica:0/task:0/device:CPU:0 then broadcast to ('/job:localhost/replica:0/task:0/device:CPU:0',).\n"
     ]
    },
    {
     "name": "stderr",
     "output_type": "stream",
     "text": [
      "INFO:tensorflow:Reduce to /job:localhost/replica:0/task:0/device:CPU:0 then broadcast to ('/job:localhost/replica:0/task:0/device:CPU:0',).\n"
     ]
    },
    {
     "name": "stdout",
     "output_type": "stream",
     "text": [
      "938/938 [==============================] - 7s 8ms/step - loss: 0.2081 - accuracy: 0.9400\n",
      "Epoch 2/2\n",
      "938/938 [==============================] - 3s 3ms/step - loss: 0.0674 - accuracy: 0.9800\n"
     ]
    },
    {
     "data": {
      "text/plain": [
       "<tensorflow.python.keras.callbacks.History at 0x7fafd81be208>"
      ]
     },
     "execution_count": 4,
     "metadata": {},
     "output_type": "execute_result"
    }
   ],
   "source": [
    "model = get_model()\n",
    "train_dataset, eval_dataset = get_data()\n",
    "model.fit(train_dataset, epochs=2)"
   ]
  },
  {
   "cell_type": "markdown",
   "metadata": {
    "colab_type": "text",
    "id": "L01wjgvRizHS"
   },
   "source": [
    "## Save and load the model\n",
    "\n",
    "Now that you have a simple model to work with, let's take a look at the saving/loading APIs. \n",
    "There are two sets of APIs available:\n",
    "\n",
    "*   High level keras `model.save` and `tf.keras.models.load_model`\n",
    "*   Low level `tf.saved_model.save` and `tf.saved_model.load`\n",
    "\n"
   ]
  },
  {
   "cell_type": "markdown",
   "metadata": {
    "colab_type": "text",
    "id": "FX_IF2F1tvFs"
   },
   "source": [
    "### The Keras APIs"
   ]
  },
  {
   "cell_type": "markdown",
   "metadata": {
    "colab_type": "text",
    "id": "O8xfceg4Z3H_"
   },
   "source": [
    "Here is an example of saving and loading a model with the Keras APIs:"
   ]
  },
  {
   "cell_type": "code",
   "execution_count": 5,
   "metadata": {
    "colab": {},
    "colab_type": "code",
    "id": "LYOStjV5knTQ"
   },
   "outputs": [
    {
     "name": "stdout",
     "output_type": "stream",
     "text": [
      "WARNING:tensorflow:From /tmpfs/src/tf_docs_env/lib/python3.6/site-packages/tensorflow_core/python/ops/resource_variable_ops.py:1786: calling BaseResourceVariable.__init__ (from tensorflow.python.ops.resource_variable_ops) with constraint is deprecated and will be removed in a future version.\n",
      "Instructions for updating:\n",
      "If using Keras pass *_constraint arguments to layers.\n"
     ]
    },
    {
     "name": "stderr",
     "output_type": "stream",
     "text": [
      "WARNING:tensorflow:From /tmpfs/src/tf_docs_env/lib/python3.6/site-packages/tensorflow_core/python/ops/resource_variable_ops.py:1786: calling BaseResourceVariable.__init__ (from tensorflow.python.ops.resource_variable_ops) with constraint is deprecated and will be removed in a future version.\n",
      "Instructions for updating:\n",
      "If using Keras pass *_constraint arguments to layers.\n"
     ]
    },
    {
     "name": "stdout",
     "output_type": "stream",
     "text": [
      "INFO:tensorflow:Assets written to: /tmp/keras_save/assets\n"
     ]
    },
    {
     "name": "stderr",
     "output_type": "stream",
     "text": [
      "INFO:tensorflow:Assets written to: /tmp/keras_save/assets\n"
     ]
    }
   ],
   "source": [
    "keras_model_path = \"/tmp/keras_save\"\n",
    "model.save(keras_model_path)  # save() should be called out of strategy scope"
   ]
  },
  {
   "cell_type": "markdown",
   "metadata": {
    "colab_type": "text",
    "id": "yvQIdQp3zNMp"
   },
   "source": [
    "Restore the model without `tf.distribute.Strategy`:"
   ]
  },
  {
   "cell_type": "code",
   "execution_count": 6,
   "metadata": {
    "colab": {},
    "colab_type": "code",
    "id": "WrXAAVtrzRgv"
   },
   "outputs": [
    {
     "name": "stdout",
     "output_type": "stream",
     "text": [
      "Epoch 1/2\n",
      "938/938 [==============================] - 5s 5ms/step - loss: 0.0485 - accuracy: 0.9853\n",
      "Epoch 2/2\n",
      "938/938 [==============================] - 2s 3ms/step - loss: 0.0332 - accuracy: 0.9899\n"
     ]
    },
    {
     "data": {
      "text/plain": [
       "<tensorflow.python.keras.callbacks.History at 0x7fafd816d780>"
      ]
     },
     "execution_count": 6,
     "metadata": {},
     "output_type": "execute_result"
    }
   ],
   "source": [
    "restored_keras_model = tf.keras.models.load_model(keras_model_path)\n",
    "restored_keras_model.fit(train_dataset, epochs=2)"
   ]
  },
  {
   "cell_type": "markdown",
   "metadata": {
    "colab_type": "text",
    "id": "gYAnskzorda-"
   },
   "source": [
    "After restoring the model, you can continue training on it, even without needing to call `compile()` again, since it is already compiled before saving. The model is saved in the TensorFlow's standard `SavedModel` proto format. For more information, please refer to [the guide to `saved_model` format](../../guide/saved_model.ipynb).\n",
    "\n",
    "It is important to only call the `model.save()` method out of the scope of `tf.distribute.strategy`. Calling it within the scope is not supported.\n",
    "\n",
    "Now to load the model and train it using a `tf.distribute.Strategy`:"
   ]
  },
  {
   "cell_type": "code",
   "execution_count": 7,
   "metadata": {
    "colab": {},
    "colab_type": "code",
    "id": "wROPrJaAqBQz"
   },
   "outputs": [
    {
     "name": "stdout",
     "output_type": "stream",
     "text": [
      "Epoch 1/2\n",
      "938/938 [==============================] - 15s 15ms/step - loss: 0.0478 - accuracy: 0.9855\n",
      "Epoch 2/2\n",
      "938/938 [==============================] - 11s 12ms/step - loss: 0.0334 - accuracy: 0.9894\n"
     ]
    }
   ],
   "source": [
    "another_strategy = tf.distribute.OneDeviceStrategy(\"/cpu:0\")\n",
    "with another_strategy.scope():\n",
    "  restored_keras_model_ds = tf.keras.models.load_model(keras_model_path)\n",
    "  restored_keras_model_ds.fit(train_dataset, epochs=2)"
   ]
  },
  {
   "cell_type": "markdown",
   "metadata": {
    "colab_type": "text",
    "id": "PdiiPmL5tQk5"
   },
   "source": [
    "As you can see, loading works as expected with `tf.distribute.Strategy`. The strategy used here does not have to be the same strategy used before saving. "
   ]
  },
  {
   "cell_type": "markdown",
   "metadata": {
    "colab_type": "text",
    "id": "3CrXIbmFt0f6"
   },
   "source": [
    "### The `tf.saved_model` APIs"
   ]
  },
  {
   "cell_type": "markdown",
   "metadata": {
    "colab_type": "text",
    "id": "HtGzPp6et4Em"
   },
   "source": [
    "Now let's take a look at the lower level APIs. Saving the model is similar to the keras API:"
   ]
  },
  {
   "cell_type": "code",
   "execution_count": 8,
   "metadata": {
    "colab": {},
    "colab_type": "code",
    "id": "4y6T31APuCqK"
   },
   "outputs": [
    {
     "name": "stdout",
     "output_type": "stream",
     "text": [
      "INFO:tensorflow:Reduce to /job:localhost/replica:0/task:0/device:CPU:0 then broadcast to ('/job:localhost/replica:0/task:0/device:CPU:0',).\n"
     ]
    },
    {
     "name": "stderr",
     "output_type": "stream",
     "text": [
      "INFO:tensorflow:Reduce to /job:localhost/replica:0/task:0/device:CPU:0 then broadcast to ('/job:localhost/replica:0/task:0/device:CPU:0',).\n"
     ]
    },
    {
     "name": "stdout",
     "output_type": "stream",
     "text": [
      "INFO:tensorflow:Reduce to /job:localhost/replica:0/task:0/device:CPU:0 then broadcast to ('/job:localhost/replica:0/task:0/device:CPU:0',).\n"
     ]
    },
    {
     "name": "stderr",
     "output_type": "stream",
     "text": [
      "INFO:tensorflow:Reduce to /job:localhost/replica:0/task:0/device:CPU:0 then broadcast to ('/job:localhost/replica:0/task:0/device:CPU:0',).\n"
     ]
    },
    {
     "name": "stdout",
     "output_type": "stream",
     "text": [
      "INFO:tensorflow:Assets written to: /tmp/tf_save/assets\n"
     ]
    },
    {
     "name": "stderr",
     "output_type": "stream",
     "text": [
      "INFO:tensorflow:Assets written to: /tmp/tf_save/assets\n"
     ]
    }
   ],
   "source": [
    "model = get_model()  # get a fresh model\n",
    "saved_model_path = \"/tmp/tf_save\"\n",
    "tf.saved_model.save(model, saved_model_path)"
   ]
  },
  {
   "cell_type": "markdown",
   "metadata": {
    "colab_type": "text",
    "id": "q1QNRYcwuRll"
   },
   "source": [
    "Loading can be done with `tf.saved_model.load()`. However, since it is an API that is on the lower level (and hence has a wider range of use cases), it does not return a Keras model. Instead, it returns an object that contain functions that can be used to do inference. For example:"
   ]
  },
  {
   "cell_type": "code",
   "execution_count": 9,
   "metadata": {
    "colab": {},
    "colab_type": "code",
    "id": "aaEKqBSPwAuM"
   },
   "outputs": [],
   "source": [
    "DEFAULT_FUNCTION_KEY = \"serving_default\"\n",
    "loaded = tf.saved_model.load(saved_model_path)\n",
    "inference_func = loaded.signatures[DEFAULT_FUNCTION_KEY]"
   ]
  },
  {
   "cell_type": "markdown",
   "metadata": {
    "colab_type": "text",
    "id": "x65l7AaHUZCA"
   },
   "source": [
    "The loaded object may contain multiple functions, each associated with a key. The `\"serving_default\"` is the default key for the inference function with a saved Keras model. To do an inference with this function: "
   ]
  },
  {
   "cell_type": "code",
   "execution_count": 10,
   "metadata": {
    "colab": {},
    "colab_type": "code",
    "id": "5Ore5q8-UjW1"
   },
   "outputs": [
    {
     "name": "stdout",
     "output_type": "stream",
     "text": [
      "{'dense_3': <tf.Tensor: shape=(64, 10), dtype=float32, numpy=\n",
      "array([[-8.46133381e-02, -1.31282121e-01,  2.65758783e-01,\n",
      "        -4.10972722e-02, -6.51541874e-02, -2.13254347e-01,\n",
      "        -6.04696311e-02, -5.41921556e-02,  2.60099396e-02,\n",
      "         2.49187350e-01],\n",
      "       [-2.20267940e-03, -1.15380697e-01,  2.93710232e-01,\n",
      "        -1.74626961e-01, -1.24501094e-01, -2.50175983e-01,\n",
      "        -6.61163777e-02,  3.49787362e-02, -1.51527897e-02,\n",
      "         1.39894634e-01],\n",
      "       [ 4.64679003e-02, -8.86261016e-02,  2.90625066e-01,\n",
      "        -1.05952151e-01, -1.43543407e-02, -2.18991488e-01,\n",
      "         7.05054700e-02,  1.65892869e-01,  1.33684218e-01,\n",
      "        -3.89287993e-02],\n",
      "       [ 5.73293120e-02, -7.52763450e-03,  5.52243181e-02,\n",
      "         4.99192663e-02, -1.47672836e-04, -8.02944675e-02,\n",
      "        -8.71115923e-02,  6.76483512e-02, -4.38953862e-02,\n",
      "         7.37510249e-02],\n",
      "       [ 5.18211052e-02, -2.49656700e-02,  1.58028290e-01,\n",
      "         5.84240071e-02, -6.65939450e-02, -1.53649434e-01,\n",
      "        -9.33304504e-02,  9.23105776e-02, -8.56190324e-02,\n",
      "         1.49734870e-01],\n",
      "       [ 2.00390015e-02,  2.19091121e-03,  2.54683256e-01,\n",
      "         1.43345147e-02, -8.44969153e-02, -1.31210670e-01,\n",
      "        -1.58189237e-03, -7.26271048e-03, -7.67849535e-02,\n",
      "         3.59406769e-02],\n",
      "       [-1.76437981e-02,  4.01297659e-02,  1.29757315e-01,\n",
      "        -6.36001453e-02, -1.05509073e-01, -1.28673106e-01,\n",
      "         5.92026301e-03,  6.12984896e-02, -8.88348520e-02,\n",
      "         1.69044882e-02],\n",
      "       [-1.05287172e-02,  4.06845398e-02,  2.41144270e-01,\n",
      "         6.99539706e-02, -1.27907144e-02, -9.27720666e-02,\n",
      "         1.14685148e-02,  1.01970688e-01, -5.89239970e-02,\n",
      "         2.91512161e-03],\n",
      "       [-7.65528381e-02,  1.51501736e-02,  3.30586731e-01,\n",
      "        -5.94611987e-02, -8.62603113e-02, -1.83720261e-01,\n",
      "        -9.25089233e-03, -1.85760483e-03, -1.40374050e-01,\n",
      "         1.46149978e-01],\n",
      "       [ 4.41018716e-02,  6.13516271e-02,  9.26612914e-02,\n",
      "         4.79273275e-02,  3.38655002e-02, -2.45912448e-02,\n",
      "        -7.82388300e-02,  8.83985162e-02, -5.41481040e-02,\n",
      "         3.15001421e-02],\n",
      "       [ 3.99992242e-02, -9.79965087e-03,  2.51849174e-01,\n",
      "         4.94471379e-03, -1.14462771e-01, -8.41852129e-02,\n",
      "        -1.07395969e-01,  3.56220677e-02, -1.15996562e-02,\n",
      "         5.01057357e-02],\n",
      "       [-1.02574369e-02, -6.52823970e-03,  1.18765593e-01,\n",
      "        -6.58296794e-02, -3.55613530e-02, -7.94926062e-02,\n",
      "         3.77621688e-02,  7.81687647e-02, -9.11619365e-02,\n",
      "         7.01934546e-02],\n",
      "       [ 5.50818965e-02,  3.82313356e-02,  2.82494009e-01,\n",
      "         3.63174006e-02, -8.88176560e-02, -2.49599755e-01,\n",
      "        -2.06121653e-02,  2.55667940e-02, -4.02444303e-02,\n",
      "         6.60424307e-02],\n",
      "       [ 4.58232872e-02, -1.38866901e-02,  3.56400877e-01,\n",
      "        -3.41592506e-02,  3.83347720e-02, -1.75669104e-01,\n",
      "        -1.05549417e-01,  1.35753855e-01, -1.26876056e-01,\n",
      "         1.21689476e-01],\n",
      "       [-2.29465291e-02, -2.04740167e-02,  3.15937161e-01,\n",
      "        -5.32575361e-02, -2.56718248e-02, -1.49823338e-01,\n",
      "        -8.68542716e-02,  7.86976218e-02, -9.66655761e-02,\n",
      "         1.00967377e-01],\n",
      "       [ 1.15674995e-02,  5.02865352e-02,  1.87114626e-01,\n",
      "         1.17167383e-02,  1.33340843e-02, -8.20659548e-02,\n",
      "         5.97711056e-02,  1.59660429e-01,  5.88770956e-03,\n",
      "        -1.58366784e-02],\n",
      "       [-1.07254162e-01,  3.34991030e-02,  1.39934391e-01,\n",
      "         8.48792121e-02,  2.74892226e-02, -1.23385787e-01,\n",
      "         6.54411912e-02,  6.98461086e-02,  7.37568587e-02,\n",
      "         1.25681609e-03],\n",
      "       [ 1.18699133e-01, -3.36477533e-03,  1.00428842e-01,\n",
      "         1.15878105e-01, -1.46546289e-02, -1.24424547e-01,\n",
      "        -6.56835139e-02,  7.29089975e-02, -7.77038857e-02,\n",
      "         1.07993945e-01],\n",
      "       [ 4.28263918e-02,  1.17953345e-02,  3.78801882e-01,\n",
      "        -2.23902594e-02, -2.85053011e-02, -1.85309470e-01,\n",
      "        -8.16311538e-02,  2.92239189e-02,  5.41131571e-03,\n",
      "         7.09837005e-02],\n",
      "       [ 5.01538329e-02, -2.83143893e-02,  2.36916929e-01,\n",
      "        -1.57414377e-02,  1.59144364e-02, -8.77688304e-02,\n",
      "        -1.30305931e-01,  1.27805620e-01, -7.07340911e-02,\n",
      "         1.49090648e-01],\n",
      "       [ 1.34115010e-01, -5.49243391e-03,  1.36912510e-01,\n",
      "         6.09148368e-02,  2.25635432e-02, -1.54823408e-01,\n",
      "        -1.85546316e-02,  7.36690462e-02,  1.30078867e-02,\n",
      "        -4.89099137e-03],\n",
      "       [ 9.49551761e-02,  1.26659563e-02,  2.40871549e-01,\n",
      "        -1.99941061e-02, -1.00353330e-01, -7.43383989e-02,\n",
      "        -6.45832121e-02,  2.24377215e-03,  3.30737680e-02,\n",
      "         2.25199182e-02],\n",
      "       [ 1.09767914e-01,  3.09550464e-02,  4.80253436e-02,\n",
      "         1.19388700e-01, -3.49446647e-02, -1.38068259e-01,\n",
      "        -8.81163403e-02,  4.00813334e-02, -6.26434088e-02,\n",
      "         1.50467798e-01],\n",
      "       [ 1.06892563e-01, -6.41002730e-02,  1.77948460e-01,\n",
      "        -7.83664584e-02, -1.07740253e-01, -1.63658023e-01,\n",
      "        -1.21517569e-01, -4.97993454e-03,  4.19570319e-02,\n",
      "         8.54448751e-02],\n",
      "       [ 1.96593590e-02,  4.67042178e-02,  2.09455892e-01,\n",
      "         2.77431905e-02, -2.14039739e-02, -1.51476353e-01,\n",
      "        -3.68707553e-02, -6.88613579e-03, -1.29091203e-01,\n",
      "         1.57791138e-01],\n",
      "       [ 6.07343391e-03,  3.21646780e-03,  2.31122345e-01,\n",
      "        -9.04801488e-03,  4.47967276e-02, -1.48868829e-01,\n",
      "        -9.25197303e-02,  1.41645908e-01, -2.03902572e-02,\n",
      "         1.67055905e-01],\n",
      "       [ 1.47065120e-02,  4.30343859e-02,  1.97781235e-01,\n",
      "         1.74384713e-02, -2.72650234e-02, -1.36845708e-01,\n",
      "         1.26714725e-02,  6.78004324e-02, -7.40377605e-03,\n",
      "        -3.47933024e-02],\n",
      "       [-6.01167977e-03,  8.47301912e-03,  3.13026130e-01,\n",
      "        -1.54885128e-02, -5.45223616e-02, -2.02819437e-01,\n",
      "         7.25384429e-03,  4.93423268e-02, -8.20759982e-02,\n",
      "        -4.80481647e-02],\n",
      "       [ 5.60664497e-02, -2.35320628e-03,  1.07978344e-01,\n",
      "         2.66107228e-02, -4.27441709e-02, -9.68601033e-02,\n",
      "        -1.30278423e-01,  1.01308286e-01, -4.64114062e-02,\n",
      "         9.54798460e-02],\n",
      "       [ 4.67717275e-02, -5.50605431e-02,  2.09614366e-01,\n",
      "         2.97239143e-02, -5.80984801e-02, -1.48328394e-01,\n",
      "        -8.87223408e-02, -1.03448816e-01,  3.85176241e-02,\n",
      "         1.62072137e-01],\n",
      "       [ 9.44254845e-02,  1.05196014e-01,  2.13014573e-01,\n",
      "         3.81047204e-02,  4.79096174e-03, -8.19455534e-02,\n",
      "         1.04876794e-02,  8.07687342e-02, -1.25492990e-01,\n",
      "         2.81285942e-02],\n",
      "       [ 8.31887126e-02, -4.94307280e-03,  2.86519736e-01,\n",
      "         4.05116603e-02, -3.85091119e-02, -1.64870977e-01,\n",
      "        -1.58124298e-01,  8.97692516e-02, -1.11934878e-01,\n",
      "         1.54239982e-01],\n",
      "       [-4.87046987e-02,  1.53103694e-02,  3.44070017e-01,\n",
      "        -8.63042548e-02, -5.05220741e-02, -2.42022574e-01,\n",
      "        -1.17224999e-01, -2.94270478e-02, -1.11769885e-03,\n",
      "         1.45964414e-01],\n",
      "       [ 2.79354528e-02, -5.67860529e-03,  2.77814329e-01,\n",
      "        -3.60396132e-02, -2.81564016e-02, -1.04825675e-01,\n",
      "        -3.71254906e-02, -4.62124348e-02, -3.63337249e-02,\n",
      "         4.17178683e-02],\n",
      "       [-7.63524026e-02,  1.38893537e-03,  3.97362053e-01,\n",
      "        -8.23705941e-02, -9.72455144e-02, -1.97058439e-01,\n",
      "         2.45043412e-02, -1.46518759e-02, -1.26558989e-01,\n",
      "         4.12685685e-02],\n",
      "       [ 4.79732901e-02,  4.96170968e-02,  1.61334202e-01,\n",
      "        -2.57439539e-02, -2.85917297e-02, -1.63474828e-01,\n",
      "         4.44177575e-02,  9.98701379e-02, -3.13016772e-03,\n",
      "        -3.48764658e-03],\n",
      "       [-7.69308805e-02, -6.99129105e-02,  2.60222286e-01,\n",
      "        -7.60113746e-02, -4.95350361e-02, -2.85879582e-01,\n",
      "        -6.75948039e-02,  9.95937884e-02, -3.55956256e-02,\n",
      "         1.63235173e-01],\n",
      "       [-8.78429934e-02, -1.91320404e-02,  5.50788343e-02,\n",
      "         9.89924371e-03, -2.08004005e-02, -9.03092474e-02,\n",
      "         6.29699901e-02, -6.36878610e-03,  8.57184827e-02,\n",
      "        -1.75885260e-02],\n",
      "       [-3.29388231e-02,  3.11414450e-02,  1.24987140e-01,\n",
      "         5.65162972e-02,  8.36692750e-04, -9.87061113e-02,\n",
      "         2.27653366e-02, -3.45429406e-03, -5.30658662e-03,\n",
      "         9.47342813e-03],\n",
      "       [-2.04925686e-02, -2.28782035e-02,  1.62509501e-01,\n",
      "         2.46295873e-02, -5.73564097e-02, -1.29926562e-01,\n",
      "        -8.56605098e-02, -7.84978271e-04,  6.42388761e-02,\n",
      "         1.23494498e-01],\n",
      "       [ 2.76519638e-02,  3.83119062e-02,  2.92164207e-01,\n",
      "        -1.69466808e-02, -2.42251381e-02, -1.36115387e-01,\n",
      "        -9.74116102e-02,  5.17431237e-02, -1.29884899e-01,\n",
      "         5.58245927e-02],\n",
      "       [-3.99238765e-02, -7.33804628e-02,  2.66604394e-01,\n",
      "        -3.17514986e-02, -1.03255719e-01, -2.39273593e-01,\n",
      "        -7.91963488e-02, -4.28099260e-02,  8.59581828e-02,\n",
      "         1.66200921e-01],\n",
      "       [ 1.07632801e-02, -1.97988488e-02,  3.45527768e-01,\n",
      "        -3.20177637e-02, -1.93189271e-03, -1.69456005e-01,\n",
      "        -5.85185140e-02,  4.74961922e-02,  6.63679242e-02,\n",
      "         9.83736739e-02],\n",
      "       [ 1.02450013e-01, -7.28523210e-02,  9.21201557e-02,\n",
      "        -7.41383433e-03, -4.97130305e-02, -1.32318541e-01,\n",
      "        -6.59840852e-02,  1.66267492e-02, -9.13104191e-02,\n",
      "         1.38485894e-01],\n",
      "       [ 1.08560517e-01, -3.15861553e-02,  1.90855592e-01,\n",
      "         7.74908811e-03, -1.76319908e-02, -1.46205217e-01,\n",
      "        -4.66032922e-02,  7.47822225e-02,  5.71357012e-02,\n",
      "         7.73562714e-02],\n",
      "       [ 7.46061653e-02, -4.35208194e-02,  4.63369638e-02,\n",
      "        -5.92740253e-04, -3.29520255e-02, -1.17269963e-01,\n",
      "        -1.48741707e-01, -4.52088043e-02, -7.26319849e-03,\n",
      "         1.81587413e-01],\n",
      "       [ 2.00481005e-02,  1.73240937e-02,  2.34114945e-01,\n",
      "         4.79131639e-02, -5.10974638e-02, -1.61489934e-01,\n",
      "        -8.32740590e-02, -5.30996844e-02, -5.79116344e-02,\n",
      "         1.01483762e-01],\n",
      "       [-1.79758295e-03,  4.08929512e-02,  1.60567194e-01,\n",
      "        -7.00092018e-02, -4.20792960e-02, -1.67196542e-01,\n",
      "         1.09738402e-01,  8.89184549e-02, -6.19293787e-02,\n",
      "         7.29031116e-02],\n",
      "       [ 2.06607133e-02,  1.17606953e-01,  3.13285947e-01,\n",
      "        -4.66564931e-02, -2.15304606e-02, -4.52568494e-02,\n",
      "        -2.66481191e-03,  6.18717298e-02, -1.14298902e-01,\n",
      "         4.07247804e-02],\n",
      "       [ 3.63344140e-02,  1.94134116e-02,  1.27191067e-01,\n",
      "         4.02512774e-02, -1.94826797e-02, -4.18003686e-02,\n",
      "        -1.01337641e-01,  3.99757251e-02, -2.65138671e-02,\n",
      "         6.41281158e-02],\n",
      "       [ 2.92979199e-02, -4.76009250e-02,  2.31684908e-01,\n",
      "        -9.54808593e-02, -4.48480546e-02, -1.95157751e-01,\n",
      "        -7.72326440e-02,  8.56959149e-02, -7.41732568e-02,\n",
      "         1.38090059e-01],\n",
      "       [ 3.93443555e-03,  4.64195609e-02,  2.91304410e-01,\n",
      "        -8.25731084e-03, -7.50501230e-02, -2.24339008e-01,\n",
      "        -1.84945948e-02,  1.47209335e-02, -4.80127186e-02,\n",
      "         4.30537723e-02],\n",
      "       [ 3.39455232e-02, -2.72693895e-02,  2.42218301e-01,\n",
      "         2.87169088e-02, -3.08131352e-02, -1.73024029e-01,\n",
      "        -5.26776686e-02, -4.36843932e-02,  2.54065543e-02,\n",
      "         7.46967345e-02],\n",
      "       [ 6.73113167e-02, -5.36994264e-02,  1.97936267e-01,\n",
      "         1.68093927e-02, -8.19318295e-02, -2.14357957e-01,\n",
      "        -3.91760133e-02,  2.03082673e-02, -8.88952315e-02,\n",
      "         5.88532314e-02],\n",
      "       [ 7.87847787e-02,  1.81082711e-02,  2.70443708e-01,\n",
      "        -2.18383521e-02, -1.78367272e-03, -1.94983274e-01,\n",
      "         1.45113729e-02,  5.94858304e-02, -6.74410686e-02,\n",
      "         3.64493951e-02],\n",
      "       [ 5.60319945e-02,  2.76790708e-02,  2.98505098e-01,\n",
      "         2.83145159e-03, -1.28905233e-02, -1.65288150e-01,\n",
      "         4.25676480e-02,  3.17922309e-02, -3.86056602e-02,\n",
      "         1.49587523e-02],\n",
      "       [-1.35376723e-02, -6.19342737e-02,  2.47266442e-01,\n",
      "        -7.55283609e-03,  2.16698349e-02, -1.89974189e-01,\n",
      "        -1.01429336e-01,  5.19122854e-02, -9.65768099e-02,\n",
      "         9.29522663e-02],\n",
      "       [ 6.91463798e-03,  4.59287688e-02,  2.71987528e-01,\n",
      "         8.14353675e-03, -9.39843059e-03, -1.30672395e-01,\n",
      "        -7.08732381e-02,  8.57475251e-02, -6.21669460e-03,\n",
      "         8.94982368e-02],\n",
      "       [-1.60094872e-02,  4.48796116e-02,  3.19357365e-01,\n",
      "        -1.91422142e-02, -4.05204669e-02, -1.65924653e-01,\n",
      "        -8.51545036e-02,  1.09433599e-01, -8.80637020e-02,\n",
      "        -8.74966383e-04],\n",
      "       [ 1.16904527e-01, -2.95846239e-02,  1.38782889e-01,\n",
      "         7.72786140e-02, -1.26583561e-01, -1.47384942e-01,\n",
      "        -2.98516117e-02, -3.76694389e-02, -5.68401664e-02,\n",
      "         7.77238458e-02],\n",
      "       [ 7.57321119e-02, -7.65393004e-02,  2.64463842e-01,\n",
      "         2.55052876e-02,  6.12383895e-02, -1.49567470e-01,\n",
      "        -1.14504024e-02, -3.24010402e-02, -1.65083669e-02,\n",
      "         1.16826102e-01],\n",
      "       [ 8.68763216e-03, -7.84772635e-02,  1.23941429e-01,\n",
      "         3.62178348e-02, -8.82297754e-02, -2.03688383e-01,\n",
      "         8.52601230e-03,  4.07078490e-02, -7.36373216e-02,\n",
      "         3.57863270e-02],\n",
      "       [-5.23344353e-02,  8.21704268e-02,  1.25521719e-01,\n",
      "        -1.82643104e-02,  3.33050154e-02, -5.44994231e-03,\n",
      "         9.90967155e-02,  8.18108320e-02, -2.64877081e-03,\n",
      "        -1.09475888e-02],\n",
      "       [ 5.19686788e-02,  9.99641418e-03,  4.25076544e-01,\n",
      "        -1.07951276e-02, -1.17563680e-02, -2.12649345e-01,\n",
      "         2.07218044e-02,  6.89848289e-02, -2.75786966e-03,\n",
      "         2.97051184e-02]], dtype=float32)>}\n"
     ]
    }
   ],
   "source": [
    "predict_dataset = eval_dataset.map(lambda image, label: image)\n",
    "for batch in predict_dataset.take(1):\n",
    "  print(inference_func(batch))"
   ]
  },
  {
   "cell_type": "markdown",
   "metadata": {
    "colab_type": "text",
    "id": "osB1LY8WwUJZ"
   },
   "source": [
    "You can also load and do inference in a distributed manner:"
   ]
  },
  {
   "cell_type": "code",
   "execution_count": 11,
   "metadata": {
    "colab": {},
    "colab_type": "code",
    "id": "iDYvu12zYTmT"
   },
   "outputs": [
    {
     "name": "stdout",
     "output_type": "stream",
     "text": [
      "INFO:tensorflow:Using MirroredStrategy with devices ('/job:localhost/replica:0/task:0/device:GPU:0',)\n"
     ]
    },
    {
     "name": "stderr",
     "output_type": "stream",
     "text": [
      "INFO:tensorflow:Using MirroredStrategy with devices ('/job:localhost/replica:0/task:0/device:GPU:0',)\n"
     ]
    },
    {
     "name": "stdout",
     "output_type": "stream",
     "text": [
      "INFO:tensorflow:Reduce to /job:localhost/replica:0/task:0/device:CPU:0 then broadcast to ('/job:localhost/replica:0/task:0/device:CPU:0',).\n"
     ]
    },
    {
     "name": "stderr",
     "output_type": "stream",
     "text": [
      "INFO:tensorflow:Reduce to /job:localhost/replica:0/task:0/device:CPU:0 then broadcast to ('/job:localhost/replica:0/task:0/device:CPU:0',).\n"
     ]
    },
    {
     "name": "stdout",
     "output_type": "stream",
     "text": [
      "INFO:tensorflow:Reduce to /job:localhost/replica:0/task:0/device:CPU:0 then broadcast to ('/job:localhost/replica:0/task:0/device:CPU:0',).\n"
     ]
    },
    {
     "name": "stderr",
     "output_type": "stream",
     "text": [
      "INFO:tensorflow:Reduce to /job:localhost/replica:0/task:0/device:CPU:0 then broadcast to ('/job:localhost/replica:0/task:0/device:CPU:0',).\n"
     ]
    },
    {
     "name": "stdout",
     "output_type": "stream",
     "text": [
      "WARNING:tensorflow:Using MirroredStrategy eagerly has significant overhead currently. We will be working on improving this in the future, but for now please wrap `call_for_each_replica` or `experimental_run` or `experimental_run_v2` inside a tf.function to get the best performance.\n"
     ]
    },
    {
     "name": "stderr",
     "output_type": "stream",
     "text": [
      "WARNING:tensorflow:Using MirroredStrategy eagerly has significant overhead currently. We will be working on improving this in the future, but for now please wrap `call_for_each_replica` or `experimental_run` or `experimental_run_v2` inside a tf.function to get the best performance.\n"
     ]
    },
    {
     "name": "stdout",
     "output_type": "stream",
     "text": [
      "WARNING:tensorflow:Using MirroredStrategy eagerly has significant overhead currently. We will be working on improving this in the future, but for now please wrap `call_for_each_replica` or `experimental_run` or `experimental_run_v2` inside a tf.function to get the best performance.\n"
     ]
    },
    {
     "name": "stderr",
     "output_type": "stream",
     "text": [
      "WARNING:tensorflow:Using MirroredStrategy eagerly has significant overhead currently. We will be working on improving this in the future, but for now please wrap `call_for_each_replica` or `experimental_run` or `experimental_run_v2` inside a tf.function to get the best performance.\n"
     ]
    },
    {
     "name": "stdout",
     "output_type": "stream",
     "text": [
      "WARNING:tensorflow:Using MirroredStrategy eagerly has significant overhead currently. We will be working on improving this in the future, but for now please wrap `call_for_each_replica` or `experimental_run` or `experimental_run_v2` inside a tf.function to get the best performance.\n"
     ]
    },
    {
     "name": "stderr",
     "output_type": "stream",
     "text": [
      "WARNING:tensorflow:Using MirroredStrategy eagerly has significant overhead currently. We will be working on improving this in the future, but for now please wrap `call_for_each_replica` or `experimental_run` or `experimental_run_v2` inside a tf.function to get the best performance.\n"
     ]
    },
    {
     "name": "stdout",
     "output_type": "stream",
     "text": [
      "WARNING:tensorflow:Using MirroredStrategy eagerly has significant overhead currently. We will be working on improving this in the future, but for now please wrap `call_for_each_replica` or `experimental_run` or `experimental_run_v2` inside a tf.function to get the best performance.\n"
     ]
    },
    {
     "name": "stderr",
     "output_type": "stream",
     "text": [
      "WARNING:tensorflow:Using MirroredStrategy eagerly has significant overhead currently. We will be working on improving this in the future, but for now please wrap `call_for_each_replica` or `experimental_run` or `experimental_run_v2` inside a tf.function to get the best performance.\n"
     ]
    },
    {
     "name": "stdout",
     "output_type": "stream",
     "text": [
      "WARNING:tensorflow:Using MirroredStrategy eagerly has significant overhead currently. We will be working on improving this in the future, but for now please wrap `call_for_each_replica` or `experimental_run` or `experimental_run_v2` inside a tf.function to get the best performance.\n"
     ]
    },
    {
     "name": "stderr",
     "output_type": "stream",
     "text": [
      "WARNING:tensorflow:Using MirroredStrategy eagerly has significant overhead currently. We will be working on improving this in the future, but for now please wrap `call_for_each_replica` or `experimental_run` or `experimental_run_v2` inside a tf.function to get the best performance.\n"
     ]
    }
   ],
   "source": [
    "another_strategy = tf.distribute.MirroredStrategy()\n",
    "with another_strategy.scope():\n",
    "  loaded = tf.saved_model.load(saved_model_path)\n",
    "  inference_func = loaded.signatures[DEFAULT_FUNCTION_KEY]\n",
    "\n",
    "  dist_predict_dataset = another_strategy.experimental_distribute_dataset(\n",
    "      predict_dataset)\n",
    "\n",
    "  # Calling the function in a distributed manner\n",
    "  for batch in dist_predict_dataset:\n",
    "    another_strategy.experimental_run_v2(inference_func, \n",
    "                                         args=(batch,))"
   ]
  },
  {
   "cell_type": "markdown",
   "metadata": {
    "colab_type": "text",
    "id": "hWGSukoyw3fF"
   },
   "source": [
    "Calling the restored function is just a forward pass on the saved model (predict). What if yout want to continue training the loaded function? Or embed the loaded function into a bigger model? A common practice is to wrap this loaded object to a Keras layer to achieve this. Luckily, [TF Hub](https://www.tensorflow.org/hub) has [hub.KerasLayer](https://github.com/tensorflow/hub/blob/master/tensorflow_hub/keras_layer.py) for this purpose, shown here:"
   ]
  },
  {
   "cell_type": "code",
   "execution_count": 12,
   "metadata": {
    "colab": {},
    "colab_type": "code",
    "id": "clfk3hQoyKu6"
   },
   "outputs": [
    {
     "name": "stdout",
     "output_type": "stream",
     "text": [
      "INFO:tensorflow:Using MirroredStrategy with devices ('/job:localhost/replica:0/task:0/device:GPU:0',)\n"
     ]
    },
    {
     "name": "stderr",
     "output_type": "stream",
     "text": [
      "INFO:tensorflow:Using MirroredStrategy with devices ('/job:localhost/replica:0/task:0/device:GPU:0',)\n"
     ]
    },
    {
     "name": "stdout",
     "output_type": "stream",
     "text": [
      "Epoch 1/2\n",
      "938/938 [==============================] - 6s 7ms/step - loss: 0.1930 - accuracy: 0.9436\n",
      "Epoch 2/2\n",
      "938/938 [==============================] - 3s 3ms/step - loss: 0.0643 - accuracy: 0.9808\n"
     ]
    }
   ],
   "source": [
    "import tensorflow_hub as hub\n",
    "\n",
    "def build_model(loaded):\n",
    "  x = tf.keras.layers.Input(shape=(28, 28, 1), name='input_x')\n",
    "  # Wrap what's loaded to a KerasLayer\n",
    "  keras_layer = hub.KerasLayer(loaded, trainable=True)(x)\n",
    "  model = tf.keras.Model(x, keras_layer)\n",
    "  return model\n",
    "\n",
    "another_strategy = tf.distribute.MirroredStrategy()\n",
    "with another_strategy.scope():\n",
    "  loaded = tf.saved_model.load(saved_model_path)\n",
    "  model = build_model(loaded)\n",
    "\n",
    "  model.compile(loss=tf.keras.losses.SparseCategoricalCrossentropy(from_logits=True),\n",
    "                optimizer=tf.keras.optimizers.Adam(),\n",
    "                metrics=['accuracy'])\n",
    "  model.fit(train_dataset, epochs=2)"
   ]
  },
  {
   "cell_type": "markdown",
   "metadata": {
    "colab_type": "text",
    "id": "Oe1z_OtSJlu2"
   },
   "source": [
    "As you can see, `hub.KerasLayer` wraps the result loaded back from `tf.saved_model.load()` into a Keras layer that can be used to build another model. This is very useful for transfer learning. "
   ]
  },
  {
   "cell_type": "markdown",
   "metadata": {
    "colab_type": "text",
    "id": "KFDOZpK5Wa3W"
   },
   "source": [
    "### Which API should I use?"
   ]
  },
  {
   "cell_type": "markdown",
   "metadata": {
    "colab_type": "text",
    "id": "GC6GQ9HDLxD6"
   },
   "source": [
    "For saving, if you are working with a keras model, it is almost always recommended to use the Keras's `model.save()` API. If what you are saving is not a Keras model, then the lower level API is your only choice. \n",
    "\n",
    "For loading, which API you use depends on what you want to get from the loading API. If you cannot (or do not want to) get a Keras model, then use `tf.saved_model.load()`. Otherwise, use `tf.keras.models.load_model()`. Note that you can get a Keras model back only if you saved a Keras model. \n",
    "\n",
    "It is possible to mix and match the APIs. You can save a Keras model with `model.save`, and load a non-Keras model with the low-level API, `tf.saved_model.load`. "
   ]
  },
  {
   "cell_type": "code",
   "execution_count": 13,
   "metadata": {
    "colab": {},
    "colab_type": "code",
    "id": "Ktwg2GwnXE8v"
   },
   "outputs": [
    {
     "name": "stdout",
     "output_type": "stream",
     "text": [
      "INFO:tensorflow:Assets written to: /tmp/keras_save/assets\n"
     ]
    },
    {
     "name": "stderr",
     "output_type": "stream",
     "text": [
      "INFO:tensorflow:Assets written to: /tmp/keras_save/assets\n"
     ]
    },
    {
     "name": "stdout",
     "output_type": "stream",
     "text": [
      "INFO:tensorflow:Using MirroredStrategy with devices ('/job:localhost/replica:0/task:0/device:GPU:0',)\n"
     ]
    },
    {
     "name": "stderr",
     "output_type": "stream",
     "text": [
      "INFO:tensorflow:Using MirroredStrategy with devices ('/job:localhost/replica:0/task:0/device:GPU:0',)\n"
     ]
    }
   ],
   "source": [
    "model = get_model()\n",
    "\n",
    "# Saving the model using Keras's save() API\n",
    "model.save(keras_model_path) \n",
    "\n",
    "another_strategy = tf.distribute.MirroredStrategy()\n",
    "# Loading the model using lower level API\n",
    "with another_strategy.scope():\n",
    "  loaded = tf.saved_model.load(keras_model_path)"
   ]
  },
  {
   "cell_type": "markdown",
   "metadata": {
    "colab_type": "text",
    "id": "hJTWOnC9iuA3"
   },
   "source": [
    "### Caveats"
   ]
  },
  {
   "cell_type": "markdown",
   "metadata": {
    "colab_type": "text",
    "id": "Tzog2ti7YYgy"
   },
   "source": [
    "A special case is when you have a Keras model that does not have well-defined inputs. For example, a Sequential model can be created without any input shapes (`Sequential([Dense(3), ...]`). Subclassed models also do not have well-defined inputs after initialization. In this case, you should stick with the lower level APIs on both saving and loading, otherwise you will get an error. \n",
    "\n",
    "To check if your model has well-defined inputs, just check if `model.inputs` is `None`. If it is not `None`, you are all good. Input shapes are automatically defined when the model is used in `.fit`, `.evaluate`, `.predict`, or when calling the model (`model(inputs)`). \n",
    "\n",
    "Here is an example:"
   ]
  },
  {
   "cell_type": "code",
   "execution_count": 14,
   "metadata": {
    "colab": {},
    "colab_type": "code",
    "id": "gurSIbDFjOBc"
   },
   "outputs": [
    {
     "name": "stdout",
     "output_type": "stream",
     "text": [
      "WARNING:tensorflow:Skipping full serialization of Keras model <__main__.SubclassedModel object at 0x7faf58668668>, because its inputs are not defined.\n"
     ]
    },
    {
     "name": "stderr",
     "output_type": "stream",
     "text": [
      "WARNING:tensorflow:Skipping full serialization of Keras model <__main__.SubclassedModel object at 0x7faf58668668>, because its inputs are not defined.\n"
     ]
    },
    {
     "name": "stdout",
     "output_type": "stream",
     "text": [
      "WARNING:tensorflow:Skipping full serialization of Keras layer <tensorflow.python.keras.layers.core.Dense object at 0x7faf586b2320>, because it is not built.\n"
     ]
    },
    {
     "name": "stderr",
     "output_type": "stream",
     "text": [
      "WARNING:tensorflow:Skipping full serialization of Keras layer <tensorflow.python.keras.layers.core.Dense object at 0x7faf586b2320>, because it is not built.\n"
     ]
    },
    {
     "name": "stdout",
     "output_type": "stream",
     "text": [
      "INFO:tensorflow:Assets written to: /tmp/tf_save/assets\n"
     ]
    },
    {
     "name": "stderr",
     "output_type": "stream",
     "text": [
      "INFO:tensorflow:Assets written to: /tmp/tf_save/assets\n"
     ]
    }
   ],
   "source": [
    "class SubclassedModel(tf.keras.Model):\n",
    "\n",
    "  output_name = 'output_layer'\n",
    "\n",
    "  def __init__(self):\n",
    "    super(SubclassedModel, self).__init__()\n",
    "    self._dense_layer = tf.keras.layers.Dense(\n",
    "        5, dtype=tf.dtypes.float32, name=self.output_name)\n",
    "\n",
    "  def call(self, inputs):\n",
    "    return self._dense_layer(inputs)\n",
    "\n",
    "my_model = SubclassedModel()\n",
    "# my_model.save(keras_model_path)  # ERROR! \n",
    "tf.saved_model.save(my_model, saved_model_path)"
   ]
  }
 ],
 "metadata": {
  "colab": {
   "collapsed_sections": [],
   "name": "save_and_load.ipynb",
   "private_outputs": true,
   "provenance": [
    {
     "file_id": "1QfmRqc5bTaHZhu4-FzRTWDiO2d6gr_r1",
     "timestamp": 1560191609957
    }
   ],
   "toc_visible": true
  },
  "kernelspec": {
   "display_name": "Python 3",
   "name": "python3"
  },
  "language_info": {
   "codemirror_mode": {
    "name": "ipython",
    "version": 3
   },
   "file_extension": ".py",
   "mimetype": "text/x-python",
   "name": "python",
   "nbconvert_exporter": "python",
   "pygments_lexer": "ipython3",
   "version": "3.6.9"
  }
 },
 "nbformat": 4,
 "nbformat_minor": 0
}
